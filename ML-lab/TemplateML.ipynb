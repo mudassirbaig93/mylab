{
 "cells": [
  {
   "cell_type": "markdown",
   "metadata": {},
   "source": [
    "## Imports"
   ]
  },
  {
   "cell_type": "code",
   "execution_count": 503,
   "metadata": {},
   "outputs": [],
   "source": [
    "#import basic modules\n",
    "import pandas as pd \n",
    "import numpy as np\n",
    "import seaborn as sb\n",
    "import warnings\n",
    "import matplotlib.pyplot as plt        \n",
    "%matplotlib inline\n",
    "\n",
    "from sklearn import preprocessing\n",
    "\n",
    "#import feature selection modules\n",
    "from sklearn.feature_selection import mutual_info_classif,RFE,RFECV\n",
    "\n",
    "#import classification modules\n",
    "from sklearn.linear_model import LogisticRegression\n",
    "from sklearn.naive_bayes import GaussianNB\n",
    "from sklearn import svm\n",
    "from sklearn.ensemble import RandomForestClassifier\n",
    "from sklearn.ensemble import GradientBoostingClassifier\n",
    "from sklearn.ensemble import AdaBoostClassifier\n",
    "\n",
    "from sklearn.neighbors import KNeighborsClassifier\n",
    "from sklearn.tree import DecisionTreeClassifier\n",
    "\n",
    "from sklearn.neural_network import MLPClassifier\n",
    "\n",
    "#import classification evaluation\n",
    "from sklearn.model_selection import train_test_split\n",
    "from sklearn.model_selection import KFold \n",
    "from sklearn.model_selection import RepeatedKFold\n",
    "from sklearn.model_selection import StratifiedKFold\n",
    "from sklearn.model_selection import StratifiedShuffleSplit\n",
    "from sklearn.metrics import accuracy_score\n",
    "from sklearn.metrics import confusion_matrix\n",
    "from sklearn.metrics import precision_score\n",
    "from sklearn.metrics import recall_score\n",
    "from sklearn.metrics import roc_auc_score\n",
    "from sklearn.metrics import roc_curve \n",
    "from sklearn.metrics import f1_score\n",
    "from sklearn.metrics import auc"
   ]
  },
  {
   "cell_type": "code",
   "execution_count": 504,
   "metadata": {},
   "outputs": [],
   "source": [
    "#warnings.simplefilter(action='ignore', category=FutureWarning)\n",
    "warnings.filterwarnings(action='ignore')\n",
    "sb.set(color_codes=True, font_scale=1.2)"
   ]
  },
  {
   "cell_type": "markdown",
   "metadata": {},
   "source": [
    "## Load Data"
   ]
  },
  {
   "cell_type": "code",
   "execution_count": 505,
   "metadata": {},
   "outputs": [],
   "source": [
    "def load_data(file_name):\n",
    "    def readcsv(file_name):\n",
    "        return pd.read_csv(file_name)\n",
    "    def readexcel(file_name):\n",
    "        return pd.read_excel(file_name)\n",
    "    def readjson(file_name):\n",
    "        return pd.read_json(file_name)\n",
    "    func_map = {\n",
    "        \"csv\": readcsv,\n",
    "        \"xls\": readexcel,\n",
    "        \"xlsx\": readexcel,\n",
    "        \"txt\": readcsv,\n",
    "        \"json\": readjson\n",
    "    }\n",
    "    \n",
    "    # default reader = readcsv\n",
    "    reader = func_map.get(\"csv\")\n",
    "    \n",
    "    for k,v in func_map.items():\n",
    "        if file_name.endswith(k):\n",
    "            reader = v\n",
    "            break\n",
    "    return reader(file_name)"
   ]
  },
  {
   "cell_type": "markdown",
   "metadata": {},
   "source": [
    "## Data Cleanup"
   ]
  },
  {
   "cell_type": "code",
   "execution_count": 529,
   "metadata": {},
   "outputs": [],
   "source": [
    "#data cleaning function\n",
    "def cleaningup(df, to_date=[], to_numeric=[], cols_to_delete=[], fill_na_map={}, cols_to_drop_na_rows=[]):\n",
    "    \"\"\"\n",
    "    We will perform all the generic cleanup stuff in this function,\n",
    "    Data specific stuff should be handled by driver program.\n",
    "    \n",
    "    Mandatory Parameter:\n",
    "    df :            Dataframe to be cleaned\n",
    "    \n",
    "    Optional Parameters:\n",
    "    to_date:        List of columns that are suppossed to contain date\n",
    "    to_numeric:     List of columns that are suppossed to be numeric\n",
    "    cols_to_delete: All the useless columns that we need to delete from our dataset\n",
    "    fill_na_map:    A dictionary containing map for column and a value to be filled in missing places\n",
    "                    e.g. {'age': df['age'].median(), 'city': 'Karachi'}\n",
    "    cols_to_drop_na_rows: List of columns where missing value in not tolerable and we couldn't risk predicting value for it,\n",
    "                          so we drop such rows.\n",
    "    \"\"\"\n",
    "    def change_type_to_date(df, to_date):\n",
    "        # Deal with incorrect data in date column\n",
    "        for i in to_date:\n",
    "            df[i] = pd.to_datetime(df[i], errors='coerce')\n",
    "        return df\n",
    "            \n",
    "    def change_type_to_numeric(df, to_numeric):\n",
    "        # Deal with incorrect data in numeric columns\n",
    "        for i in to_numeric:\n",
    "            df[i] = pd.to_numeric(df[i], errors='coerce')\n",
    "        return df\n",
    "    \n",
    "    def drop_useless_colums(df, cols_to_delete):\n",
    "        # Drop useless columns before dealing with missing values\n",
    "        for i in cols_to_delete:\n",
    "            df = df.drop(i, axis=1)\n",
    "        return df\n",
    "            \n",
    "    def drop_useless_rows(df):\n",
    "        # Drop useless rows before dealing with missing values\n",
    "        # Delete all rows containing 40% or more missing data\n",
    "        min_threshold = math.ceil(len(df.columns)*0.4)\n",
    "        df = df.dropna(thresh=min_threshold)\n",
    "        return df\n",
    "    \n",
    "    def drop_na_rows(df, cols_to_drop_na_rows):\n",
    "        # Drop rows with missing values for the columns specifically provided by the driver program\n",
    "        for i in cols_to_drop_na_rows:\n",
    "            df = df.drop(df[df[i].isnull()].index)\n",
    "        return df\n",
    "    \n",
    "    def fill_na_vals(df, fill_na_map):\n",
    "        # Deal with missing values\n",
    "        for col,val in fill_na_map.items():\n",
    "            df[col].fillna(val, inplace=True)\n",
    "        return df\n",
    "    \n",
    "    try:\n",
    "        df = change_type_to_date(df, to_date)\n",
    "        df = change_type_to_numeric(df, to_numeric)\n",
    "        df = drop_useless_colums(df, cols_to_delete)\n",
    "        df = drop_useless_rows(df)\n",
    "        df = drop_na_rows(df, cols_to_drop_na_rows)\n",
    "        df = fill_na_vals(df, fill_na_map)\n",
    "        print(\"df is all cleaned up..\")\n",
    "        return df\n",
    "    except Exception as e:\n",
    "        print(\"Failed to perform cleanup, exception=%s\" % str(e))\n",
    "    finally:\n",
    "        return df"
   ]
  },
  {
   "cell_type": "markdown",
   "metadata": {},
   "source": [
    "## Data Analysis"
   ]
  },
  {
   "cell_type": "markdown",
   "metadata": {},
   "source": [
    "Perform basic analysis to get familiar with data in hand"
   ]
  },
  {
   "cell_type": "code",
   "execution_count": 507,
   "metadata": {},
   "outputs": [],
   "source": [
    "#basic analysis\n",
    "def basicanalysis(df):\n",
    "    print(\"Shape is:\\n\", df.shape)\n",
    "    print(\"Columns are:\\n\", df.columns)\n",
    "    print(\"Types are:\\n\", df.dtypes)\n",
    "    print(\"Statistical Analysis of Numerical Columns:\\n\", df.describe())"
   ]
  },
  {
   "cell_type": "markdown",
   "metadata": {},
   "source": [
    "Perform basic analysis over categorical columns"
   ]
  },
  {
   "cell_type": "code",
   "execution_count": 508,
   "metadata": {},
   "outputs": [],
   "source": [
    "#string column analysis analysis\n",
    "def stringcolanalysis(df):\n",
    "    stringcols = df.select_dtypes(exclude=np.number)\n",
    "    fig = plt.figure(figsize = (8,10))\n",
    "    for i,col in enumerate(stringcols):\n",
    "        fig.add_subplot(4,2,i+1)\n",
    "        fig.savefig('Categorical.png')\n",
    "        df[col].value_counts().plot(kind = 'bar', color='black' ,fontsize=10)\n",
    "        plt.tight_layout()\n",
    "        plt.title(col)"
   ]
  },
  {
   "cell_type": "markdown",
   "metadata": {},
   "source": [
    "Perform basic analysis over numerical columns"
   ]
  },
  {
   "cell_type": "code",
   "execution_count": 509,
   "metadata": {},
   "outputs": [],
   "source": [
    "#numerical analysis\n",
    "#histograms and boxplots for all numerical columns\n",
    "def numcolanalysis(df):\n",
    "    numcols = df.select_dtypes(include=np.number)\n",
    "    \n",
    "    # Box plot for numerical columns\n",
    "    for col in numcols:\n",
    "        fig = plt.figure(figsize = (5,5))\n",
    "        sb.boxplot(df[col], color='grey', linewidth=1)\n",
    "        plt.tight_layout()\n",
    "        plt.title(col)\n",
    "        plt.savefig(\"Numerical.png\")\n",
    "    \n",
    "    # Lets also plot histograms for these numerical columns\n",
    "    df.hist(column=list(numcols.columns),bins=25, grid=False, figsize=(15,12),\n",
    "                 color='#86bf91', zorder=2, rwidth=0.9)\n"
   ]
  },
  {
   "cell_type": "markdown",
   "metadata": {},
   "source": [
    "Perform basic correlation analysis"
   ]
  },
  {
   "cell_type": "code",
   "execution_count": 510,
   "metadata": {},
   "outputs": [],
   "source": [
    "# Helper function to perform correlation analysis over numerical columns\n",
    "def correlation_anlysis(df):\n",
    "    # NOTE: If label column is non numeric, we need to 'encode' it before calling this function to have a better visibility\n",
    "    numcols = df.select_dtypes(include=np.number)\n",
    "    corr = numcols.corr()\n",
    "    ax = sb.heatmap(\n",
    "    corr, \n",
    "    vmin=-1, vmax=1, center=0,\n",
    "    cmap=sb.diverging_palette(20, 220, n=200),\n",
    "    square=True\n",
    "    )\n",
    "    \n",
    "    ax.set_xticklabels(\n",
    "    ax.get_xticklabels(),\n",
    "    rotation=45,\n",
    "    horizontalalignment='right')\n"
   ]
  },
  {
   "cell_type": "markdown",
   "metadata": {},
   "source": [
    "## Encoding"
   ]
  },
  {
   "cell_type": "markdown",
   "metadata": {},
   "source": [
    "Apply label encoding on specified columns"
   ]
  },
  {
   "cell_type": "code",
   "execution_count": 511,
   "metadata": {},
   "outputs": [],
   "source": [
    "def apply_label_encoding(df, cols=[]):\n",
    "    le = preprocessing.LabelEncoder()\n",
    "    for i in cols:\n",
    "        le.fit(df[i])\n",
    "        #print(list(le.classes_))\n",
    "        df[i] = le.transform(df[i])\n",
    "    return df"
   ]
  },
  {
   "cell_type": "markdown",
   "metadata": {},
   "source": [
    "One-Hot encoding on specified columns"
   ]
  },
  {
   "cell_type": "code",
   "execution_count": 512,
   "metadata": {},
   "outputs": [],
   "source": [
    "def stringcolencoding(df, cols=[]):\n",
    "    label_encoder = preprocessing.LabelEncoder()\n",
    "    onehot_encoder = preprocessing.OneHotEncoder(sparse=False)\n",
    "    for col in cols:\n",
    "        integer_encoded = label_encoder.fit_transform(df[col])\n",
    "        ohe = onehot_encoder.fit_transform(integer_encoded.reshape(-1,1))\n",
    "        dfOneHot = pd.DataFrame(ohe, columns = [col+\"_\"+str(int(i)) for i in range(ohe.shape[1])])\n",
    "        df = pd.concat([df, dfOneHot], axis=1)\n",
    "        df = df.drop(col, axis=1)\n"
   ]
  },
  {
   "cell_type": "markdown",
   "metadata": {},
   "source": [
    "## Train Test Split"
   ]
  },
  {
   "cell_type": "code",
   "execution_count": 530,
   "metadata": {},
   "outputs": [],
   "source": [
    "#splitting manually\n",
    "def traintestsplit(df,split,random=None, label_col=''):\n",
    "    #make a copy of the label column and store in y\n",
    "    y = df[label_col].copy()\n",
    "    #now delete the original\n",
    "    X = df.drop(label_col,axis=1)\n",
    "    #manual split\n",
    "    trainX, testX, trainY, testY= train_test_split(X, y, test_size=split, random_state=random)\n",
    "    return X, trainX, testX, trainY, testY\n"
   ]
  },
  {
   "cell_type": "code",
   "execution_count": 531,
   "metadata": {},
   "outputs": [],
   "source": [
    "def XYsplit(df, label_col):\n",
    "    y = df[label_col].copy()\n",
    "    X = df.drop(label_col,axis=1)\n",
    "    return X,y"
   ]
  },
  {
   "cell_type": "markdown",
   "metadata": {},
   "source": [
    "#### For Cross Validation, lets create generator functions for different cross validation techniques, this will help us run an iterator over all folds"
   ]
  },
  {
   "cell_type": "code",
   "execution_count": 532,
   "metadata": {},
   "outputs": [],
   "source": [
    "def cross_valid_kfold(X, y, split=4, random=None, shuffle=False):\n",
    "    \"\"\"\n",
    "    Generator function for KFold cross validation\n",
    "    \"\"\"\n",
    "    kf = KFold(n_splits=split, random_state=random, shuffle=shuffle)\n",
    "    for train_index, test_index in kf.split(X):\n",
    "        trainX, testX = X.iloc[train_index], X.iloc[test_index] \n",
    "        trainY, testY = y.iloc[train_index], y.iloc[test_index]\n",
    "        yield trainX,trainY,testX,testY\n",
    "    \n",
    "\n",
    "def cross_valid_repeated_kf(X, y, split=4, random=None, repeat=10):\n",
    "    \"\"\"\n",
    "    Generator function for Repeated KFold cross validation\n",
    "    \"\"\"\n",
    "    kf = RepeatedKFold(n_splits=split, random_state=random, n_repeats=repeat)\n",
    "    for train_index, test_index in kf.split(X):\n",
    "        trainX, testX = X.iloc[train_index], X.iloc[test_index] \n",
    "        trainY, testY = y.iloc[train_index], y.iloc[test_index]\n",
    "        yield trainX,trainY,testX,testY\n",
    "        \n",
    "\n",
    "def cross_valid_stratified_kf(X, y, split=4, random=None, shuffle=False):\n",
    "    \"\"\"\n",
    "    Generator function for Stratified KFold cross validation\n",
    "    \"\"\"\n",
    "    skf = StratifiedKFold(n_splits=split, random_state=random, shuffle=shuffle)\n",
    "    for train_index, test_index in skf.split(X, y):\n",
    "        trainX, testX = X.iloc[train_index], X.iloc[test_index] \n",
    "        trainY, testY = y.iloc[train_index], y.iloc[test_index]\n",
    "        yield trainX,trainY,testX,testY\n",
    "\n",
    "\n",
    "def cross_valid_strat_shuffle_kf(X, y, split=4, random=None):\n",
    "    \"\"\"\n",
    "    Generator function for StratifiedShuffle cross validation\n",
    "    \"\"\"\n",
    "    sss = StratifiedShuffleSplit(n_splits=split, random_state=random)\n",
    "    for train_index, test_index in sss.split(X, y):\n",
    "        trainX, testX = X.iloc[train_index], X.iloc[test_index] \n",
    "        trainY, testY = y.iloc[train_index], y.iloc[test_index]\n",
    "        yield trainX,trainY,testX,testY"
   ]
  },
  {
   "cell_type": "markdown",
   "metadata": {},
   "source": [
    "## Validation metrics"
   ]
  },
  {
   "cell_type": "code",
   "execution_count": 533,
   "metadata": {},
   "outputs": [],
   "source": [
    "def validationmetrics(model,testX,testY, verbose=True):\n",
    "    \n",
    "    predictions = model.predict(testX)\n",
    "    \n",
    "    #Accuracy\n",
    "    accuracy = accuracy_score(testY, predictions)*100\n",
    "    \n",
    "    #Precision\n",
    "    precision = precision_score(testY, predictions,pos_label=1,labels=[0,1])*100\n",
    "    \n",
    "    #Recall\n",
    "    recall = recall_score(testY, predictions,pos_label=1,labels=[0,1])*100\n",
    "    \n",
    "    #get FPR (specificity) and TPR (sensitivity)\n",
    "    fpr , tpr, _ = roc_curve(testY, predictions)\n",
    "    \n",
    "    #AUC\n",
    "    auc_val = auc(fpr, tpr)\n",
    "    \n",
    "    #F-Score\n",
    "    f_score = f1_score(testY, predictions)\n",
    "    \n",
    "    if verbose:\n",
    "        print(\"Prediction Vector: \\n\", predictions)\n",
    "        print(\"Accuracy: \\n\", accuracy)\n",
    "        print(\"Precision of event Happening: \\n\", precision)\n",
    "        print(\"Recall of event Happening: \\n\", recall)\n",
    "        print(\"AUC: \\n\",auc_val)\n",
    "        print(\"F-Score:\\n\", f_score)\n",
    "        #confusion Matrix\n",
    "        print(\"Confusion Matrix: \\n\", confusion_matrix(testY, predictions,labels=[0,1]))\n",
    "    \n",
    "    res_map = {\n",
    "                \"accuracy\": accuracy,\n",
    "                \"precision\": precision,\n",
    "                \"recall\": recall,\n",
    "                \"auc_val\": auc_val,\n",
    "                \"f_score\": f_score\n",
    "              }\n",
    "    return res_map"
   ]
  },
  {
   "cell_type": "markdown",
   "metadata": {},
   "source": [
    "## Algorithms"
   ]
  },
  {
   "cell_type": "code",
   "execution_count": 534,
   "metadata": {},
   "outputs": [],
   "source": [
    "def LogReg(trainX, testX, trainY, testY, verbose=True):\n",
    "    clf  = LogisticRegression()\n",
    "    clf.fit(trainX , trainY)\n",
    "    return validationmetrics(clf,testX,testY,verbose=verbose)"
   ]
  },
  {
   "cell_type": "code",
   "execution_count": 535,
   "metadata": {},
   "outputs": [],
   "source": [
    "def KNN(trainX, testX, trainY, testY, verbose=True):\n",
    "    clf = KNeighborsClassifier()\n",
    "    clf.fit(trainX , trainY)\n",
    "    return validationmetrics(clf,testX,testY,verbose=verbose)"
   ]
  },
  {
   "cell_type": "code",
   "execution_count": 536,
   "metadata": {},
   "outputs": [],
   "source": [
    "def GadientBoosting(trainX, testX, trainY, testY, verbose=True):\n",
    "    clf = GradientBoostingClassifier()\n",
    "    clf.fit(trainX , trainY)\n",
    "    return validationmetrics(clf,testX,testY,verbose=verbose)"
   ]
  },
  {
   "cell_type": "code",
   "execution_count": 537,
   "metadata": {},
   "outputs": [],
   "source": [
    "def AdaBoost(trainX, testX, trainY, testY, verbose=True):\n",
    "    clf = AdaBoostClassifier(n_estimators=100, random_state=0)\n",
    "    clf.fit(trainX , trainY)\n",
    "    return validationmetrics(clf,testX,testY,verbose=verbose)"
   ]
  },
  {
   "cell_type": "code",
   "execution_count": 538,
   "metadata": {},
   "outputs": [],
   "source": [
    "def SVM(trainX, testX, trainY, testY, svmtype=\"SVC\", verbose=True):\n",
    "    # for one vs all\n",
    "    if svmtype == \"Linear\":\n",
    "        clf = svm.LinearSVC()\n",
    "    else:\n",
    "        clf = svm.SVC()\n",
    "    clf.fit(trainX , trainY)\n",
    "    return validationmetrics(clf,testX,testY,verbose=verbose)"
   ]
  },
  {
   "cell_type": "code",
   "execution_count": 539,
   "metadata": {},
   "outputs": [],
   "source": [
    "def DecissionTree(trainX, testX, trainY, testY, verbose=True):\n",
    "    clf = DecisionTreeClassifier()\n",
    "    clf.fit(trainX , trainY)\n",
    "    return validationmetrics(clf,testX,testY,verbose=verbose)"
   ]
  },
  {
   "cell_type": "code",
   "execution_count": 540,
   "metadata": {},
   "outputs": [],
   "source": [
    "def RandomForest(trainX, testX, trainY, testY, verbose=True):\n",
    "    clf  = RandomForestClassifier()\n",
    "    clf.fit(trainX , trainY)\n",
    "    return validationmetrics(clf,testX,testY,verbose=verbose)"
   ]
  },
  {
   "cell_type": "code",
   "execution_count": 541,
   "metadata": {},
   "outputs": [],
   "source": [
    "def NaiveBayes(trainX, testX, trainY, testY, verbose=True):\n",
    "    clf = GaussianNB()\n",
    "    clf.fit(trainX , trainY)\n",
    "    return validationmetrics(clf,testX,testY,verbose=verbose)"
   ]
  },
  {
   "cell_type": "code",
   "execution_count": 542,
   "metadata": {},
   "outputs": [],
   "source": [
    "def MultiLayerPerceptron(trainX, testX, trainY, testY, verbose=True):\n",
    "    clf = MLPClassifier(hidden_layer_sizes=5)\n",
    "    clf.fit(trainX,trainY)\n",
    "    return validationmetrics(clf,testX,testY,verbose=verbose)"
   ]
  },
  {
   "cell_type": "markdown",
   "metadata": {},
   "source": [
    "Lets maintain a list of function references for algorithms we currently support, this will come in handy later, when we try compare performance of different algorithms."
   ]
  },
  {
   "cell_type": "code",
   "execution_count": 543,
   "metadata": {},
   "outputs": [],
   "source": [
    "# Helper function to provide list of supported Algorithms\n",
    "def get_supported_alogrithms():\n",
    "    covered_algorithms = [LogReg, KNN, GadientBoosting, AdaBoost,\n",
    "                          SVM, DecissionTree, RandomForest, NaiveBayes,\n",
    "                          MultiLayerPerceptron]\n",
    "    return covered_algorithms"
   ]
  },
  {
   "cell_type": "code",
   "execution_count": 544,
   "metadata": {},
   "outputs": [],
   "source": [
    "# Helper function to run all algorithms provided in algo_list over given dataframe\n",
    "# By default it will run all supported algorithms\n",
    "\n",
    "\n",
    "def run_algorithms(df, label_col, algo_list=get_supported_alogrithms(), feature_list=[]):\n",
    "    \"\"\"\n",
    "    Run Algorithms with manual split\n",
    "    \"\"\"\n",
    "    # Lets make a copy of dataframe and work on that to be on safe side \n",
    "    _df = df.copy()\n",
    "    \n",
    "    if feature_list:\n",
    "        impftrs = feature_list\n",
    "        impftrs.append(label_col)\n",
    "        _df = _df[impftrs]\n",
    "    \n",
    "    _df, trainX, testX, trainY, testY = traintestsplit(_df, 0.2, 91, label_col=label_col)\n",
    "    for algo in algo_list:\n",
    "        print(\"============ \" + algo.__name__ + \" ===========\")\n",
    "        algo(trainX, testX, trainY, testY)\n",
    "        print (\"============================== \\n\")\n",
    "\n",
    "\n",
    "def run_algorithms_cv(df, label_col, algo_list=get_supported_alogrithms(), feature_list=[]):\n",
    "    \"\"\"\n",
    "    Run Algorithms with cross validation\n",
    "    \"\"\"\n",
    "    _df = df.copy()\n",
    "    X,y = XYsplit(_df, label_col)\n",
    "    \n",
    "    # Select features if specified by driver program\n",
    "    if feature_list:\n",
    "        X = X[feature_list]\n",
    "    \n",
    "    result = {}\n",
    "    for algo in algo_list:\n",
    "        result[algo.__name__] = dict()\n",
    "        for trainX,trainY,testX,testY  in cross_valid_kfold(X, y, split=10):\n",
    "            res_algo = algo(trainX, testX, trainY, testY, verbose=False)\n",
    "            \n",
    "            for k,v in res_algo.items():\n",
    "                if k not in result[algo.__name__].keys():\n",
    "                    result[algo.__name__][k] = list()\n",
    "                result[algo.__name__][k].append(v)\n",
    "        \n",
    "    \n",
    "    score_map = dict()\n",
    "    # let take average scores for all folds now\n",
    "    for algo, metrics in result.items():\n",
    "        print(\"============ \" + algo + \" ===========\")\n",
    "        score_map[algo] = dict()\n",
    "        for metric_name, score_lst in metrics.items():\n",
    "            score_map[algo][metric_name] = np.mean(score_lst)\n",
    "        print(score_map[algo])\n",
    "        print (\"============================== \\n\")\n",
    "    \n",
    "    return score_map\n"
   ]
  },
  {
   "cell_type": "markdown",
   "metadata": {},
   "source": [
    "## Random Forest Feature Selection (RFFS)"
   ]
  },
  {
   "cell_type": "markdown",
   "metadata": {},
   "source": [
    "Helper function to get fetaure importance metrics via RandomForestClassifier"
   ]
  },
  {
   "cell_type": "code",
   "execution_count": 545,
   "metadata": {},
   "outputs": [],
   "source": [
    "def RFfeatureimportance(df, trainX, testX, trainY, testY, trees=10, random=None):\n",
    "    clf  = RandomForestClassifier(n_estimators=trees, random_state=random)\n",
    "    clf.fit(trainX,trainY)\n",
    "    #validationmetrics(clf,testX,testY)\n",
    "    res = pd.Series(clf.feature_importances_, index=df.columns.values).sort_values(ascending=False)*100\n",
    "    print(res)\n",
    "    return res"
   ]
  },
  {
   "cell_type": "markdown",
   "metadata": {},
   "source": [
    "Helper function to select important features and run supported ML algorithms over dataset"
   ]
  },
  {
   "cell_type": "code",
   "execution_count": 546,
   "metadata": {},
   "outputs": [],
   "source": [
    "#select features with importance >=threshold\n",
    "def MachineLearningwithRFFS(df, label_col, threshold=5, algo_list=get_supported_alogrithms()):\n",
    "    # lets create a copy of this dataframe and perform feature selection analysis over that\n",
    "    df_cpy = df.copy()\n",
    "    df_cpy, trainX, testX, trainY, testY = traintestsplit(df_cpy, 0.2, 91, label_col=label_col)\n",
    "    res = RFfeatureimportance(df_cpy, trainX, testX, trainY, testY, trees=10)\n",
    "    \n",
    "    impftrs = list(res[res > threshold].keys())\n",
    "    impftrs.append(label_col)\n",
    "    \n",
    "    print (\"Selected Features =\" + str(impftrs))\n",
    "    \n",
    "    df = df[impftrs]\n",
    "    df, trainX, testX, trainY, testY = traintestsplit(df,0.2,91,label_col)     \n",
    "    \n",
    "    for algo in algo_list:\n",
    "        print(\"\\n\\n Results for \" + algo.__name__ + \".....\")\n",
    "        algo(trainX, testX, trainY, testY)"
   ]
  },
  {
   "cell_type": "markdown",
   "metadata": {},
   "source": [
    "## Mutual Information Feature Selection (MIFS)"
   ]
  },
  {
   "cell_type": "markdown",
   "metadata": {},
   "source": [
    "mutualinformation()  => Helper function to get fetaure importance metrics via Mutual Information Classifier.\n",
    "\n",
    "MachineLearningwithMIFS() => Helper function to select important features and run supported ML algorithms over dataset"
   ]
  },
  {
   "cell_type": "code",
   "execution_count": 462,
   "metadata": {},
   "outputs": [],
   "source": [
    "#determine the important features given by MIFS\n",
    "def mutualinformation(df, label_col):\n",
    "    df_cpy = df.copy()\n",
    "    y = df_cpy[label_col].copy()\n",
    "    X = df_cpy.drop(label_col,axis=1)\n",
    "    \n",
    "    mutual_info = mutual_info_classif(X,y,random_state=35)\n",
    "    results = pd.Series(mutual_info, index=X.columns).sort_values(ascending=False)*100\n",
    "    print(results)\n",
    "    return results\n",
    "    \n",
    "\n",
    "#select features with importance >=threshold\n",
    "def MachineLearningwithMIFS(df, label_col, threshold=5, algo_list=get_supported_alogrithms()):\n",
    "    \n",
    "    # lets create a copy of this dataframe and perform feature selection analysis over that\n",
    "    df_cpy = df.copy()\n",
    "    res = mutualinformation(df_cpy, label_col=label_col)\n",
    "    \n",
    "    #include all selected features in impftrs and last should be the label\n",
    "    impftrs = list(res[res > threshold].keys())\n",
    "    impftrs.append(label_col)\n",
    "    \n",
    "    print (\"Selected Features =\" + str(impftrs))\n",
    "    \n",
    "    df = df[impftrs]\n",
    "    df, trainX, testX, trainY, testY = traintestsplit(df,0.2,91,label_col)     \n",
    "    \n",
    "    for algo in algo_list:\n",
    "        print(\"\\n\\n Results for \" + algo.__name__ + \".....\")\n",
    "        algo(trainX, testX, trainY, testY)"
   ]
  },
  {
   "cell_type": "markdown",
   "metadata": {},
   "source": [
    "## Recursive Elimination Feature Selection"
   ]
  },
  {
   "cell_type": "markdown",
   "metadata": {},
   "source": [
    "#### Without Cross Validation"
   ]
  },
  {
   "cell_type": "code",
   "execution_count": 547,
   "metadata": {},
   "outputs": [],
   "source": [
    "# Recursive Elimination Feature Selection without cross validation\n",
    "\n",
    "def LogRegRE(X, y, random, split):\n",
    "    clf = LogisticRegression(solver='liblinear',penalty='l2')\n",
    "    selector = RFE(estimator=clf, step=1)\n",
    "    selector = selector.fit(X,y)\n",
    "    #print(X.columns[selector.support_].tolist())\n",
    "    X = X[X.columns[selector.support_].tolist()]\n",
    "   \n",
    "    trainX, testX, trainY, testY= train_test_split(X, y, test_size=split, random_state=random)\n",
    "    clf  = LogisticRegression(solver='liblinear',penalty='l2')\n",
    "    clf.fit(trainX , trainY)\n",
    "    validationmetrics(clf,testX,testY)\n",
    "    \n",
    "def KNNRE(X, y, trees, random, split):\n",
    "    clf = RandomForestClassifier(n_estimators=trees, random_state=random)\n",
    "    selector = RFE(estimator=clf, step=1)\n",
    "    selector = selector.fit(X,y)\n",
    "    X = X[X.columns[selector.support_].tolist()]\n",
    "    \n",
    "    #trainX, trainY, testX, testY= cross_valid(X, y,split,repeat,random)\n",
    "    trainX, testX, trainY, testY= train_test_split(X, y, test_size=split, random_state=random)\n",
    "    clf = KNeighborsClassifier()\n",
    "    clf.fit(trainX , trainY)\n",
    "    validationmetrics(clf,testX,testY)\n",
    "    "
   ]
  },
  {
   "cell_type": "markdown",
   "metadata": {},
   "source": [
    "Now lets create a generic function, flexible enough to use any algorithm for recursive feature elimination and any alogorithm to run on selected features"
   ]
  },
  {
   "cell_type": "code",
   "execution_count": 549,
   "metadata": {},
   "outputs": [],
   "source": [
    "def GenericREFS(df, label_col,\n",
    "                algo_list=get_supported_alogrithms(),\n",
    "                re_algo=RandomForestClassifier,\n",
    "                **kwargs):\n",
    "    \n",
    "    X,y = XYsplit(df, label_col)\n",
    "    clf = re_algo(**kwargs)\n",
    "    selector = RFE(estimator=clf, step=1)\n",
    "    selector = selector.fit(X,y)\n",
    "    feature_list = X.columns[selector.support_].tolist()\n",
    "    \n",
    "    run_algorithms(df, label_col, algo_list=algo_list, feature_list=feature_list)"
   ]
  },
  {
   "cell_type": "markdown",
   "metadata": {},
   "source": [
    "#### Recursive Feature Elimination With Cross Validation"
   ]
  },
  {
   "cell_type": "code",
   "execution_count": 550,
   "metadata": {},
   "outputs": [],
   "source": [
    "# Recursive Elimination Feature Selection with cross validation\n",
    "\n",
    "def LogRegRECV(X, y, random, split=10):\n",
    "    clf = LogisticRegression(solver='liblinear',penalty='l2')\n",
    "    selector = RFECV(estimator=clf, step=1, cv=split)\n",
    "    selector = selector.fit(X,y)\n",
    "    X = X[X.columns[selector.support_].tolist()]\n",
    "    result = {}\n",
    "    for trainX, trainY, testX, testY in cross_valid_kfold(X, y, split=split):\n",
    "        clf  = LogisticRegression(solver='liblinear',penalty='l2')\n",
    "        clf.fit(trainX , trainY)\n",
    "        res = validationmetrics(clf,testX,testY, verbose=False)\n",
    "        for k,v in res.items():\n",
    "            if k not in result.keys():\n",
    "                result[k] = list()\n",
    "            result[k].append(v)\n",
    "    # Now compute average\n",
    "    for k,v in result.items():\n",
    "        result[k] = np.mean(v)\n",
    "    \n",
    "    return result\n",
    "\n",
    "def KNNRECV(X, y, trees, random, split=10):\n",
    "    clf = RandomForestClassifier(n_estimators=trees, random_state=random)\n",
    "    selector = RFECV(estimator=clf, step=1, cv=split)\n",
    "    selector = selector.fit(X,y)\n",
    "    X = X[X.columns[selector.support_].tolist()]\n",
    "    \n",
    "    result = {}\n",
    "    for trainX, trainY, testX, testY in cross_valid_kfold(X, y, split=split):\n",
    "        clf  = KNeighborsClassifier()\n",
    "        clf.fit(trainX , trainY)\n",
    "        res = validationmetrics(clf,testX,testY, verbose=False)\n",
    "        for k,v in res.items():\n",
    "            if k not in result.keys():\n",
    "                result[k] = list()\n",
    "            result[k].append(v)\n",
    "    # Now compute average\n",
    "    for k,v in result.items():\n",
    "        result[k] = np.mean(v)\n",
    "    \n",
    "    return result"
   ]
  },
  {
   "cell_type": "markdown",
   "metadata": {},
   "source": [
    "Lets create a generic function with cross validation support, it should also be flexible enough to use any algorithm for recursive feature elimination and any alogorithm to run on selected features"
   ]
  },
  {
   "cell_type": "code",
   "execution_count": 551,
   "metadata": {},
   "outputs": [],
   "source": [
    "def GenericREFS_CV(df, label_col,\n",
    "                algo_list=get_supported_alogrithms(),\n",
    "                re_algo=RandomForestClassifier,\n",
    "                **kwargs):\n",
    "    \n",
    "    X,y = XYsplit(df, label_col)\n",
    "    clf = re_algo(**kwargs)\n",
    "    selector = RFE(estimator=clf, step=1)\n",
    "    selector = selector.fit(X,y)\n",
    "    feature_list = X.columns[selector.support_].tolist()\n",
    "    \n",
    "    run_algorithms_cv(df, label_col, algo_list=algo_list, feature_list=feature_list)\n",
    "    "
   ]
  },
  {
   "cell_type": "markdown",
   "metadata": {},
   "source": [
    "\n",
    "\n",
    "\n",
    "\n",
    "\n",
    "\n",
    "\n",
    "\n",
    "\n",
    "\n",
    "# Driver Program"
   ]
  },
  {
   "cell_type": "markdown",
   "metadata": {},
   "source": [
    "Now lets test this template with Medical Fraud sample data.\n",
    "NOTE: For better design, we should keep all dataset specific stuff in our driver program"
   ]
  },
  {
   "cell_type": "code",
   "execution_count": 552,
   "metadata": {},
   "outputs": [],
   "source": [
    "# data set specific stuff\n",
    "FILE_NAME = \"medicalfraud.csv\"\n",
    "LABEL_COL = \"FRAUD_LABEL\""
   ]
  },
  {
   "cell_type": "markdown",
   "metadata": {},
   "source": [
    "Lets perform basic cleanup and do some analysis using helper functions we created above"
   ]
  },
  {
   "cell_type": "code",
   "execution_count": 553,
   "metadata": {},
   "outputs": [
    {
     "name": "stdout",
     "output_type": "stream",
     "text": [
      "df is all cleaned up..\n",
      "Shape is:\n",
      " (200, 17)\n",
      "Columns are:\n",
      " Index(['amount_paid_to_date', 'number_presc_to_date', 'max_presc_to_date',\n",
      "       'max_presc_per_doctor', 'max_presc_per_hospital', 'max_presc_per_year',\n",
      "       'FRAUD_LABEL', 'amount_paid_per_year', 'amount_paid_per_hospital',\n",
      "       'amount_paid_per_doctor', 'amount_paid_to_prescription',\n",
      "       'amount_paid_total', 'number_presc_per_year',\n",
      "       'number_presc_per_hospital', 'number_presc_per_doctor',\n",
      "       'number_presc_to_prescription', 'number_presc_total'],\n",
      "      dtype='object')\n",
      "Types are:\n",
      " amount_paid_to_date             float64\n",
      "number_presc_to_date              int64\n",
      "max_presc_to_date                 int64\n",
      "max_presc_per_doctor              int64\n",
      "max_presc_per_hospital            int64\n",
      "max_presc_per_year                int64\n",
      "FRAUD_LABEL                        bool\n",
      "amount_paid_per_year            float64\n",
      "amount_paid_per_hospital        float64\n",
      "amount_paid_per_doctor          float64\n",
      "amount_paid_to_prescription     float64\n",
      "amount_paid_total               float64\n",
      "number_presc_per_year             int64\n",
      "number_presc_per_hospital         int64\n",
      "number_presc_per_doctor           int64\n",
      "number_presc_to_prescription      int64\n",
      "number_presc_total                int64\n",
      "dtype: object\n",
      "Statistical Analysis of Numerical Columns:\n",
      "        amount_paid_to_date  number_presc_to_date  max_presc_to_date  \\\n",
      "count           200.000000            200.000000         200.000000   \n",
      "mean            112.517737             14.055000           0.355000   \n",
      "std              25.985798             17.155862           0.490077   \n",
      "min             100.000000              0.000000           0.000000   \n",
      "25%             100.354785              3.000000           0.000000   \n",
      "50%             101.395537              8.000000           0.000000   \n",
      "75%             114.783837             17.000000           1.000000   \n",
      "max             300.000000             82.000000           2.000000   \n",
      "\n",
      "       max_presc_per_doctor  max_presc_per_hospital  max_presc_per_year  \\\n",
      "count            200.000000              200.000000          200.000000   \n",
      "mean               1.040000               42.810000           44.110000   \n",
      "std                0.519373              107.294335          122.500161   \n",
      "min                0.000000                0.000000            0.000000   \n",
      "25%                1.000000                8.000000            8.000000   \n",
      "50%                1.000000               22.000000           19.500000   \n",
      "75%                1.000000               46.000000           45.000000   \n",
      "max                3.000000             1282.000000         1193.000000   \n",
      "\n",
      "       amount_paid_per_year  amount_paid_per_hospital  amount_paid_per_doctor  \\\n",
      "count            200.000000                200.000000              200.000000   \n",
      "mean             115.972140                 57.186970               37.718318   \n",
      "std               73.613315                 18.893880               15.653938   \n",
      "min                0.615264                 27.272631               16.866866   \n",
      "25%               57.852834                 44.007881               27.296624   \n",
      "50%              122.749636                 56.676841               36.082480   \n",
      "75%              171.695147                 68.798480               44.978983   \n",
      "max              450.835573                148.194790              146.715306   \n",
      "\n",
      "       amount_paid_to_prescription  amount_paid_total  number_presc_per_year  \\\n",
      "count                   200.000000         200.000000             200.000000   \n",
      "mean                     37.938785         450.070949             219.445000   \n",
      "std                      15.376668         103.943193              77.085784   \n",
      "min                      17.283348         400.000000             102.000000   \n",
      "25%                      28.529379         401.419141             161.500000   \n",
      "50%                      36.313056         405.582147             214.500000   \n",
      "75%                      45.159348         459.135348             266.500000   \n",
      "max                     140.601164        1200.000000             495.000000   \n",
      "\n",
      "       number_presc_per_hospital  number_presc_per_doctor  \\\n",
      "count                 200.000000                200.00000   \n",
      "mean                   57.680000                 36.74000   \n",
      "std                    22.097718                 13.42174   \n",
      "min                    25.000000                 17.00000   \n",
      "25%                    42.000000                 28.00000   \n",
      "50%                    55.000000                 35.00000   \n",
      "75%                    69.250000                 46.00000   \n",
      "max                   167.000000                104.00000   \n",
      "\n",
      "       number_presc_to_prescription  number_presc_total  \n",
      "count                    200.000000          200.000000  \n",
      "mean                      38.605000          450.110000  \n",
      "std                       16.089229          103.937785  \n",
      "min                       17.000000          400.000000  \n",
      "25%                       28.000000          401.000000  \n",
      "50%                       37.000000          405.500000  \n",
      "75%                       46.000000          459.250000  \n",
      "max                      143.000000         1200.000000  \n"
     ]
    },
    {
     "data": {
      "image/png": "[encoded data removed]",
      "text/plain": [
       "<Figure size 576x720 with 1 Axes>"
      ]
     },
     "metadata": {},
     "output_type": "display_data"
    },
    {
     "data": {
      "image/png": "[encoded data removed]",
      "text/plain": [
       "<Figure size 360x360 with 1 Axes>"
      ]
     },
     "metadata": {},
     "output_type": "display_data"
    },
    {
     "data": {
      "image/png": "[encoded data removed]",
      "text/plain": [
       "<Figure size 360x360 with 1 Axes>"
      ]
     },
     "metadata": {},
     "output_type": "display_data"
    },
    {
     "data": {
      "image/png": "[encoded data removed]",
      "text/plain": [
       "<Figure size 360x360 with 1 Axes>"
      ]
     },
     "metadata": {},
     "output_type": "display_data"
    },
    {
     "data": {
      "image/png": "[encoded data removed]",
      "text/plain": [
       "<Figure size 360x360 with 1 Axes>"
      ]
     },
     "metadata": {},
     "output_type": "display_data"
    },
    {
     "data": {
      "image/png": "[encoded data removed]",
      "text/plain": [
       "<Figure size 360x360 with 1 Axes>"
      ]
     },
     "metadata": {},
     "output_type": "display_data"
    },
    {
     "data": {
      "image/png": "[encoded data removed]",
      "text/plain": [
       "<Figure size 360x360 with 1 Axes>"
      ]
     },
     "metadata": {},
     "output_type": "display_data"
    },
    {
     "data": {
      "image/png": "[encoded data removed]",
      "text/plain": [
       "<Figure size 360x360 with 1 Axes>"
      ]
     },
     "metadata": {},
     "output_type": "display_data"
    },
    {
     "data": {
      "image/png": "[encoded data removed]",
      "text/plain": [
       "<Figure size 360x360 with 1 Axes>"
      ]
     },
     "metadata": {},
     "output_type": "display_data"
    },
    {
     "data": {
      "image/png": "[encoded data removed]",
      "text/plain": [
       "<Figure size 360x360 with 1 Axes>"
      ]
     },
     "metadata": {},
     "output_type": "display_data"
    },
    {
     "data": {
      "image/png": "[encoded data removed]",
      "text/plain": [
       "<Figure size 360x360 with 1 Axes>"
      ]
     },
     "metadata": {},
     "output_type": "display_data"
    },
    {
     "data": {
      "image/png": "[encoded data removed]",
      "text/plain": [
       "<Figure size 360x360 with 1 Axes>"
      ]
     },
     "metadata": {},
     "output_type": "display_data"
    },
    {
     "data": {
      "image/png": "[encoded data removed]",
      "text/plain": [
       "<Figure size 360x360 with 1 Axes>"
      ]
     },
     "metadata": {},
     "output_type": "display_data"
    },
    {
     "data": {
      "image/png": "[encoded data removed]",
      "text/plain": [
       "<Figure size 360x360 with 1 Axes>"
      ]
     },
     "metadata": {},
     "output_type": "display_data"
    },
    {
     "data": {
      "image/png": "[encoded data removed]",
      "text/plain": [
       "<Figure size 360x360 with 1 Axes>"
      ]
     },
     "metadata": {},
     "output_type": "display_data"
    },
    {
     "data": {
      "image/png": "[encoded data removed]",
      "text/plain": [
       "<Figure size 360x360 with 1 Axes>"
      ]
     },
     "metadata": {},
     "output_type": "display_data"
    },
    {
     "data": {
      "image/png": "[encoded data removed]",
      "text/plain": [
       "<Figure size 360x360 with 1 Axes>"
      ]
     },
     "metadata": {},
     "output_type": "display_data"
    },
    {
     "data": {
      "image/png": "[encoded data removed]",
      "text/plain": [
       "<Figure size 1080x864 with 16 Axes>"
      ]
     },
     "metadata": {},
     "output_type": "display_data"
    }
   ],
   "source": [
    "\n",
    "medical_df = load_data(FILE_NAME)\n",
    "medical_df = cleaningup(medical_df, cols_to_delete=[\"id\"])\n",
    "\n",
    "basicanalysis(medical_df)\n",
    "stringcolanalysis(medical_df)\n",
    "numcolanalysis(medical_df)\n",
    "\n",
    "stringcolencoding(medical_df)\n",
    "medical_df = apply_label_encoding(medical_df, cols=[LABEL_COL])\n"
   ]
  },
  {
   "cell_type": "code",
   "execution_count": 554,
   "metadata": {},
   "outputs": [
    {
     "data": {
      "image/png": "[encoded data removed]",
      "text/plain": [
       "<Figure size 432x288 with 2 Axes>"
      ]
     },
     "metadata": {},
     "output_type": "display_data"
    }
   ],
   "source": [
    "# Correlation Analysis\n",
    "correlation_anlysis(medical_df)"
   ]
  },
  {
   "cell_type": "markdown",
   "metadata": {},
   "source": [
    "Now lets run all supported ML alogrithms on complete dataset(selecting all features) using our helper functions and check results"
   ]
  },
  {
   "cell_type": "code",
   "execution_count": 558,
   "metadata": {},
   "outputs": [
    {
     "name": "stdout",
     "output_type": "stream",
     "text": [
      "============ LogReg ===========\n",
      "Prediction Vector: \n",
      " [1 1 1 0 1 1 0 1 1 1 1 1 1 1 1 0 0 1 1 0 0 0 1 0 1 0 0 0 0 1 0 1 1 1 0 1 1\n",
      " 1 1 0]\n",
      "Accuracy: \n",
      " 80.0\n",
      "Precision of event Happening: \n",
      " 76.0\n",
      "Recall of event Happening: \n",
      " 90.47619047619048\n",
      "AUC: \n",
      " 0.794486215538847\n",
      "F-Score:\n",
      " 0.8260869565217391\n",
      "Confusion Matrix: \n",
      " [[13  6]\n",
      " [ 2 19]]\n",
      "============================== \n",
      "\n",
      "============ KNN ===========\n",
      "Prediction Vector: \n",
      " [1 0 1 0 1 1 0 0 1 0 1 0 0 0 1 0 1 0 1 0 0 0 0 1 1 0 0 1 1 0 0 0 1 1 0 1 1\n",
      " 1 1 0]\n",
      "Accuracy: \n",
      " 70.0\n",
      "Precision of event Happening: \n",
      " 73.68421052631578\n",
      "Recall of event Happening: \n",
      " 66.66666666666666\n",
      "AUC: \n",
      " 0.7017543859649122\n",
      "F-Score:\n",
      " 0.7\n",
      "Confusion Matrix: \n",
      " [[14  5]\n",
      " [ 7 14]]\n",
      "============================== \n",
      "\n",
      "============ GadientBoosting ===========\n",
      "Prediction Vector: \n",
      " [1 0 1 0 0 1 0 1 1 0 1 1 1 1 1 0 0 1 1 0 0 0 1 1 1 0 0 1 0 1 0 1 1 1 0 1 0\n",
      " 1 1 0]\n",
      "Accuracy: \n",
      " 95.0\n",
      "Precision of event Happening: \n",
      " 91.30434782608695\n",
      "Recall of event Happening: \n",
      " 100.0\n",
      "AUC: \n",
      " 0.9473684210526316\n",
      "F-Score:\n",
      " 0.9545454545454545\n",
      "Confusion Matrix: \n",
      " [[17  2]\n",
      " [ 0 21]]\n",
      "============================== \n",
      "\n",
      "============ AdaBoost ===========\n",
      "Prediction Vector: \n",
      " [1 0 1 0 1 1 0 1 1 1 1 1 1 1 1 0 0 1 1 0 0 0 1 1 1 0 0 1 0 1 0 1 1 1 0 1 1\n",
      " 1 1 0]\n",
      "Accuracy: \n",
      " 87.5\n",
      "Precision of event Happening: \n",
      " 80.76923076923077\n",
      "Recall of event Happening: \n",
      " 100.0\n",
      "AUC: \n",
      " 0.868421052631579\n",
      "F-Score:\n",
      " 0.8936170212765957\n",
      "Confusion Matrix: \n",
      " [[14  5]\n",
      " [ 0 21]]\n",
      "============================== \n",
      "\n",
      "============ SVM ===========\n",
      "Prediction Vector: \n",
      " [0 0 0 0 0 0 0 0 0 0 0 0 0 0 0 0 0 0 0 0 0 0 0 0 0 0 0 0 0 0 0 0 0 0 0 0 0\n",
      " 0 0 0]\n",
      "Accuracy: \n",
      " 47.5\n",
      "Precision of event Happening: \n",
      " 0.0\n",
      "Recall of event Happening: \n",
      " 0.0\n",
      "AUC: \n",
      " 0.5\n",
      "F-Score:\n",
      " 0.0\n",
      "Confusion Matrix: \n",
      " [[19  0]\n",
      " [21  0]]\n",
      "============================== \n",
      "\n",
      "============ DecissionTree ===========\n",
      "Prediction Vector: \n",
      " [1 0 1 0 0 1 0 1 1 0 1 1 1 1 1 0 0 1 1 0 0 0 1 1 1 0 0 1 1 1 0 0 1 1 0 1 0\n",
      " 1 1 0]\n",
      "Accuracy: \n",
      " 95.0\n",
      "Precision of event Happening: \n",
      " 91.30434782608695\n",
      "Recall of event Happening: \n",
      " 100.0\n",
      "AUC: \n",
      " 0.9473684210526316\n",
      "F-Score:\n",
      " 0.9545454545454545\n",
      "Confusion Matrix: \n",
      " [[17  2]\n",
      " [ 0 21]]\n",
      "============================== \n",
      "\n",
      "============ RandomForest ===========\n",
      "Prediction Vector: \n",
      " [1 0 1 0 0 1 0 1 1 0 1 1 1 1 1 0 0 1 1 0 0 0 1 1 1 0 0 1 0 1 0 1 1 1 0 1 0\n",
      " 1 1 0]\n",
      "Accuracy: \n",
      " 95.0\n",
      "Precision of event Happening: \n",
      " 91.30434782608695\n",
      "Recall of event Happening: \n",
      " 100.0\n",
      "AUC: \n",
      " 0.9473684210526316\n",
      "F-Score:\n",
      " 0.9545454545454545\n",
      "Confusion Matrix: \n",
      " [[17  2]\n",
      " [ 0 21]]\n",
      "============================== \n",
      "\n",
      "============ NaiveBayes ===========\n",
      "Prediction Vector: \n",
      " [1 0 1 0 0 1 0 0 1 0 1 0 0 0 1 0 0 0 1 0 0 0 0 1 1 0 0 1 0 0 0 0 0 1 0 1 0\n",
      " 1 1 0]\n",
      "Accuracy: \n",
      " 77.5\n",
      "Precision of event Happening: \n",
      " 92.85714285714286\n",
      "Recall of event Happening: \n",
      " 61.904761904761905\n",
      "AUC: \n",
      " 0.7832080200501254\n",
      "F-Score:\n",
      " 0.742857142857143\n",
      "Confusion Matrix: \n",
      " [[18  1]\n",
      " [ 8 13]]\n",
      "============================== \n",
      "\n",
      "============ MultiLayerPerceptron ===========\n",
      "Prediction Vector: \n",
      " [0 1 1 0 0 0 1 0 0 0 1 1 1 1 0 0 0 0 1 1 1 1 1 0 0 0 1 0 1 0 0 0 0 0 0 1 1\n",
      " 1 0 1]\n",
      "Accuracy: \n",
      " 42.5\n",
      "Precision of event Happening: \n",
      " 44.44444444444444\n",
      "Recall of event Happening: \n",
      " 38.095238095238095\n",
      "AUC: \n",
      " 0.4273182957393484\n",
      "F-Score:\n",
      " 0.41025641025641024\n",
      "Confusion Matrix: \n",
      " [[ 9 10]\n",
      " [13  8]]\n",
      "============================== \n",
      "\n",
      "------------------------------------\n",
      "============ LogReg ===========\n",
      "{'accuracy': 73.5, 'precision': 50.0, 'recall': 35.5, 'auc_val': nan, 'f_score': 0.4084453558137769}\n",
      "============================== \n",
      "\n",
      "============ KNN ===========\n",
      "{'accuracy': 68.0, 'precision': 50.0, 'recall': 30.0, 'auc_val': nan, 'f_score': 0.35424170505840197}\n",
      "============================== \n",
      "\n",
      "============ GadientBoosting ===========\n",
      "{'accuracy': 81.5, 'precision': 50.0, 'recall': 38.0, 'auc_val': nan, 'f_score': 0.42439809536583734}\n",
      "============================== \n",
      "\n",
      "============ AdaBoost ===========\n",
      "{'accuracy': 78.0, 'precision': 50.0, 'recall': 40.0, 'auc_val': nan, 'f_score': 0.4414950664950664}\n",
      "============================== \n",
      "\n",
      "============ SVM ===========\n",
      "{'accuracy': 0.0, 'precision': 0.0, 'recall': 0.0, 'auc_val': nan, 'f_score': 0.0}\n",
      "============================== \n",
      "\n",
      "============ DecissionTree ===========\n",
      "{'accuracy': 82.5, 'precision': 50.0, 'recall': 38.5, 'auc_val': nan, 'f_score': 0.4302067485429116}\n",
      "============================== \n",
      "\n",
      "============ RandomForest ===========\n",
      "{'accuracy': 80.5, 'precision': 50.0, 'recall': 36.0, 'auc_val': nan, 'f_score': 0.4061214043065223}\n",
      "============================== \n",
      "\n",
      "============ NaiveBayes ===========\n",
      "{'accuracy': 77.0, 'precision': 50.0, 'recall': 29.0, 'auc_val': nan, 'f_score': 0.34367123981060643}\n",
      "============================== \n",
      "\n",
      "============ MultiLayerPerceptron ===========\n",
      "{'accuracy': 56.5, 'precision': 50.0, 'recall': 38.0, 'auc_val': nan, 'f_score': 0.42825552825552826}\n",
      "============================== \n",
      "\n"
     ]
    },
    {
     "data": {
      "text/plain": [
       "{'LogReg': {'accuracy': 73.5,\n",
       "  'precision': 50.0,\n",
       "  'recall': 35.5,\n",
       "  'auc_val': nan,\n",
       "  'f_score': 0.4084453558137769},\n",
       " 'KNN': {'accuracy': 68.0,\n",
       "  'precision': 50.0,\n",
       "  'recall': 30.0,\n",
       "  'auc_val': nan,\n",
       "  'f_score': 0.35424170505840197},\n",
       " 'GadientBoosting': {'accuracy': 81.5,\n",
       "  'precision': 50.0,\n",
       "  'recall': 38.0,\n",
       "  'auc_val': nan,\n",
       "  'f_score': 0.42439809536583734},\n",
       " 'AdaBoost': {'accuracy': 78.0,\n",
       "  'precision': 50.0,\n",
       "  'recall': 40.0,\n",
       "  'auc_val': nan,\n",
       "  'f_score': 0.4414950664950664},\n",
       " 'SVM': {'accuracy': 0.0,\n",
       "  'precision': 0.0,\n",
       "  'recall': 0.0,\n",
       "  'auc_val': nan,\n",
       "  'f_score': 0.0},\n",
       " 'DecissionTree': {'accuracy': 82.5,\n",
       "  'precision': 50.0,\n",
       "  'recall': 38.5,\n",
       "  'auc_val': nan,\n",
       "  'f_score': 0.4302067485429116},\n",
       " 'RandomForest': {'accuracy': 80.5,\n",
       "  'precision': 50.0,\n",
       "  'recall': 36.0,\n",
       "  'auc_val': nan,\n",
       "  'f_score': 0.4061214043065223},\n",
       " 'NaiveBayes': {'accuracy': 77.0,\n",
       "  'precision': 50.0,\n",
       "  'recall': 29.0,\n",
       "  'auc_val': nan,\n",
       "  'f_score': 0.34367123981060643},\n",
       " 'MultiLayerPerceptron': {'accuracy': 56.5,\n",
       "  'precision': 50.0,\n",
       "  'recall': 38.0,\n",
       "  'auc_val': nan,\n",
       "  'f_score': 0.42825552825552826}}"
      ]
     },
     "execution_count": 558,
     "metadata": {},
     "output_type": "execute_result"
    }
   ],
   "source": [
    "# First run algorithms without cross validation\n",
    "run_algorithms(medical_df, LABEL_COL, algo_list=get_supported_alogrithms())\n",
    "\n",
    "print(\"------------------------------------\")\n",
    "\n",
    "# Now lets run same algorithms with cross validation\n",
    "run_algorithms_cv(medical_df, LABEL_COL, algo_list=get_supported_alogrithms())"
   ]
  },
  {
   "cell_type": "markdown",
   "metadata": {},
   "source": [
    "Now Lets experiment with RandomForest Feature Selection on our dataset"
   ]
  },
  {
   "cell_type": "code",
   "execution_count": 463,
   "metadata": {},
   "outputs": [
    {
     "name": "stdout",
     "output_type": "stream",
     "text": [
      "amount_paid_to_date             23.402710\n",
      "number_presc_total              19.920915\n",
      "amount_paid_total               16.796414\n",
      "amount_paid_per_hospital         6.676776\n",
      "max_presc_per_year               5.998432\n",
      "max_presc_per_hospital           4.254546\n",
      "number_presc_to_date             4.132039\n",
      "number_presc_to_prescription     3.959885\n",
      "max_presc_to_date                3.634316\n",
      "number_presc_per_doctor          2.251408\n",
      "amount_paid_per_year             2.105904\n",
      "number_presc_per_year            1.919874\n",
      "number_presc_per_hospital        1.755099\n",
      "amount_paid_to_prescription      1.721645\n",
      "amount_paid_per_doctor           1.146783\n",
      "max_presc_per_doctor             0.323254\n",
      "dtype: float64\n",
      "Selected Features =['amount_paid_to_date', 'number_presc_total', 'amount_paid_total', 'amount_paid_per_hospital', 'max_presc_per_year', 'FRAUD_LABEL']\n",
      "\n",
      "\n",
      " Results for LogReg.....\n",
      "Prediction Vector: \n",
      " [1 0 0 0 1 1 0 0 1 0 1 0 1 0 1 0 0 1 1 1 0 0 0 0 1 0 0 1 1 1 0 0 1 1 0 1 0\n",
      " 1 1 0]\n",
      "Accuracy: \n",
      " 80.0\n",
      "Precision of event Happening: \n",
      " 84.21052631578947\n",
      "Recall of event Happening: \n",
      " 76.19047619047619\n",
      "AUC: \n",
      " 0.8020050125313283\n",
      "F-Score:\n",
      " 0.8\n",
      "Confusion Matrix: \n",
      " [[16  3]\n",
      " [ 5 16]]\n",
      "\n",
      "\n",
      " Results for KNN.....\n",
      "Prediction Vector: \n",
      " [1 0 1 0 0 1 0 1 1 0 1 1 1 1 1 0 0 1 1 0 0 0 0 1 1 1 0 1 0 0 0 1 1 1 0 1 0\n",
      " 1 1 0]\n",
      "Accuracy: \n",
      " 87.5\n",
      "Precision of event Happening: \n",
      " 86.36363636363636\n",
      "Recall of event Happening: \n",
      " 90.47619047619048\n",
      "AUC: \n",
      " 0.8734335839598997\n",
      "F-Score:\n",
      " 0.8837209302325582\n",
      "Confusion Matrix: \n",
      " [[16  3]\n",
      " [ 2 19]]\n",
      "\n",
      "\n",
      " Results for GadientBoosting.....\n",
      "Prediction Vector: \n",
      " [1 0 1 0 0 1 0 1 1 0 1 0 0 1 1 0 0 0 1 0 0 0 1 1 1 0 0 1 0 1 0 1 1 1 0 1 0\n",
      " 1 1 0]\n",
      "Accuracy: \n",
      " 87.5\n",
      "Precision of event Happening: \n",
      " 90.0\n",
      "Recall of event Happening: \n",
      " 85.71428571428571\n",
      "AUC: \n",
      " 0.8759398496240601\n",
      "F-Score:\n",
      " 0.8780487804878048\n",
      "Confusion Matrix: \n",
      " [[17  2]\n",
      " [ 3 18]]\n",
      "\n",
      "\n",
      " Results for AdaBoost.....\n",
      "Prediction Vector: \n",
      " [1 0 1 0 0 1 0 1 1 0 1 0 1 1 1 0 0 0 1 0 0 0 1 1 1 0 0 1 0 1 0 1 1 1 0 1 1\n",
      " 1 1 0]\n",
      "Accuracy: \n",
      " 87.5\n",
      "Precision of event Happening: \n",
      " 86.36363636363636\n",
      "Recall of event Happening: \n",
      " 90.47619047619048\n",
      "AUC: \n",
      " 0.8734335839598997\n",
      "F-Score:\n",
      " 0.8837209302325582\n",
      "Confusion Matrix: \n",
      " [[16  3]\n",
      " [ 2 19]]\n",
      "\n",
      "\n",
      " Results for SVM.....\n",
      "Prediction Vector: \n",
      " [1 0 1 1 1 1 1 1 1 1 1 1 1 1 1 0 1 1 1 1 1 1 1 1 1 1 1 1 1 1 1 1 1 1 0 1 1\n",
      " 1 1 0]\n",
      "Accuracy: \n",
      " 62.5\n",
      "Precision of event Happening: \n",
      " 58.333333333333336\n",
      "Recall of event Happening: \n",
      " 100.0\n",
      "AUC: \n",
      " 0.6052631578947368\n",
      "F-Score:\n",
      " 0.7368421052631579\n",
      "Confusion Matrix: \n",
      " [[ 4 15]\n",
      " [ 0 21]]\n",
      "\n",
      "\n",
      " Results for DecissionTree.....\n",
      "Prediction Vector: \n",
      " [1 0 1 1 0 1 0 1 1 0 1 1 1 1 1 0 0 1 1 0 0 0 1 1 1 0 0 1 0 0 0 1 1 1 0 1 1\n",
      " 1 1 0]\n",
      "Accuracy: \n",
      " 87.5\n",
      "Precision of event Happening: \n",
      " 83.33333333333334\n",
      "Recall of event Happening: \n",
      " 95.23809523809523\n",
      "AUC: \n",
      " 0.8709273182957393\n",
      "F-Score:\n",
      " 0.888888888888889\n",
      "Confusion Matrix: \n",
      " [[15  4]\n",
      " [ 1 20]]\n",
      "\n",
      "\n",
      " Results for RandomForest.....\n",
      "Prediction Vector: \n",
      " [1 0 1 0 0 1 0 1 1 0 1 0 1 1 1 0 0 0 1 0 0 0 1 1 1 0 0 1 0 1 0 1 0 1 0 1 0\n",
      " 1 1 0]\n",
      "Accuracy: \n",
      " 87.5\n",
      "Precision of event Happening: \n",
      " 90.0\n",
      "Recall of event Happening: \n",
      " 85.71428571428571\n",
      "AUC: \n",
      " 0.8759398496240601\n",
      "F-Score:\n",
      " 0.8780487804878048\n",
      "Confusion Matrix: \n",
      " [[17  2]\n",
      " [ 3 18]]\n",
      "\n",
      "\n",
      " Results for NaiveBayes.....\n",
      "Prediction Vector: \n",
      " [1 0 1 0 0 1 0 0 1 0 1 0 0 0 1 0 0 0 1 0 0 0 0 1 1 0 0 1 0 0 0 0 0 1 0 1 0\n",
      " 1 1 0]\n",
      "Accuracy: \n",
      " 77.5\n",
      "Precision of event Happening: \n",
      " 92.85714285714286\n",
      "Recall of event Happening: \n",
      " 61.904761904761905\n",
      "AUC: \n",
      " 0.7832080200501254\n",
      "F-Score:\n",
      " 0.742857142857143\n",
      "Confusion Matrix: \n",
      " [[18  1]\n",
      " [ 8 13]]\n",
      "\n",
      "\n",
      " Results for MultiLayerPerceptron.....\n",
      "Prediction Vector: \n",
      " [0 0 0 0 0 0 0 0 0 0 0 0 0 0 0 0 0 0 0 0 0 0 0 0 0 0 0 0 0 0 0 0 0 0 0 0 0\n",
      " 0 0 0]\n",
      "Accuracy: \n",
      " 47.5\n",
      "Precision of event Happening: \n",
      " 0.0\n",
      "Recall of event Happening: \n",
      " 0.0\n",
      "AUC: \n",
      " 0.5\n",
      "F-Score:\n",
      " 0.0\n",
      "Confusion Matrix: \n",
      " [[19  0]\n",
      " [21  0]]\n"
     ]
    }
   ],
   "source": [
    "# Run all supported algorithms, with RandomForest Feature Seletion\n",
    "MachineLearningwithRFFS(medical_df, LABEL_COL, threshold=5)"
   ]
  },
  {
   "cell_type": "markdown",
   "metadata": {},
   "source": [
    "Lets try the same with Mutual Information Feature Seletion, we can try different threshold values as well"
   ]
  },
  {
   "cell_type": "code",
   "execution_count": 559,
   "metadata": {},
   "outputs": [
    {
     "name": "stdout",
     "output_type": "stream",
     "text": [
      "amount_paid_total               39.201952\n",
      "amount_paid_to_date             39.201952\n",
      "number_presc_total              38.932311\n",
      "max_presc_per_hospital          22.436704\n",
      "max_presc_per_year              20.244113\n",
      "number_presc_to_date            17.565664\n",
      "amount_paid_per_hospital        16.158517\n",
      "max_presc_to_date               14.192018\n",
      "number_presc_per_hospital        9.944469\n",
      "number_presc_per_year            8.497845\n",
      "number_presc_to_prescription     7.506607\n",
      "number_presc_per_doctor          5.437904\n",
      "amount_paid_per_year             5.159686\n",
      "amount_paid_per_doctor           5.031914\n",
      "amount_paid_to_prescription      2.432750\n",
      "max_presc_per_doctor             0.236318\n",
      "dtype: float64\n",
      "Selected Features =['amount_paid_total', 'amount_paid_to_date', 'number_presc_total', 'max_presc_per_hospital', 'max_presc_per_year', 'number_presc_to_date', 'amount_paid_per_hospital', 'max_presc_to_date', 'number_presc_per_hospital', 'number_presc_per_year', 'number_presc_to_prescription', 'FRAUD_LABEL']\n",
      "\n",
      "\n",
      " Results for LogReg.....\n",
      "Prediction Vector: \n",
      " [1 1 1 0 1 1 0 1 1 0 1 1 1 1 1 0 0 1 1 0 0 0 1 1 1 0 0 1 0 1 0 1 1 1 0 1 1\n",
      " 1 1 0]\n",
      "Accuracy: \n",
      " 87.5\n",
      "Precision of event Happening: \n",
      " 80.76923076923077\n",
      "Recall of event Happening: \n",
      " 100.0\n",
      "AUC: \n",
      " 0.868421052631579\n",
      "F-Score:\n",
      " 0.8936170212765957\n",
      "Confusion Matrix: \n",
      " [[14  5]\n",
      " [ 0 21]]\n",
      "\n",
      "\n",
      " Results for KNN.....\n",
      "Prediction Vector: \n",
      " [1 0 1 0 0 1 0 0 1 0 1 1 1 1 1 0 0 1 1 0 0 0 1 1 1 0 0 1 0 0 0 0 1 1 0 1 0\n",
      " 1 1 0]\n",
      "Accuracy: \n",
      " 92.5\n",
      "Precision of event Happening: \n",
      " 95.0\n",
      "Recall of event Happening: \n",
      " 90.47619047619048\n",
      "AUC: \n",
      " 0.9260651629072683\n",
      "F-Score:\n",
      " 0.9268292682926829\n",
      "Confusion Matrix: \n",
      " [[18  1]\n",
      " [ 2 19]]\n",
      "\n",
      "\n",
      " Results for GadientBoosting.....\n",
      "Prediction Vector: \n",
      " [1 0 1 0 1 1 0 1 1 0 1 1 1 1 1 0 0 1 1 0 0 0 1 1 1 0 0 1 0 1 0 1 1 1 0 1 0\n",
      " 1 1 0]\n",
      "Accuracy: \n",
      " 92.5\n",
      "Precision of event Happening: \n",
      " 87.5\n",
      "Recall of event Happening: \n",
      " 100.0\n",
      "AUC: \n",
      " 0.9210526315789473\n",
      "F-Score:\n",
      " 0.9333333333333333\n",
      "Confusion Matrix: \n",
      " [[16  3]\n",
      " [ 0 21]]\n",
      "\n",
      "\n",
      " Results for AdaBoost.....\n",
      "Prediction Vector: \n",
      " [1 0 1 0 0 1 0 1 1 1 1 1 1 1 1 0 0 1 1 0 0 0 1 1 1 0 0 1 0 1 0 1 1 1 0 1 1\n",
      " 1 1 0]\n",
      "Accuracy: \n",
      " 90.0\n",
      "Precision of event Happening: \n",
      " 84.0\n",
      "Recall of event Happening: \n",
      " 100.0\n",
      "AUC: \n",
      " 0.8947368421052632\n",
      "F-Score:\n",
      " 0.9130434782608696\n",
      "Confusion Matrix: \n",
      " [[15  4]\n",
      " [ 0 21]]\n",
      "\n",
      "\n",
      " Results for SVM.....\n",
      "Prediction Vector: \n",
      " [0 0 0 0 0 0 0 0 0 0 0 0 0 0 0 0 0 0 0 0 0 0 0 0 0 0 0 0 0 0 0 0 0 0 0 0 0\n",
      " 0 0 0]\n",
      "Accuracy: \n",
      " 47.5\n",
      "Precision of event Happening: \n",
      " 0.0\n",
      "Recall of event Happening: \n",
      " 0.0\n",
      "AUC: \n",
      " 0.5\n",
      "F-Score:\n",
      " 0.0\n",
      "Confusion Matrix: \n",
      " [[19  0]\n",
      " [21  0]]\n",
      "\n",
      "\n",
      " Results for DecissionTree.....\n",
      "Prediction Vector: \n",
      " [1 0 1 0 0 1 0 1 1 0 1 1 1 1 1 0 0 1 1 0 0 0 1 1 1 0 0 1 0 0 0 0 1 1 0 1 0\n",
      " 1 1 0]\n",
      "Accuracy: \n",
      " 95.0\n",
      "Precision of event Happening: \n",
      " 95.23809523809523\n",
      "Recall of event Happening: \n",
      " 95.23809523809523\n",
      "AUC: \n",
      " 0.949874686716792\n",
      "F-Score:\n",
      " 0.9523809523809523\n",
      "Confusion Matrix: \n",
      " [[18  1]\n",
      " [ 1 20]]\n",
      "\n",
      "\n",
      " Results for RandomForest.....\n",
      "Prediction Vector: \n",
      " [1 0 1 0 0 1 0 1 1 0 1 1 1 1 1 0 0 1 1 0 0 0 1 1 1 0 0 1 0 1 0 1 1 1 0 1 0\n",
      " 1 1 0]\n",
      "Accuracy: \n",
      " 95.0\n",
      "Precision of event Happening: \n",
      " 91.30434782608695\n",
      "Recall of event Happening: \n",
      " 100.0\n",
      "AUC: \n",
      " 0.9473684210526316\n",
      "F-Score:\n",
      " 0.9545454545454545\n",
      "Confusion Matrix: \n",
      " [[17  2]\n",
      " [ 0 21]]\n",
      "\n",
      "\n",
      " Results for NaiveBayes.....\n",
      "Prediction Vector: \n",
      " [1 0 1 0 0 1 0 0 1 0 1 0 0 0 1 0 0 0 1 0 0 0 0 1 1 0 0 1 0 0 0 0 0 1 0 1 0\n",
      " 1 1 0]\n",
      "Accuracy: \n",
      " 77.5\n",
      "Precision of event Happening: \n",
      " 92.85714285714286\n",
      "Recall of event Happening: \n",
      " 61.904761904761905\n",
      "AUC: \n",
      " 0.7832080200501254\n",
      "F-Score:\n",
      " 0.742857142857143\n",
      "Confusion Matrix: \n",
      " [[18  1]\n",
      " [ 8 13]]\n",
      "\n",
      "\n",
      " Results for MultiLayerPerceptron.....\n",
      "Prediction Vector: \n",
      " [0 1 1 0 1 1 1 1 1 1 1 1 1 0 1 0 1 0 1 1 1 1 1 1 1 1 1 0 1 1 1 1 0 0 0 0 1\n",
      " 1 1 1]\n",
      "Accuracy: \n",
      " 42.5\n",
      "Precision of event Happening: \n",
      " 46.666666666666664\n",
      "Recall of event Happening: \n",
      " 66.66666666666666\n",
      "AUC: \n",
      " 0.41228070175438597\n",
      "F-Score:\n",
      " 0.5490196078431373\n",
      "Confusion Matrix: \n",
      " [[ 3 16]\n",
      " [ 7 14]]\n"
     ]
    }
   ],
   "source": [
    "# Run all supported algorithms, with Mutual Information Feature Seletion\n",
    "MachineLearningwithMIFS(medical_df, LABEL_COL, threshold=6)"
   ]
  },
  {
   "cell_type": "markdown",
   "metadata": {},
   "source": [
    "Now Lets try out our recursive elimination features selection methods.\n",
    "\n",
    "We have implemented a Generic method, lets try it with `LogisticRegression` for recursive elimination feature selection and use `LogReg, KNN` for training models on selected features, here is the example usage"
   ]
  },
  {
   "cell_type": "code",
   "execution_count": 562,
   "metadata": {},
   "outputs": [
    {
     "name": "stdout",
     "output_type": "stream",
     "text": [
      "============ LogReg ===========\n",
      "Prediction Vector: \n",
      " [1 0 1 0 1 1 0 1 1 1 1 1 1 1 1 0 0 1 1 0 0 0 1 0 1 0 0 0 0 1 0 1 1 1 0 1 1\n",
      " 1 1 0]\n",
      "Accuracy: \n",
      " 82.5\n",
      "Precision of event Happening: \n",
      " 79.16666666666666\n",
      "Recall of event Happening: \n",
      " 90.47619047619048\n",
      "AUC: \n",
      " 0.8208020050125314\n",
      "F-Score:\n",
      " 0.8444444444444444\n",
      "Confusion Matrix: \n",
      " [[14  5]\n",
      " [ 2 19]]\n",
      "============================== \n",
      "\n",
      "============ KNN ===========\n",
      "Prediction Vector: \n",
      " [1 0 1 0 1 1 0 0 1 0 1 1 0 1 1 0 0 1 1 0 0 0 1 1 1 1 0 1 0 1 0 0 1 1 0 1 0\n",
      " 1 1 0]\n",
      "Accuracy: \n",
      " 87.5\n",
      "Precision of event Happening: \n",
      " 86.36363636363636\n",
      "Recall of event Happening: \n",
      " 90.47619047619048\n",
      "AUC: \n",
      " 0.8734335839598997\n",
      "F-Score:\n",
      " 0.8837209302325582\n",
      "Confusion Matrix: \n",
      " [[16  3]\n",
      " [ 2 19]]\n",
      "============================== \n",
      "\n"
     ]
    }
   ],
   "source": [
    "\n",
    "# Note: solver and penalty are the arguments for LogisticRegression\n",
    "GenericREFS(medical_df, LABEL_COL,\n",
    "            algo_list=[LogReg, KNN],\n",
    "            re_algo=LogisticRegression,\n",
    "            solver='liblinear',penalty='l2')"
   ]
  },
  {
   "cell_type": "markdown",
   "metadata": {},
   "source": [
    "Now lets try out the same with RandomForestClassifier for recursive elimination feature selection"
   ]
  },
  {
   "cell_type": "code",
   "execution_count": 563,
   "metadata": {},
   "outputs": [
    {
     "name": "stdout",
     "output_type": "stream",
     "text": [
      "============ LogReg ===========\n",
      "Prediction Vector: \n",
      " [1 0 1 0 1 1 0 0 1 0 1 0 1 0 1 0 0 1 1 0 0 0 0 0 1 0 0 1 0 0 0 1 1 1 0 1 0\n",
      " 1 1 0]\n",
      "Accuracy: \n",
      " 77.5\n",
      "Precision of event Happening: \n",
      " 83.33333333333334\n",
      "Recall of event Happening: \n",
      " 71.42857142857143\n",
      "AUC: \n",
      " 0.7781954887218044\n",
      "F-Score:\n",
      " 0.7692307692307692\n",
      "Confusion Matrix: \n",
      " [[16  3]\n",
      " [ 6 15]]\n",
      "============================== \n",
      "\n",
      "============ KNN ===========\n",
      "Prediction Vector: \n",
      " [1 0 1 0 1 1 0 1 1 0 1 1 1 1 1 0 0 1 1 0 0 0 0 1 1 0 0 1 0 1 0 1 1 1 0 1 1\n",
      " 1 1 0]\n",
      "Accuracy: \n",
      " 87.5\n",
      "Precision of event Happening: \n",
      " 83.33333333333334\n",
      "Recall of event Happening: \n",
      " 95.23809523809523\n",
      "AUC: \n",
      " 0.8709273182957393\n",
      "F-Score:\n",
      " 0.888888888888889\n",
      "Confusion Matrix: \n",
      " [[15  4]\n",
      " [ 1 20]]\n",
      "============================== \n",
      "\n"
     ]
    }
   ],
   "source": [
    "\n",
    "# Note: n_estimator and random_state are the arguments for RandomForestClassifier\n",
    "GenericREFS(medical_df, LABEL_COL,\n",
    "            algo_list=[LogReg, KNN],\n",
    "            re_algo=RandomForestClassifier,\n",
    "            n_estimators=10, random_state=91)"
   ]
  },
  {
   "cell_type": "markdown",
   "metadata": {},
   "source": [
    "We have also implemented Generic method for recursive elimination feature selection, lets try that as well.\n",
    "Again we can use any alogrithm for recursive elimination feature selection and any model for training models on selected features"
   ]
  },
  {
   "cell_type": "code",
   "execution_count": 564,
   "metadata": {},
   "outputs": [
    {
     "name": "stdout",
     "output_type": "stream",
     "text": [
      "============ LogReg ===========\n",
      "{'accuracy': 76.5, 'precision': 50.0, 'recall': 39.5, 'auc_val': nan, 'f_score': 0.43774365607981913}\n",
      "============================== \n",
      "\n",
      "============ KNN ===========\n",
      "{'accuracy': 76.0, 'precision': 50.0, 'recall': 38.0, 'auc_val': nan, 'f_score': 0.42339375184202777}\n",
      "============================== \n",
      "\n",
      "============ RandomForest ===========\n",
      "{'accuracy': 82.5, 'precision': 50.0, 'recall': 38.5, 'auc_val': nan, 'f_score': 0.42724304557920856}\n",
      "============================== \n",
      "\n",
      "============ SVM ===========\n",
      "{'accuracy': 67.5, 'precision': 50.0, 'recall': 48.5, 'auc_val': nan, 'f_score': 0.49230769230769234}\n",
      "============================== \n",
      "\n"
     ]
    }
   ],
   "source": [
    "# Here we are using LogisticRegression for feature selection,\n",
    "# solver and penalty are the parameters for LogisticRegression.\n",
    "# and we are training models with LogReg, KNN, RandomForest and SVM\n",
    "\n",
    "GenericREFS_CV(medical_df, LABEL_COL,\n",
    "                algo_list=[LogReg, KNN, RandomForest, SVM],\n",
    "                re_algo=LogisticRegression,\n",
    "                solver='liblinear',penalty='l2')"
   ]
  },
  {
   "cell_type": "code",
   "execution_count": null,
   "metadata": {},
   "outputs": [],
   "source": []
  }
 ],
 "metadata": {
  "kernelspec": {
   "display_name": "Python 3",
   "language": "python",
   "name": "python3"
  },
  "language_info": {
   "codemirror_mode": {
    "name": "ipython",
    "version": 3
   },
   "file_extension": ".py",
   "mimetype": "text/x-python",
   "name": "python",
   "nbconvert_exporter": "python",
   "pygments_lexer": "ipython3",
   "version": "3.7.3"
  }
 },
 "nbformat": 4,
 "nbformat_minor": 2
}
