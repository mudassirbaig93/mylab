{
 "cells": [
  {
   "cell_type": "code",
   "execution_count": 289,
   "metadata": {},
   "outputs": [],
   "source": [
    "import pandas as pd\n",
    "import numpy as np\n",
    "%matplotlib inline\n",
    "from scipy import stats"
   ]
  },
  {
   "cell_type": "code",
   "execution_count": 290,
   "metadata": {},
   "outputs": [
    {
     "name": "stdout",
     "output_type": "stream",
     "text": [
      "Rows=8399, Columns=20\n",
      "Row ID                    int64\n",
      "Order ID                float64\n",
      "Order Date               object\n",
      "Order Priority           object\n",
      "Order Quantity           object\n",
      "Sales                    object\n",
      "Discount                float64\n",
      "Ship Mode                object\n",
      "Profit                  float64\n",
      "Unit Price              float64\n",
      "Shipping Cost           float64\n",
      "Customer Name            object\n",
      "Province                 object\n",
      "Region                   object\n",
      "Customer Segment         object\n",
      "Product Category         object\n",
      "Product Sub-Category     object\n",
      "Product Name             object\n",
      "Product Container        object\n",
      "Ship Date                object\n",
      "dtype: object\n"
     ]
    }
   ],
   "source": [
    "# Read Sales.Dirty.xls\n",
    "salesdf = pd.read_excel('Sales.Dirty.xls')\n",
    "\n",
    "# Lets get a sense of sample in hand\n",
    "print(\"Rows=%d, Columns=%d\" % (salesdf.shape[0], salesdf.shape[1]))\n",
    "print(salesdf.dtypes)\n",
    "#salesdf.head()\n"
   ]
  },
  {
   "cell_type": "markdown",
   "metadata": {},
   "source": [
    "# Dealing with Incorrect Values"
   ]
  },
  {
   "cell_type": "markdown",
   "metadata": {},
   "source": [
    "At this stage, lets try to replace incorrect values with null values.\n",
    "Once this is done, we will deal with missing values in the next stage"
   ]
  },
  {
   "cell_type": "code",
   "execution_count": 291,
   "metadata": {},
   "outputs": [
    {
     "name": "stdout",
     "output_type": "stream",
     "text": [
      "Affected Order date records=2\n",
      "Affected Ship date records=1\n",
      "Affected Order Quantity records=4\n"
     ]
    }
   ],
   "source": [
    "# Dealing with incorrect values\n",
    "\n",
    "# Order Date seems to have some incorrect values, lets start with that\n",
    "\n",
    "# Lets see how many rows will be affected if we replace incorrect values with NaT\n",
    "affected_date_records = pd.to_datetime(salesdf['Order Date'], errors='coerce').isnull().sum() - salesdf['Order Date'].isnull().sum()\n",
    "print(\"Affected Order date records=%d\" % affected_date_records)\n",
    "\n",
    "# Very few rows are being affected, so safe to replace\n",
    "salesdf['Order Date'] = pd.to_datetime(salesdf['Order Date'], errors='coerce') # Replace incorrect values with NaT\n",
    "\n",
    "# Same goes for Ship Date\n",
    "affected_ship_date_records = pd.to_datetime(salesdf['Ship Date'], errors='coerce').isnull().sum() - salesdf['Ship Date'].isnull().sum()\n",
    "print(\"Affected Ship date records=%d\" % affected_ship_date_records)\n",
    "salesdf['Ship Date'] = pd.to_datetime(salesdf['Ship Date'], errors='coerce') # Replace incorrect values with NaT\n",
    "\n",
    "\n",
    "# Order Quantity also seems to have incorrect values. Lets check how many rows will be affected if they are replaced with NaN\n",
    "affected_qty_records = pd.to_numeric(salesdf['Order Quantity'], errors='coerce').isnull().sum() - salesdf['Order Quantity'].isnull().sum()\n",
    "print(\"Affected Order Quantity records=%d\" % affected_qty_records)\n",
    "\n",
    "# safe to replace incorrect Order Quantity with NaN\n",
    "salesdf['Order Quantity'] = pd.to_numeric(salesdf['Order Quantity'], downcast='integer', errors='coerce')\n",
    "\n",
    "# Lets deal with incorrect Sales value in the same way for now\n",
    "salesdf['Sales'] = pd.to_numeric(salesdf['Sales'], errors='coerce')"
   ]
  },
  {
   "cell_type": "code",
   "execution_count": 292,
   "metadata": {},
   "outputs": [],
   "source": [
    "import re\n",
    "def eliminate_numeric_values(item):\n",
    "    if isinstance(item, str):\n",
    "        return item if not re.match(r\"^[0-9]+$\", item) else pd.NaT\n",
    "    else:\n",
    "        return pd.NaT\n",
    "\n",
    "\n",
    "# Customer Name values seems to be incorrect in some cases, they are just numbers, lets replace incorrect values with NaN\n",
    "salesdf['Customer Name'] = salesdf['Customer Name'].map(eliminate_numeric_values)\n",
    "\n",
    "        \n",
    "# Product Name also seems to be incorrect in some cases, lets replace entries with NaN where its just a number\n",
    "salesdf['Product Name'] = salesdf['Product Name'].map(eliminate_numeric_values)\n"
   ]
  },
  {
   "cell_type": "code",
   "execution_count": 293,
   "metadata": {},
   "outputs": [
    {
     "data": {
      "text/plain": [
       "Row ID                           int64\n",
       "Order ID                       float64\n",
       "Order Date              datetime64[ns]\n",
       "Order Priority                  object\n",
       "Order Quantity                 float64\n",
       "Sales                          float64\n",
       "Discount                       float64\n",
       "Ship Mode                       object\n",
       "Profit                         float64\n",
       "Unit Price                     float64\n",
       "Shipping Cost                  float64\n",
       "Customer Name                   object\n",
       "Province                        object\n",
       "Region                          object\n",
       "Customer Segment                object\n",
       "Product Category                object\n",
       "Product Sub-Category            object\n",
       "Product Name                    object\n",
       "Product Container               object\n",
       "Ship Date               datetime64[ns]\n",
       "dtype: object"
      ]
     },
     "execution_count": 293,
     "metadata": {},
     "output_type": "execute_result"
    }
   ],
   "source": [
    "salesdf.dtypes"
   ]
  },
  {
   "cell_type": "markdown",
   "metadata": {},
   "source": [
    "We now have data in unified format and we can move to next step of dealing with missing values"
   ]
  },
  {
   "cell_type": "markdown",
   "metadata": {},
   "source": [
    "# Dealing with Missing values and  removing unnecessary columns and rows"
   ]
  },
  {
   "cell_type": "code",
   "execution_count": 294,
   "metadata": {},
   "outputs": [
    {
     "data": {
      "text/plain": [
       "Row ID                    0\n",
       "Order ID                545\n",
       "Order Date               11\n",
       "Order Priority           12\n",
       "Order Quantity            4\n",
       "Sales                    32\n",
       "Discount                  0\n",
       "Ship Mode                 4\n",
       "Profit                    0\n",
       "Unit Price                0\n",
       "Shipping Cost             0\n",
       "Customer Name            30\n",
       "Province                  0\n",
       "Region                   30\n",
       "Customer Segment          0\n",
       "Product Category         31\n",
       "Product Sub-Category      0\n",
       "Product Name            204\n",
       "Product Container        15\n",
       "Ship Date                13\n",
       "dtype: int64"
      ]
     },
     "execution_count": 294,
     "metadata": {},
     "output_type": "execute_result"
    }
   ],
   "source": [
    "# Let check the current count of missing values in our dataset\n",
    "salesdf.isnull().sum()"
   ]
  },
  {
   "cell_type": "markdown",
   "metadata": {},
   "source": [
    "Deleting unnecessary rows and columns while we are dealing with missing values would certainly save us from some extra work."
   ]
  },
  {
   "cell_type": "code",
   "execution_count": 295,
   "metadata": {},
   "outputs": [
    {
     "name": "stdout",
     "output_type": "stream",
     "text": [
      "False\n",
      "True\n"
     ]
    }
   ],
   "source": [
    "# Order ID seems to have alot of null values, and it cannot be used as unique identifier for our records\n",
    "print(salesdf['Order ID'].is_unique)\n",
    "\n",
    "# whereas Row ID can be used as unique identifier\n",
    "print(salesdf['Row ID'].is_unique)\n",
    "\n",
    "# so there is no real significance of keeping Order ID,\n",
    "# Lets drop this column\n",
    "salesdf = salesdf.drop('Order ID', axis=1)"
   ]
  },
  {
   "cell_type": "code",
   "execution_count": 296,
   "metadata": {},
   "outputs": [
    {
     "data": {
      "text/plain": [
       "<matplotlib.axes._subplots.AxesSubplot at 0x1c5d83bd68>"
      ]
     },
     "execution_count": 296,
     "metadata": {},
     "output_type": "execute_result"
    },
    {
     "data": {
      "image/png": "[encoded data removed]",
      "text/plain": [
       "<Figure size 432x288 with 1 Axes>"
      ]
     },
     "metadata": {
      "needs_background": "light"
     },
     "output_type": "display_data"
    }
   ],
   "source": [
    "ship_date_year = salesdf['Ship Date'].apply(lambda x: x.year)\n",
    "ship_date_year.hist()"
   ]
  },
  {
   "cell_type": "code",
   "execution_count": 297,
   "metadata": {},
   "outputs": [
    {
     "data": {
      "image/png": "[encoded data removed]",
      "text/plain": [
       "<Figure size 432x288 with 1 Axes>"
      ]
     },
     "metadata": {
      "needs_background": "light"
     },
     "output_type": "display_data"
    }
   ],
   "source": [
    "salesdf['ship_date_year'] = salesdf['Ship Date'].apply(lambda x: x.year)\n",
    "salesdf.boxplot(column='ship_date_year', sym='o', return_type='axes')\n",
    "salesdf = salesdf.drop('ship_date_year', axis=1)"
   ]
  },
  {
   "cell_type": "code",
   "execution_count": 298,
   "metadata": {},
   "outputs": [],
   "source": [
    "# records with null order date and ship date in year 1900 are clearly outliers\n",
    "# Lets remove such records\n",
    "salesdf = salesdf[((salesdf['Ship Date'].apply(lambda x: x.year) <= 1900) & salesdf['Order Date'].isna()) == False]\n",
    "\n",
    "# Three records where both Ship Date and Order Date are null, lets delete these rows to be on safe side\n",
    "salesdf = salesdf.drop(salesdf[(salesdf['Ship Date'].isnull()) & (salesdf['Order Date'].isnull())].index)\n",
    "\n",
    "# For remaining records missing Ship Date (there are 10 such records), lets fill them with Order Date. Its a reasonable assumption and shouldn't affect any pattern\n",
    "salesdf['Ship Date'].fillna(salesdf['Order Date'], inplace=True)"
   ]
  },
  {
   "cell_type": "code",
   "execution_count": 299,
   "metadata": {},
   "outputs": [],
   "source": [
    "# For Order Prioirity, we can replace null values with Not Specified\n",
    "salesdf['Order Priority'].fillna('Not Specified', inplace=True)"
   ]
  },
  {
   "cell_type": "code",
   "execution_count": 300,
   "metadata": {},
   "outputs": [
    {
     "data": {
      "text/plain": [
       "Regular Air       6260\n",
       "Delivery Truck    1145\n",
       "Express Air        979\n",
       "Name: Ship Mode, dtype: int64"
      ]
     },
     "execution_count": 300,
     "metadata": {},
     "output_type": "execute_result"
    }
   ],
   "source": [
    "salesdf['Ship Mode'].value_counts()"
   ]
  },
  {
   "cell_type": "code",
   "execution_count": 301,
   "metadata": {},
   "outputs": [],
   "source": [
    "# Replace missing values in Ship Mode with 'Regular Air' i.e. most occuring value\n",
    "salesdf['Ship Mode'].fillna('Regular Air', inplace=True)"
   ]
  },
  {
   "cell_type": "code",
   "execution_count": 302,
   "metadata": {},
   "outputs": [
    {
     "name": "stdout",
     "output_type": "stream",
     "text": [
      "Saskachewan    18\n",
      "Quebec         12\n",
      "Name: Province, dtype: int64\n"
     ]
    }
   ],
   "source": [
    "# Handling missing Regions\n",
    "\n",
    "# Lets first check Province value for records that are missing Region\n",
    "print(salesdf[salesdf['Region'].isnull()]['Province'].value_counts())"
   ]
  },
  {
   "cell_type": "code",
   "execution_count": 303,
   "metadata": {},
   "outputs": [
    {
     "name": "stdout",
     "output_type": "stream",
     "text": [
      "Prarie    895\n",
      "Name: Region, dtype: int64\n",
      "Quebec    768\n",
      "Name: Region, dtype: int64\n"
     ]
    }
   ],
   "source": [
    "# so missing Regions belong to Saskachewan and Quebec Province\n",
    "\n",
    "# Lets check what are the general values for Region where Province = Saskachewan\n",
    "print(salesdf[salesdf['Province'] == 'Saskachewan']['Region'].value_counts())\n",
    "\n",
    "# Lets check what are the general values for Region where Province = Quebec\n",
    "print(salesdf[salesdf['Province'] == 'Quebec']['Region'].value_counts())"
   ]
  },
  {
   "cell_type": "code",
   "execution_count": 304,
   "metadata": {},
   "outputs": [],
   "source": [
    "# All records with Province=Saskachewan belongs to Prarie Region and\n",
    "# all records with Province=Quebec belongs to Quebec Region\n",
    "\n",
    "# Lets fill missing values accordingly\n",
    "cond = (salesdf['Province'] == 'Saskachewan') & (salesdf['Region'].isnull())\n",
    "salesdf.loc[cond, 'Region'] = 'Prarie'\n",
    "\n",
    "cond2 = (salesdf['Province'] == 'Quebec') & (salesdf['Region'].isnull())\n",
    "salesdf.loc[cond2, 'Region'] = 'Quebec'"
   ]
  },
  {
   "cell_type": "code",
   "execution_count": 305,
   "metadata": {},
   "outputs": [
    {
     "data": {
      "text/plain": [
       "Row ID                    0\n",
       "Order Date                0\n",
       "Order Priority            0\n",
       "Order Quantity            4\n",
       "Sales                    32\n",
       "Discount                  0\n",
       "Ship Mode                 0\n",
       "Profit                    0\n",
       "Unit Price                0\n",
       "Shipping Cost             0\n",
       "Customer Name            29\n",
       "Province                  0\n",
       "Region                    0\n",
       "Customer Segment          0\n",
       "Product Category         31\n",
       "Product Sub-Category      0\n",
       "Product Name            204\n",
       "Product Container        15\n",
       "Ship Date                 0\n",
       "dtype: int64"
      ]
     },
     "execution_count": 305,
     "metadata": {},
     "output_type": "execute_result"
    }
   ],
   "source": [
    "salesdf.isnull().sum()"
   ]
  },
  {
   "cell_type": "code",
   "execution_count": 306,
   "metadata": {},
   "outputs": [
    {
     "name": "stdout",
     "output_type": "stream",
     "text": [
      "['Chairs & Chairmats', 'Paper', 'Envelopes', 'Computer Peripherals', 'Binders and Binder Accessories', 'Pens & Art Supplies', 'Scissors, Rulers and Trimmers', 'Appliances', 'Office Furnishings', 'Office Machines', 'Telephones and Communication', 'Labels', 'Tables', 'Storage & Organization']\n"
     ]
    },
    {
     "data": {
      "text/plain": [
       "Row ID                    0\n",
       "Order Date                0\n",
       "Order Priority            0\n",
       "Order Quantity            4\n",
       "Sales                    32\n",
       "Discount                  0\n",
       "Ship Mode                 0\n",
       "Profit                    0\n",
       "Unit Price                0\n",
       "Shipping Cost             0\n",
       "Customer Name            29\n",
       "Province                  0\n",
       "Region                    0\n",
       "Customer Segment          0\n",
       "Product Category          0\n",
       "Product Sub-Category      0\n",
       "Product Name            204\n",
       "Product Container        15\n",
       "Ship Date                 0\n",
       "dtype: int64"
      ]
     },
     "execution_count": 306,
     "metadata": {},
     "output_type": "execute_result"
    }
   ],
   "source": [
    "# Dealing with missing Product Category\n",
    "# Lets try to find all Product Sub-Categories for missing product categories\n",
    "sub_cat_list = salesdf[salesdf['Product Category'].isnull()]['Product Sub-Category'].value_counts().index.to_list()\n",
    "print(sub_cat_list)\n",
    "\n",
    "def fill_missing_product_category(item):\n",
    "    # Lets try to find a non null product category for same sub category in our dataframe \n",
    "    cond = (salesdf['Product Sub-Category'] == item) & (salesdf['Product Category'].isnull() == False)\n",
    "    res_category = salesdf[cond].iloc[1]['Product Category']\n",
    "    \n",
    "    cond_to_replace = (salesdf['Product Category'].isnull() == True) & (salesdf['Product Sub-Category'] == item)\n",
    "    salesdf.loc[cond_to_replace, 'Product Category'] = res_category\n",
    "\n",
    "for item in sub_cat_list:\n",
    "    fill_missing_product_category(item)\n",
    "    \n",
    "salesdf.isnull().sum()"
   ]
  },
  {
   "cell_type": "code",
   "execution_count": 307,
   "metadata": {},
   "outputs": [
    {
     "name": "stdout",
     "output_type": "stream",
     "text": [
      "Small Box     4337\n",
      "Wrap Bag      1164\n",
      "Small Pack     954\n",
      "Jumbo Drum     622\n",
      "Jumbo Box      531\n",
      "Large Box      402\n",
      "Medium Box     363\n",
      "Name: Product Container, dtype: int64\n"
     ]
    },
    {
     "data": {
      "text/plain": [
       "7044    Office Supplies\n",
       "7045    Office Supplies\n",
       "7046         Technology\n",
       "7047    Office Supplies\n",
       "7048          Furniture\n",
       "7049    Office Supplies\n",
       "7050    Office Supplies\n",
       "7051    Office Supplies\n",
       "7052    Office Supplies\n",
       "7053    Office Supplies\n",
       "7054         Technology\n",
       "7055          Furniture\n",
       "7056          Furniture\n",
       "7057    Office Supplies\n",
       "7058    Office Supplies\n",
       "Name: Product Category, dtype: object"
      ]
     },
     "execution_count": 307,
     "metadata": {},
     "output_type": "execute_result"
    }
   ],
   "source": [
    "# Dealing with missing Product Container values\n",
    "\n",
    "print(salesdf['Product Container'].value_counts())\n",
    "\n",
    "# Lets check Product Category for these entries\n",
    "salesdf[salesdf['Product Container'].isnull()]['Product Category']"
   ]
  },
  {
   "cell_type": "code",
   "execution_count": 308,
   "metadata": {},
   "outputs": [],
   "source": [
    "# From available data we can see that Office Supplies and Technology category generally has 'Small Box' as their container\n",
    "# while furniture items has 'Jumbo Box' as their container\n",
    "# we can follow same trend to fill missing values\n",
    "cond = ((salesdf['Product Category'] == \"Office Supplies\") | \\\n",
    "        (salesdf['Product Category'] == \"Technology\")) & \\\n",
    "        (salesdf['Product Container'].isnull() == True)\n",
    "salesdf.loc[cond, 'Product Container'] = 'Small Box'\n",
    "\n",
    "cond2 = ((salesdf['Product Category'] == \"Furniture\")) & \\\n",
    "        (salesdf['Product Container'].isnull() == True)\n",
    "salesdf.loc[cond2, 'Product Container'] = 'Jumbo Box'"
   ]
  },
  {
   "cell_type": "code",
   "execution_count": 309,
   "metadata": {},
   "outputs": [
    {
     "data": {
      "text/plain": [
       "Row ID                    0\n",
       "Order Date                0\n",
       "Order Priority            0\n",
       "Order Quantity            4\n",
       "Sales                    32\n",
       "Discount                  0\n",
       "Ship Mode                 0\n",
       "Profit                    0\n",
       "Unit Price                0\n",
       "Shipping Cost             0\n",
       "Customer Name            29\n",
       "Province                  0\n",
       "Region                    0\n",
       "Customer Segment          0\n",
       "Product Category          0\n",
       "Product Sub-Category      0\n",
       "Product Name            204\n",
       "Product Container         0\n",
       "Ship Date                 0\n",
       "dtype: int64"
      ]
     },
     "execution_count": 309,
     "metadata": {},
     "output_type": "execute_result"
    }
   ],
   "source": [
    "salesdf.isnull().sum()"
   ]
  },
  {
   "cell_type": "code",
   "execution_count": 310,
   "metadata": {},
   "outputs": [
    {
     "name": "stdout",
     "output_type": "stream",
     "text": [
      "1234\n"
     ]
    }
   ],
   "source": [
    "# Dealing with product name\n",
    "# lets check how many unique product names do we have in our sample, this would give an idea of whether this feature is useful or not\n",
    "prodcut_name_cardinality = len(salesdf['Product Name'].value_counts().index)\n",
    "print (prodcut_name_cardinality)"
   ]
  },
  {
   "cell_type": "code",
   "execution_count": 311,
   "metadata": {},
   "outputs": [],
   "source": [
    "# Product Name column has too much variance (too many product names), so this wouldn't go in our Machine Learning model.\n",
    "# So its not worth filling missing values for this column\n",
    "\n",
    "# Lets drop this column\n",
    "salesdf = salesdf.drop('Product Name', axis=1)"
   ]
  },
  {
   "cell_type": "code",
   "execution_count": 312,
   "metadata": {},
   "outputs": [
    {
     "data": {
      "text/plain": [
       "Row ID                   0\n",
       "Order Date               0\n",
       "Order Priority           0\n",
       "Order Quantity           4\n",
       "Sales                   32\n",
       "Discount                 0\n",
       "Ship Mode                0\n",
       "Profit                   0\n",
       "Unit Price               0\n",
       "Shipping Cost            0\n",
       "Province                 0\n",
       "Region                   0\n",
       "Customer Segment         0\n",
       "Product Category         0\n",
       "Product Sub-Category     0\n",
       "Product Container        0\n",
       "Ship Date                0\n",
       "dtype: int64"
      ]
     },
     "execution_count": 312,
     "metadata": {},
     "output_type": "execute_result"
    }
   ],
   "source": [
    "# Same goes for Customer Name column, we are not going to pass this feature to our ML model.\n",
    "# so lets drop Customer Name column as well\n",
    "salesdf = salesdf.drop('Customer Name', axis=1)\n",
    "\n",
    "salesdf.isnull().sum()"
   ]
  },
  {
   "cell_type": "code",
   "execution_count": 313,
   "metadata": {},
   "outputs": [
    {
     "name": "stdout",
     "output_type": "stream",
     "text": [
      "0.3814973772055317\n"
     ]
    }
   ],
   "source": [
    "# Lets calcuate % of records that are missing sales value\n",
    "precent_missing = ((salesdf['Sales'].isnull().sum())/salesdf.shape[0])*100\n",
    "print(precent_missing)"
   ]
  },
  {
   "cell_type": "code",
   "execution_count": 314,
   "metadata": {},
   "outputs": [],
   "source": [
    "# So only 0.38% records are missing sales value\n",
    "# Lets delete these records for now\n",
    "salesdf = salesdf.drop(salesdf[salesdf['Sales'].isnull()].index)\n",
    "\n",
    "# Lets do the same for Order Quantity\n",
    "salesdf = salesdf.drop(salesdf[salesdf['Order Quantity'].isnull()].index)"
   ]
  },
  {
   "cell_type": "code",
   "execution_count": 315,
   "metadata": {},
   "outputs": [
    {
     "data": {
      "text/plain": [
       "Order Date              0\n",
       "Order Priority          0\n",
       "Order Quantity          0\n",
       "Sales                   0\n",
       "Discount                0\n",
       "Ship Mode               0\n",
       "Profit                  0\n",
       "Unit Price              0\n",
       "Shipping Cost           0\n",
       "Province                0\n",
       "Region                  0\n",
       "Customer Segment        0\n",
       "Product Category        0\n",
       "Product Sub-Category    0\n",
       "Product Container       0\n",
       "Ship Date               0\n",
       "dtype: int64"
      ]
     },
     "execution_count": 315,
     "metadata": {},
     "output_type": "execute_result"
    }
   ],
   "source": [
    "# We don't really need any unique identifier for ML, lets drop Row ID as well\n",
    "salesdf = salesdf.drop('Row ID', axis=1)\n",
    "\n",
    "salesdf.isnull().sum()"
   ]
  },
  {
   "cell_type": "markdown",
   "metadata": {},
   "source": [
    "# Dealing with remaining categorical columns"
   ]
  },
  {
   "cell_type": "markdown",
   "metadata": {},
   "source": [
    "We have alreday removed categorical columnns with too many different values like Product Name and Customer Name after checking value_counts, Lets run same analysis over other categorical variables"
   ]
  },
  {
   "cell_type": "code",
   "execution_count": 316,
   "metadata": {},
   "outputs": [
    {
     "name": "stdout",
     "output_type": "stream",
     "text": [
      "High             1753\n",
      "Low              1711\n",
      "Not Specified    1672\n",
      "Medium           1613\n",
      "Critical         1603\n",
      "Name: Order Priority, dtype: int64\n"
     ]
    },
    {
     "data": {
      "text/plain": [
       "<matplotlib.axes._subplots.AxesSubplot at 0x1c5d1fb438>"
      ]
     },
     "execution_count": 316,
     "metadata": {},
     "output_type": "execute_result"
    },
    {
     "data": {
      "image/png": "[encoded data removed]",
      "text/plain": [
       "<Figure size 432x288 with 1 Axes>"
      ]
     },
     "metadata": {
      "needs_background": "light"
     },
     "output_type": "display_data"
    }
   ],
   "source": [
    "# For Order Priority\n",
    "\n",
    "print(salesdf['Order Priority'].value_counts())\n",
    "salesdf['Order Priority'].value_counts().plot(kind='bar')"
   ]
  },
  {
   "cell_type": "markdown",
   "metadata": {},
   "source": [
    "So distribution looks uniform, and it doesn't have too many unqiue values"
   ]
  },
  {
   "cell_type": "code",
   "execution_count": 317,
   "metadata": {},
   "outputs": [
    {
     "data": {
      "text/plain": [
       "Order Date              datetime64[ns]\n",
       "Order Priority                  object\n",
       "Order Quantity                 float64\n",
       "Sales                          float64\n",
       "Discount                       float64\n",
       "Ship Mode                       object\n",
       "Profit                         float64\n",
       "Unit Price                     float64\n",
       "Shipping Cost                  float64\n",
       "Province                        object\n",
       "Region                          object\n",
       "Customer Segment                object\n",
       "Product Category                object\n",
       "Product Sub-Category            object\n",
       "Product Container               object\n",
       "Ship Date               datetime64[ns]\n",
       "dtype: object"
      ]
     },
     "execution_count": 317,
     "metadata": {},
     "output_type": "execute_result"
    }
   ],
   "source": [
    "salesdf.dtypes"
   ]
  },
  {
   "cell_type": "code",
   "execution_count": 318,
   "metadata": {},
   "outputs": [
    {
     "name": "stdout",
     "output_type": "stream",
     "text": [
      "Regular Air       6237\n",
      "Delivery Truck    1140\n",
      "Express Air        975\n",
      "Name: Ship Mode, dtype: int64\n"
     ]
    },
    {
     "data": {
      "text/plain": [
       "<matplotlib.axes._subplots.AxesSubplot at 0x1c5d786e80>"
      ]
     },
     "execution_count": 318,
     "metadata": {},
     "output_type": "execute_result"
    },
    {
     "data": {
      "image/png": "[encoded data removed]",
      "text/plain": [
       "<Figure size 432x288 with 1 Axes>"
      ]
     },
     "metadata": {
      "needs_background": "light"
     },
     "output_type": "display_data"
    }
   ],
   "source": [
    "# For Ship Mode\n",
    "print(salesdf['Ship Mode'].value_counts())\n",
    "salesdf['Ship Mode'].value_counts().plot(kind='bar')"
   ]
  },
  {
   "cell_type": "markdown",
   "metadata": {},
   "source": [
    "So most of the transactions in our sample (74.67% to be exact) were shipped via `Regular Air`"
   ]
  },
  {
   "cell_type": "code",
   "execution_count": 319,
   "metadata": {},
   "outputs": [
    {
     "name": "stdout",
     "output_type": "stream",
     "text": [
      "Ontario                  1818\n",
      "British Columbia         1107\n",
      "Saskachewan               912\n",
      "Alberta                   865\n",
      "Manitoba                  791\n",
      "Quebec                    774\n",
      "Yukon                     540\n",
      "Nova Scotia               457\n",
      "Northwest Territories     394\n",
      "New Brunswick             323\n",
      "Prince Edward Island      211\n",
      "Newfoundland               82\n",
      "Nunavut                    78\n",
      "Name: Province, dtype: int64\n"
     ]
    },
    {
     "data": {
      "text/plain": [
       "<matplotlib.axes._subplots.AxesSubplot at 0x1c5d224f28>"
      ]
     },
     "execution_count": 319,
     "metadata": {},
     "output_type": "execute_result"
    },
    {
     "data": {
      "image/png": "[encoded data removed]",
      "text/plain": [
       "<Figure size 432x288 with 1 Axes>"
      ]
     },
     "metadata": {
      "needs_background": "light"
     },
     "output_type": "display_data"
    }
   ],
   "source": [
    "# For Province\n",
    "print(salesdf['Province'].value_counts())\n",
    "salesdf['Province'].value_counts().plot(kind='bar')"
   ]
  },
  {
   "cell_type": "code",
   "execution_count": 320,
   "metadata": {},
   "outputs": [
    {
     "name": "stdout",
     "output_type": "stream",
     "text": [
      "West                     1972\n",
      "Ontario                  1818\n",
      "Prarie                   1703\n",
      "Atlantic                 1073\n",
      "Quebec                    774\n",
      "Yukon                     540\n",
      "Northwest Territories     394\n",
      "Nunavut                    78\n",
      "Name: Region, dtype: int64\n"
     ]
    },
    {
     "data": {
      "text/plain": [
       "<matplotlib.axes._subplots.AxesSubplot at 0x1c5d215390>"
      ]
     },
     "execution_count": 320,
     "metadata": {},
     "output_type": "execute_result"
    },
    {
     "data": {
      "image/png": "[encoded data removed]",
      "text/plain": [
       "<Figure size 432x288 with 1 Axes>"
      ]
     },
     "metadata": {
      "needs_background": "light"
     },
     "output_type": "display_data"
    }
   ],
   "source": [
    "# For Region\n",
    "print(salesdf['Region'].value_counts())\n",
    "salesdf['Region'].value_counts().plot(kind='bar')"
   ]
  },
  {
   "cell_type": "markdown",
   "metadata": {},
   "source": [
    "Both Province and Region are following same distribution. So we can keep Region as it has less unique values and its equally meaningful."
   ]
  },
  {
   "cell_type": "code",
   "execution_count": 321,
   "metadata": {},
   "outputs": [],
   "source": [
    "salesdf = salesdf.drop('Province', axis=1)"
   ]
  },
  {
   "cell_type": "code",
   "execution_count": 322,
   "metadata": {},
   "outputs": [
    {
     "name": "stdout",
     "output_type": "stream",
     "text": [
      "Corporate         3062\n",
      "Home Office       2027\n",
      "Consumer          1635\n",
      "Small Business    1628\n",
      "Name: Customer Segment, dtype: int64\n"
     ]
    },
    {
     "data": {
      "text/plain": [
       "<matplotlib.axes._subplots.AxesSubplot at 0x1c5d73b748>"
      ]
     },
     "execution_count": 322,
     "metadata": {},
     "output_type": "execute_result"
    },
    {
     "data": {
      "image/png": "[encoded data removed]",
      "text/plain": [
       "<Figure size 432x288 with 1 Axes>"
      ]
     },
     "metadata": {
      "needs_background": "light"
     },
     "output_type": "display_data"
    }
   ],
   "source": [
    "# For Customer Segment \n",
    "print(salesdf['Customer Segment'].value_counts())\n",
    "salesdf['Customer Segment'].value_counts().plot(kind='bar')"
   ]
  },
  {
   "cell_type": "markdown",
   "metadata": {},
   "source": [
    "More transactions are from Corporate customers. This is a valuable information, could be useful for other departments as well like for targeted marketing."
   ]
  },
  {
   "cell_type": "code",
   "execution_count": 323,
   "metadata": {},
   "outputs": [
    {
     "name": "stdout",
     "output_type": "stream",
     "text": [
      "Office Supplies    4587\n",
      "Technology         2053\n",
      "Furniture          1712\n",
      "Name: Product Category, dtype: int64\n"
     ]
    },
    {
     "data": {
      "text/plain": [
       "<matplotlib.axes._subplots.AxesSubplot at 0x1c5d73bd30>"
      ]
     },
     "execution_count": 323,
     "metadata": {},
     "output_type": "execute_result"
    },
    {
     "data": {
      "image/png": "[encoded data removed]",
      "text/plain": [
       "<Figure size 432x288 with 1 Axes>"
      ]
     },
     "metadata": {
      "needs_background": "light"
     },
     "output_type": "display_data"
    }
   ],
   "source": [
    "# For Product Category\n",
    "print(salesdf['Product Category'].value_counts())\n",
    "salesdf['Product Category'].value_counts().plot(kind='bar')"
   ]
  },
  {
   "cell_type": "markdown",
   "metadata": {},
   "source": [
    "From the trend in above plot, Most sold category is `Office Supplies`"
   ]
  },
  {
   "cell_type": "code",
   "execution_count": 324,
   "metadata": {},
   "outputs": [
    {
     "name": "stdout",
     "output_type": "stream",
     "text": [
      "Paper                             1219\n",
      "Binders and Binder Accessories     913\n",
      "Telephones and Communication       875\n",
      "Office Furnishings                 781\n",
      "Computer Peripherals               757\n",
      "Pens & Art Supplies                629\n",
      "Storage & Organization             543\n",
      "Appliances                         432\n",
      "Chairs & Chairmats                 385\n",
      "Tables                             358\n",
      "Office Machines                    336\n",
      "Labels                             287\n",
      "Envelopes                          243\n",
      "Bookcases                          188\n",
      "Rubber Bands                       178\n",
      "Scissors, Rulers and Trimmers      143\n",
      "Copiers and Fax                     85\n",
      "Name: Product Sub-Category, dtype: int64\n"
     ]
    },
    {
     "data": {
      "text/plain": [
       "<matplotlib.axes._subplots.AxesSubplot at 0x1c5d36af60>"
      ]
     },
     "execution_count": 324,
     "metadata": {},
     "output_type": "execute_result"
    },
    {
     "data": {
      "image/png": "[encoded data removed]",
      "text/plain": [
       "<Figure size 432x288 with 1 Axes>"
      ]
     },
     "metadata": {
      "needs_background": "light"
     },
     "output_type": "display_data"
    }
   ],
   "source": [
    "# For Product Sub-Category\n",
    "print(salesdf['Product Sub-Category'].value_counts())\n",
    "salesdf['Product Sub-Category'].value_counts().plot(kind='bar')"
   ]
  },
  {
   "cell_type": "code",
   "execution_count": 325,
   "metadata": {},
   "outputs": [
    {
     "name": "stdout",
     "output_type": "stream",
     "text": [
      "Small Box     4328\n",
      "Wrap Bag      1160\n",
      "Small Pack     951\n",
      "Jumbo Drum     620\n",
      "Jumbo Box      531\n",
      "Large Box      400\n",
      "Medium Box     362\n",
      "Name: Product Container, dtype: int64\n"
     ]
    },
    {
     "data": {
      "text/plain": [
       "<matplotlib.axes._subplots.AxesSubplot at 0x1c5d312400>"
      ]
     },
     "execution_count": 325,
     "metadata": {},
     "output_type": "execute_result"
    },
    {
     "data": {
      "image/png": "[encoded data removed]",
      "text/plain": [
       "<Figure size 432x288 with 1 Axes>"
      ]
     },
     "metadata": {
      "needs_background": "light"
     },
     "output_type": "display_data"
    }
   ],
   "source": [
    "# For Product Container\n",
    "print(salesdf['Product Container'].value_counts())\n",
    "salesdf['Product Container'].value_counts().plot(kind='bar')"
   ]
  },
  {
   "cell_type": "code",
   "execution_count": 326,
   "metadata": {},
   "outputs": [
    {
     "data": {
      "text/plain": [
       "Order Date              datetime64[ns]\n",
       "Order Priority                  object\n",
       "Order Quantity                 float64\n",
       "Sales                          float64\n",
       "Discount                       float64\n",
       "Ship Mode                       object\n",
       "Profit                         float64\n",
       "Unit Price                     float64\n",
       "Shipping Cost                  float64\n",
       "Region                          object\n",
       "Customer Segment                object\n",
       "Product Category                object\n",
       "Product Sub-Category            object\n",
       "Product Container               object\n",
       "Ship Date               datetime64[ns]\n",
       "dtype: object"
      ]
     },
     "execution_count": 326,
     "metadata": {},
     "output_type": "execute_result"
    }
   ],
   "source": [
    "salesdf.dtypes"
   ]
  },
  {
   "cell_type": "code",
   "execution_count": 415,
   "metadata": {},
   "outputs": [
    {
     "data": {
      "image/png": "[encoded data removed]",
      "text/plain": [
       "<Figure size 432x288 with 1 Axes>"
      ]
     },
     "metadata": {},
     "output_type": "display_data"
    },
    {
     "data": {
      "image/png": "[encoded data removed]",
      "text/plain": [
       "<Figure size 432x288 with 1 Axes>"
      ]
     },
     "metadata": {},
     "output_type": "display_data"
    },
    {
     "data": {
      "image/png": "[encoded data removed]",
      "text/plain": [
       "<Figure size 432x288 with 1 Axes>"
      ]
     },
     "metadata": {},
     "output_type": "display_data"
    },
    {
     "data": {
      "image/png": "[encoded data removed]",
      "text/plain": [
       "<Figure size 432x288 with 1 Axes>"
      ]
     },
     "metadata": {},
     "output_type": "display_data"
    },
    {
     "data": {
      "image/png": "[encoded data removed]",
      "text/plain": [
       "<Figure size 432x288 with 1 Axes>"
      ]
     },
     "metadata": {},
     "output_type": "display_data"
    },
    {
     "data": {
      "image/png": "[encoded data removed]",
      "text/plain": [
       "<Figure size 432x288 with 1 Axes>"
      ]
     },
     "metadata": {},
     "output_type": "display_data"
    },
    {
     "data": {
      "image/png": "[encoded data removed]",
      "text/plain": [
       "<Figure size 432x288 with 1 Axes>"
      ]
     },
     "metadata": {},
     "output_type": "display_data"
    }
   ],
   "source": [
    "# For boxplots, lets first convert all columns holding categorical data to pandas category type\n",
    "\n",
    "# Lets pick categorical columns in a separate dataframe to be on safe side\n",
    "salesdf_cat = salesdf[['Order Priority', 'Ship Mode', 'Region',\n",
    "                       'Customer Segment', 'Product Category', 'Product Sub-Category',\n",
    "                       'Product Container']]\n",
    "\n",
    "mapper = {}\n",
    "\n",
    "for i in salesdf_cat.columns:\n",
    "    salesdf_cat[i] = salesdf_cat[i].astype('category')\n",
    "    k = i.lower().replace(' ', '_')\n",
    "    # Save map to use later for better understanding\n",
    "    d = dict(enumerate(salesdf_cat[i].cat.categories))\n",
    "    mapper[k] = d\n",
    "    salesdf_cat[k] = salesdf_cat[i].cat.codes\n",
    "    salesdf_cat = salesdf_cat.drop(i, axis=1)\n",
    "\n",
    "import matplotlib.pyplot as plt    \n",
    "#print(mapper)\n",
    "\n",
    "for i in salesdf_cat.columns:\n",
    "    text_to_display = \"\"\n",
    "    count = 0\n",
    "    for k,v in mapper[i].items():\n",
    "        count += 1\n",
    "        text_to_display += \"%s = %s\"%(str(k),v)\n",
    "        if count%2 == 0:\n",
    "            text_to_display += \"\\n\"\n",
    "        else:\n",
    "            text_to_display += \", \"\n",
    "    fig = plt.figure()\n",
    "    plt.text(2, 1, text_to_display)\n",
    "    salesdf_cat.boxplot(column=i, sym='o', return_type='axes')\n"
   ]
  },
  {
   "cell_type": "markdown",
   "metadata": {},
   "source": [
    "# T-Test"
   ]
  },
  {
   "cell_type": "code",
   "execution_count": 327,
   "metadata": {},
   "outputs": [
    {
     "name": "stdout",
     "output_type": "stream",
     "text": [
      "['Order Quantity', 'Sales', 'Discount', 'Profit', 'Unit Price', 'Shipping Cost']\n",
      "(Order Quantity,Sales) => t-value=-44.5389137407195, p-value=0.0\n",
      "(Order Quantity,Discount) => t-value=161.12966725674866, p-value=0.0\n",
      "(Order Quantity,Profit) => t-value=-11.822812178316441, p-value=3.9964633076931246e-32\n",
      "(Order Quantity,Unit Price) => t-value=-19.983135255876505, p-value=8.188665624640895e-88\n",
      "(Order Quantity,Shipping Cost) => t-value=51.69520445898756, p-value=0.0\n",
      "(Sales,Discount) => t-value=45.190292191482314, p-value=0.0\n",
      "(Sales,Profit) => t-value=38.499890530314595, p-value=0.0\n",
      "(Sales,Unit Price) => t-value=42.774598711822804, p-value=0.0\n",
      "(Sales,Shipping Cost) => t-value=44.86380370612504, p-value=0.0\n",
      "(Discount,Profit) => t-value=-13.772921561952915, p-value=6.36602626876494e-43\n",
      "(Discount,Unit Price) => t-value=-28.02843789920349, p-value=5.81737320653967e-169\n",
      "(Discount,Shipping Cost) => t-value=-67.6579701418828, p-value=0.0\n",
      "(Profit,Unit Price) => t-value=6.764248794815616, p-value=1.3844788792096196e-11\n",
      "(Profit,Shipping Cost) => t-value=12.795589797749637, p-value=2.5978606767585318e-37\n",
      "(Unit Price,Shipping Cost) => t-value=23.970296849100045, p-value=7.237057568775969e-125\n"
     ]
    }
   ],
   "source": [
    "# T-Test\n",
    "types_map = salesdf.dtypes.to_dict()\n",
    "num_columns = []\n",
    "for k,v in types_map.items():\n",
    "    if np.issubdtype(np.int64, v) or np.issubdtype(np.float64, v):\n",
    "        num_columns.append(k)\n",
    "\n",
    "print(num_columns)\n",
    "\n",
    "for i in range(len(num_columns)-1):\n",
    "    for j in range(i+1,len(num_columns)):\n",
    "        col1 = num_columns[i]\n",
    "        col2 = num_columns[j]\n",
    "        t_val, p_val = stats.ttest_ind(salesdf[col1], salesdf[col2])\n",
    "        print(\"(%s,%s) => t-value=%s, p-value=%s\" % (num_columns[i], num_columns[j], str(t_val), str(p_val)))"
   ]
  },
  {
   "cell_type": "markdown",
   "metadata": {},
   "source": [
    "Conducted t-test for between all numeric columns in our dataset(i.e. `'Order Quantity', 'Sales', 'Discount', 'Profit', 'Unit Price', 'Shipping Cost'`) and as shown in the results above all p-value for every pair turns out to be less than 0.05 (p-val < 0.05), infact its very small for every pair.\n",
    "Thus, there is a statistically significant difference between all above mentioned numeric columns"
   ]
  },
  {
   "cell_type": "markdown",
   "metadata": {},
   "source": [
    "# 1-way Anova"
   ]
  },
  {
   "cell_type": "code",
   "execution_count": 328,
   "metadata": {},
   "outputs": [
    {
     "name": "stdout",
     "output_type": "stream",
     "text": [
      "['Ship Mode', 'Customer Segment', 'Order Priority', 'Product Category', 'Region', 'Product Container', 'Product Sub-Category']\n",
      "['Order Quantity', 'Sales', 'Discount', 'Profit', 'Unit Price', 'Shipping Cost']\n",
      "\n",
      "Anova => Sales - Ship Mode\n"
     ]
    },
    {
     "data": {
      "text/html": [
       "<div>\n",
       "<style scoped>\n",
       "    .dataframe tbody tr th:only-of-type {\n",
       "        vertical-align: middle;\n",
       "    }\n",
       "\n",
       "    .dataframe tbody tr th {\n",
       "        vertical-align: top;\n",
       "    }\n",
       "\n",
       "    .dataframe thead th {\n",
       "        text-align: right;\n",
       "    }\n",
       "</style>\n",
       "<table border=\"1\" class=\"dataframe\">\n",
       "  <thead>\n",
       "    <tr style=\"text-align: right;\">\n",
       "      <th></th>\n",
       "      <th>sum_sq</th>\n",
       "      <th>df</th>\n",
       "      <th>F</th>\n",
       "      <th>PR(&gt;F)</th>\n",
       "    </tr>\n",
       "  </thead>\n",
       "  <tbody>\n",
       "    <tr>\n",
       "      <th>C(Q(\"Ship Mode\"))</th>\n",
       "      <td>1.757056e+10</td>\n",
       "      <td>2.0</td>\n",
       "      <td>817.976737</td>\n",
       "      <td>0.0</td>\n",
       "    </tr>\n",
       "    <tr>\n",
       "      <th>Residual</th>\n",
       "      <td>8.967040e+10</td>\n",
       "      <td>8349.0</td>\n",
       "      <td>NaN</td>\n",
       "      <td>NaN</td>\n",
       "    </tr>\n",
       "  </tbody>\n",
       "</table>\n",
       "</div>"
      ],
      "text/plain": [
       "                         sum_sq      df           F  PR(>F)\n",
       "C(Q(\"Ship Mode\"))  1.757056e+10     2.0  817.976737     0.0\n",
       "Residual           8.967040e+10  8349.0         NaN     NaN"
      ]
     },
     "metadata": {},
     "output_type": "display_data"
    },
    {
     "name": "stdout",
     "output_type": "stream",
     "text": [
      "\n",
      "Anova => Sales - Customer Segment\n"
     ]
    },
    {
     "data": {
      "text/html": [
       "<div>\n",
       "<style scoped>\n",
       "    .dataframe tbody tr th:only-of-type {\n",
       "        vertical-align: middle;\n",
       "    }\n",
       "\n",
       "    .dataframe tbody tr th {\n",
       "        vertical-align: top;\n",
       "    }\n",
       "\n",
       "    .dataframe thead th {\n",
       "        text-align: right;\n",
       "    }\n",
       "</style>\n",
       "<table border=\"1\" class=\"dataframe\">\n",
       "  <thead>\n",
       "    <tr style=\"text-align: right;\">\n",
       "      <th></th>\n",
       "      <th>sum_sq</th>\n",
       "      <th>df</th>\n",
       "      <th>F</th>\n",
       "      <th>PR(&gt;F)</th>\n",
       "    </tr>\n",
       "  </thead>\n",
       "  <tbody>\n",
       "    <tr>\n",
       "      <th>C(Q(\"Customer Segment\"))</th>\n",
       "      <td>1.941470e+07</td>\n",
       "      <td>3.0</td>\n",
       "      <td>0.50386</td>\n",
       "      <td>0.679611</td>\n",
       "    </tr>\n",
       "    <tr>\n",
       "      <th>Residual</th>\n",
       "      <td>1.072216e+11</td>\n",
       "      <td>8348.0</td>\n",
       "      <td>NaN</td>\n",
       "      <td>NaN</td>\n",
       "    </tr>\n",
       "  </tbody>\n",
       "</table>\n",
       "</div>"
      ],
      "text/plain": [
       "                                sum_sq      df        F    PR(>F)\n",
       "C(Q(\"Customer Segment\"))  1.941470e+07     3.0  0.50386  0.679611\n",
       "Residual                  1.072216e+11  8348.0      NaN       NaN"
      ]
     },
     "metadata": {},
     "output_type": "display_data"
    },
    {
     "name": "stdout",
     "output_type": "stream",
     "text": [
      "\n",
      "Anova => Sales - Order Priority\n"
     ]
    },
    {
     "data": {
      "text/html": [
       "<div>\n",
       "<style scoped>\n",
       "    .dataframe tbody tr th:only-of-type {\n",
       "        vertical-align: middle;\n",
       "    }\n",
       "\n",
       "    .dataframe tbody tr th {\n",
       "        vertical-align: top;\n",
       "    }\n",
       "\n",
       "    .dataframe thead th {\n",
       "        text-align: right;\n",
       "    }\n",
       "</style>\n",
       "<table border=\"1\" class=\"dataframe\">\n",
       "  <thead>\n",
       "    <tr style=\"text-align: right;\">\n",
       "      <th></th>\n",
       "      <th>sum_sq</th>\n",
       "      <th>df</th>\n",
       "      <th>F</th>\n",
       "      <th>PR(&gt;F)</th>\n",
       "    </tr>\n",
       "  </thead>\n",
       "  <tbody>\n",
       "    <tr>\n",
       "      <th>C(Q(\"Order Priority\"))</th>\n",
       "      <td>7.553057e+07</td>\n",
       "      <td>4.0</td>\n",
       "      <td>1.470749</td>\n",
       "      <td>0.208165</td>\n",
       "    </tr>\n",
       "    <tr>\n",
       "      <th>Residual</th>\n",
       "      <td>1.071654e+11</td>\n",
       "      <td>8347.0</td>\n",
       "      <td>NaN</td>\n",
       "      <td>NaN</td>\n",
       "    </tr>\n",
       "  </tbody>\n",
       "</table>\n",
       "</div>"
      ],
      "text/plain": [
       "                              sum_sq      df         F    PR(>F)\n",
       "C(Q(\"Order Priority\"))  7.553057e+07     4.0  1.470749  0.208165\n",
       "Residual                1.071654e+11  8347.0       NaN       NaN"
      ]
     },
     "metadata": {},
     "output_type": "display_data"
    },
    {
     "name": "stdout",
     "output_type": "stream",
     "text": [
      "\n",
      "Anova => Sales - Product Category\n"
     ]
    },
    {
     "data": {
      "text/html": [
       "<div>\n",
       "<style scoped>\n",
       "    .dataframe tbody tr th:only-of-type {\n",
       "        vertical-align: middle;\n",
       "    }\n",
       "\n",
       "    .dataframe tbody tr th {\n",
       "        vertical-align: top;\n",
       "    }\n",
       "\n",
       "    .dataframe thead th {\n",
       "        text-align: right;\n",
       "    }\n",
       "</style>\n",
       "<table border=\"1\" class=\"dataframe\">\n",
       "  <thead>\n",
       "    <tr style=\"text-align: right;\">\n",
       "      <th></th>\n",
       "      <th>sum_sq</th>\n",
       "      <th>df</th>\n",
       "      <th>F</th>\n",
       "      <th>PR(&gt;F)</th>\n",
       "    </tr>\n",
       "  </thead>\n",
       "  <tbody>\n",
       "    <tr>\n",
       "      <th>C(Q(\"Product Category\"))</th>\n",
       "      <td>9.360399e+09</td>\n",
       "      <td>2.0</td>\n",
       "      <td>399.210859</td>\n",
       "      <td>2.640145e-166</td>\n",
       "    </tr>\n",
       "    <tr>\n",
       "      <th>Residual</th>\n",
       "      <td>9.788057e+10</td>\n",
       "      <td>8349.0</td>\n",
       "      <td>NaN</td>\n",
       "      <td>NaN</td>\n",
       "    </tr>\n",
       "  </tbody>\n",
       "</table>\n",
       "</div>"
      ],
      "text/plain": [
       "                                sum_sq      df           F         PR(>F)\n",
       "C(Q(\"Product Category\"))  9.360399e+09     2.0  399.210859  2.640145e-166\n",
       "Residual                  9.788057e+10  8349.0         NaN            NaN"
      ]
     },
     "metadata": {},
     "output_type": "display_data"
    },
    {
     "name": "stdout",
     "output_type": "stream",
     "text": [
      "\n",
      "Anova => Sales - Region\n"
     ]
    },
    {
     "data": {
      "text/html": [
       "<div>\n",
       "<style scoped>\n",
       "    .dataframe tbody tr th:only-of-type {\n",
       "        vertical-align: middle;\n",
       "    }\n",
       "\n",
       "    .dataframe tbody tr th {\n",
       "        vertical-align: top;\n",
       "    }\n",
       "\n",
       "    .dataframe thead th {\n",
       "        text-align: right;\n",
       "    }\n",
       "</style>\n",
       "<table border=\"1\" class=\"dataframe\">\n",
       "  <thead>\n",
       "    <tr style=\"text-align: right;\">\n",
       "      <th></th>\n",
       "      <th>sum_sq</th>\n",
       "      <th>df</th>\n",
       "      <th>F</th>\n",
       "      <th>PR(&gt;F)</th>\n",
       "    </tr>\n",
       "  </thead>\n",
       "  <tbody>\n",
       "    <tr>\n",
       "      <th>C(Q(\"Region\"))</th>\n",
       "      <td>1.008541e+08</td>\n",
       "      <td>7.0</td>\n",
       "      <td>1.122065</td>\n",
       "      <td>0.345725</td>\n",
       "    </tr>\n",
       "    <tr>\n",
       "      <th>Residual</th>\n",
       "      <td>1.071401e+11</td>\n",
       "      <td>8344.0</td>\n",
       "      <td>NaN</td>\n",
       "      <td>NaN</td>\n",
       "    </tr>\n",
       "  </tbody>\n",
       "</table>\n",
       "</div>"
      ],
      "text/plain": [
       "                      sum_sq      df         F    PR(>F)\n",
       "C(Q(\"Region\"))  1.008541e+08     7.0  1.122065  0.345725\n",
       "Residual        1.071401e+11  8344.0       NaN       NaN"
      ]
     },
     "metadata": {},
     "output_type": "display_data"
    },
    {
     "name": "stdout",
     "output_type": "stream",
     "text": [
      "\n",
      "Anova => Sales - Product Container\n"
     ]
    },
    {
     "data": {
      "text/html": [
       "<div>\n",
       "<style scoped>\n",
       "    .dataframe tbody tr th:only-of-type {\n",
       "        vertical-align: middle;\n",
       "    }\n",
       "\n",
       "    .dataframe tbody tr th {\n",
       "        vertical-align: top;\n",
       "    }\n",
       "\n",
       "    .dataframe thead th {\n",
       "        text-align: right;\n",
       "    }\n",
       "</style>\n",
       "<table border=\"1\" class=\"dataframe\">\n",
       "  <thead>\n",
       "    <tr style=\"text-align: right;\">\n",
       "      <th></th>\n",
       "      <th>sum_sq</th>\n",
       "      <th>df</th>\n",
       "      <th>F</th>\n",
       "      <th>PR(&gt;F)</th>\n",
       "    </tr>\n",
       "  </thead>\n",
       "  <tbody>\n",
       "    <tr>\n",
       "      <th>C(Q(\"Product Container\"))</th>\n",
       "      <td>2.503095e+10</td>\n",
       "      <td>6.0</td>\n",
       "      <td>423.4749</td>\n",
       "      <td>0.0</td>\n",
       "    </tr>\n",
       "    <tr>\n",
       "      <th>Residual</th>\n",
       "      <td>8.221002e+10</td>\n",
       "      <td>8345.0</td>\n",
       "      <td>NaN</td>\n",
       "      <td>NaN</td>\n",
       "    </tr>\n",
       "  </tbody>\n",
       "</table>\n",
       "</div>"
      ],
      "text/plain": [
       "                                 sum_sq      df         F  PR(>F)\n",
       "C(Q(\"Product Container\"))  2.503095e+10     6.0  423.4749     0.0\n",
       "Residual                   8.221002e+10  8345.0       NaN     NaN"
      ]
     },
     "metadata": {},
     "output_type": "display_data"
    },
    {
     "name": "stdout",
     "output_type": "stream",
     "text": [
      "\n",
      "Anova => Sales - Product Sub-Category\n"
     ]
    },
    {
     "data": {
      "text/html": [
       "<div>\n",
       "<style scoped>\n",
       "    .dataframe tbody tr th:only-of-type {\n",
       "        vertical-align: middle;\n",
       "    }\n",
       "\n",
       "    .dataframe tbody tr th {\n",
       "        vertical-align: top;\n",
       "    }\n",
       "\n",
       "    .dataframe thead th {\n",
       "        text-align: right;\n",
       "    }\n",
       "</style>\n",
       "<table border=\"1\" class=\"dataframe\">\n",
       "  <thead>\n",
       "    <tr style=\"text-align: right;\">\n",
       "      <th></th>\n",
       "      <th>sum_sq</th>\n",
       "      <th>df</th>\n",
       "      <th>F</th>\n",
       "      <th>PR(&gt;F)</th>\n",
       "    </tr>\n",
       "  </thead>\n",
       "  <tbody>\n",
       "    <tr>\n",
       "      <th>C(Q(\"Product Sub-Category\"))</th>\n",
       "      <td>3.368875e+10</td>\n",
       "      <td>16.0</td>\n",
       "      <td>238.602344</td>\n",
       "      <td>0.0</td>\n",
       "    </tr>\n",
       "    <tr>\n",
       "      <th>Residual</th>\n",
       "      <td>7.355222e+10</td>\n",
       "      <td>8335.0</td>\n",
       "      <td>NaN</td>\n",
       "      <td>NaN</td>\n",
       "    </tr>\n",
       "  </tbody>\n",
       "</table>\n",
       "</div>"
      ],
      "text/plain": [
       "                                    sum_sq      df           F  PR(>F)\n",
       "C(Q(\"Product Sub-Category\"))  3.368875e+10    16.0  238.602344     0.0\n",
       "Residual                      7.355222e+10  8335.0         NaN     NaN"
      ]
     },
     "metadata": {},
     "output_type": "display_data"
    }
   ],
   "source": [
    "categorical = list((set(salesdf.columns) - set(num_columns)) - set(['Order Date', 'Ship Date']))\n",
    "print(categorical)\n",
    "print(num_columns)\n",
    "\n",
    "import scipy.stats as stats\n",
    "import statsmodels.api as sm\n",
    "from statsmodels.formula.api import ols\n",
    "\n",
    "# Taking 1-way anova of Sales with all categorical variables\n",
    "for i in categorical:\n",
    "    model = ols('Sales ~ C(Q(\"%s\"))'% i, data=salesdf).fit()\n",
    "    anova_table = sm.stats.anova_lm(model, typ=2)\n",
    "    print (\"\\nAnova => Sales - %s\" % i)\n",
    "    display(anova_table)\n"
   ]
  },
  {
   "cell_type": "markdown",
   "metadata": {},
   "source": [
    "With our null hypothesis being Ho = no difference between population means of Sales and groups(categorical columns).\n",
    "Above results of 1-way Anova indicates that for Ship Mode, Product Category, Product Container and Product Sub-Category p-value turns out to be less than 0.05, so we can reject our null hypothesis thus we can state with 95% confidence that difference between means exist for sales and groups in above mentioned columns"
   ]
  },
  {
   "cell_type": "markdown",
   "metadata": {},
   "source": [
    "Lets perform the same 1-way anova test between profit and categorical colums we used above"
   ]
  },
  {
   "cell_type": "code",
   "execution_count": 329,
   "metadata": {},
   "outputs": [
    {
     "name": "stdout",
     "output_type": "stream",
     "text": [
      "\n",
      " Anova => Profit - Ship Mode\n"
     ]
    },
    {
     "data": {
      "text/html": [
       "<div>\n",
       "<style scoped>\n",
       "    .dataframe tbody tr th:only-of-type {\n",
       "        vertical-align: middle;\n",
       "    }\n",
       "\n",
       "    .dataframe tbody tr th {\n",
       "        vertical-align: top;\n",
       "    }\n",
       "\n",
       "    .dataframe thead th {\n",
       "        text-align: right;\n",
       "    }\n",
       "</style>\n",
       "<table border=\"1\" class=\"dataframe\">\n",
       "  <thead>\n",
       "    <tr style=\"text-align: right;\">\n",
       "      <th></th>\n",
       "      <th>sum_sq</th>\n",
       "      <th>df</th>\n",
       "      <th>F</th>\n",
       "      <th>PR(&gt;F)</th>\n",
       "    </tr>\n",
       "  </thead>\n",
       "  <tbody>\n",
       "    <tr>\n",
       "      <th>C(Q(\"Ship Mode\"))</th>\n",
       "      <td>4.346644e+06</td>\n",
       "      <td>2.0</td>\n",
       "      <td>1.517422</td>\n",
       "      <td>0.219337</td>\n",
       "    </tr>\n",
       "    <tr>\n",
       "      <th>Residual</th>\n",
       "      <td>1.195783e+10</td>\n",
       "      <td>8349.0</td>\n",
       "      <td>NaN</td>\n",
       "      <td>NaN</td>\n",
       "    </tr>\n",
       "  </tbody>\n",
       "</table>\n",
       "</div>"
      ],
      "text/plain": [
       "                         sum_sq      df         F    PR(>F)\n",
       "C(Q(\"Ship Mode\"))  4.346644e+06     2.0  1.517422  0.219337\n",
       "Residual           1.195783e+10  8349.0       NaN       NaN"
      ]
     },
     "metadata": {},
     "output_type": "display_data"
    },
    {
     "name": "stdout",
     "output_type": "stream",
     "text": [
      "\n",
      " Anova => Profit - Customer Segment\n"
     ]
    },
    {
     "data": {
      "text/html": [
       "<div>\n",
       "<style scoped>\n",
       "    .dataframe tbody tr th:only-of-type {\n",
       "        vertical-align: middle;\n",
       "    }\n",
       "\n",
       "    .dataframe tbody tr th {\n",
       "        vertical-align: top;\n",
       "    }\n",
       "\n",
       "    .dataframe thead th {\n",
       "        text-align: right;\n",
       "    }\n",
       "</style>\n",
       "<table border=\"1\" class=\"dataframe\">\n",
       "  <thead>\n",
       "    <tr style=\"text-align: right;\">\n",
       "      <th></th>\n",
       "      <th>sum_sq</th>\n",
       "      <th>df</th>\n",
       "      <th>F</th>\n",
       "      <th>PR(&gt;F)</th>\n",
       "    </tr>\n",
       "  </thead>\n",
       "  <tbody>\n",
       "    <tr>\n",
       "      <th>C(Q(\"Customer Segment\"))</th>\n",
       "      <td>2.001609e+06</td>\n",
       "      <td>3.0</td>\n",
       "      <td>0.465696</td>\n",
       "      <td>0.706225</td>\n",
       "    </tr>\n",
       "    <tr>\n",
       "      <th>Residual</th>\n",
       "      <td>1.196017e+10</td>\n",
       "      <td>8348.0</td>\n",
       "      <td>NaN</td>\n",
       "      <td>NaN</td>\n",
       "    </tr>\n",
       "  </tbody>\n",
       "</table>\n",
       "</div>"
      ],
      "text/plain": [
       "                                sum_sq      df         F    PR(>F)\n",
       "C(Q(\"Customer Segment\"))  2.001609e+06     3.0  0.465696  0.706225\n",
       "Residual                  1.196017e+10  8348.0       NaN       NaN"
      ]
     },
     "metadata": {},
     "output_type": "display_data"
    },
    {
     "name": "stdout",
     "output_type": "stream",
     "text": [
      "\n",
      " Anova => Profit - Order Priority\n"
     ]
    },
    {
     "data": {
      "text/html": [
       "<div>\n",
       "<style scoped>\n",
       "    .dataframe tbody tr th:only-of-type {\n",
       "        vertical-align: middle;\n",
       "    }\n",
       "\n",
       "    .dataframe tbody tr th {\n",
       "        vertical-align: top;\n",
       "    }\n",
       "\n",
       "    .dataframe thead th {\n",
       "        text-align: right;\n",
       "    }\n",
       "</style>\n",
       "<table border=\"1\" class=\"dataframe\">\n",
       "  <thead>\n",
       "    <tr style=\"text-align: right;\">\n",
       "      <th></th>\n",
       "      <th>sum_sq</th>\n",
       "      <th>df</th>\n",
       "      <th>F</th>\n",
       "      <th>PR(&gt;F)</th>\n",
       "    </tr>\n",
       "  </thead>\n",
       "  <tbody>\n",
       "    <tr>\n",
       "      <th>C(Q(\"Order Priority\"))</th>\n",
       "      <td>1.876319e+07</td>\n",
       "      <td>4.0</td>\n",
       "      <td>3.2783</td>\n",
       "      <td>0.010776</td>\n",
       "    </tr>\n",
       "    <tr>\n",
       "      <th>Residual</th>\n",
       "      <td>1.194341e+10</td>\n",
       "      <td>8347.0</td>\n",
       "      <td>NaN</td>\n",
       "      <td>NaN</td>\n",
       "    </tr>\n",
       "  </tbody>\n",
       "</table>\n",
       "</div>"
      ],
      "text/plain": [
       "                              sum_sq      df       F    PR(>F)\n",
       "C(Q(\"Order Priority\"))  1.876319e+07     4.0  3.2783  0.010776\n",
       "Residual                1.194341e+10  8347.0     NaN       NaN"
      ]
     },
     "metadata": {},
     "output_type": "display_data"
    },
    {
     "name": "stdout",
     "output_type": "stream",
     "text": [
      "\n",
      " Anova => Profit - Product Category\n"
     ]
    },
    {
     "data": {
      "text/html": [
       "<div>\n",
       "<style scoped>\n",
       "    .dataframe tbody tr th:only-of-type {\n",
       "        vertical-align: middle;\n",
       "    }\n",
       "\n",
       "    .dataframe tbody tr th {\n",
       "        vertical-align: top;\n",
       "    }\n",
       "\n",
       "    .dataframe thead th {\n",
       "        text-align: right;\n",
       "    }\n",
       "</style>\n",
       "<table border=\"1\" class=\"dataframe\">\n",
       "  <thead>\n",
       "    <tr style=\"text-align: right;\">\n",
       "      <th></th>\n",
       "      <th>sum_sq</th>\n",
       "      <th>df</th>\n",
       "      <th>F</th>\n",
       "      <th>PR(&gt;F)</th>\n",
       "    </tr>\n",
       "  </thead>\n",
       "  <tbody>\n",
       "    <tr>\n",
       "      <th>C(Q(\"Product Category\"))</th>\n",
       "      <td>1.674584e+08</td>\n",
       "      <td>2.0</td>\n",
       "      <td>59.268495</td>\n",
       "      <td>2.760790e-26</td>\n",
       "    </tr>\n",
       "    <tr>\n",
       "      <th>Residual</th>\n",
       "      <td>1.179471e+10</td>\n",
       "      <td>8349.0</td>\n",
       "      <td>NaN</td>\n",
       "      <td>NaN</td>\n",
       "    </tr>\n",
       "  </tbody>\n",
       "</table>\n",
       "</div>"
      ],
      "text/plain": [
       "                                sum_sq      df          F        PR(>F)\n",
       "C(Q(\"Product Category\"))  1.674584e+08     2.0  59.268495  2.760790e-26\n",
       "Residual                  1.179471e+10  8349.0        NaN           NaN"
      ]
     },
     "metadata": {},
     "output_type": "display_data"
    },
    {
     "name": "stdout",
     "output_type": "stream",
     "text": [
      "\n",
      " Anova => Profit - Region\n"
     ]
    },
    {
     "data": {
      "text/html": [
       "<div>\n",
       "<style scoped>\n",
       "    .dataframe tbody tr th:only-of-type {\n",
       "        vertical-align: middle;\n",
       "    }\n",
       "\n",
       "    .dataframe tbody tr th {\n",
       "        vertical-align: top;\n",
       "    }\n",
       "\n",
       "    .dataframe thead th {\n",
       "        text-align: right;\n",
       "    }\n",
       "</style>\n",
       "<table border=\"1\" class=\"dataframe\">\n",
       "  <thead>\n",
       "    <tr style=\"text-align: right;\">\n",
       "      <th></th>\n",
       "      <th>sum_sq</th>\n",
       "      <th>df</th>\n",
       "      <th>F</th>\n",
       "      <th>PR(&gt;F)</th>\n",
       "    </tr>\n",
       "  </thead>\n",
       "  <tbody>\n",
       "    <tr>\n",
       "      <th>C(Q(\"Region\"))</th>\n",
       "      <td>8.937897e+06</td>\n",
       "      <td>7.0</td>\n",
       "      <td>0.891305</td>\n",
       "      <td>0.512174</td>\n",
       "    </tr>\n",
       "    <tr>\n",
       "      <th>Residual</th>\n",
       "      <td>1.195323e+10</td>\n",
       "      <td>8344.0</td>\n",
       "      <td>NaN</td>\n",
       "      <td>NaN</td>\n",
       "    </tr>\n",
       "  </tbody>\n",
       "</table>\n",
       "</div>"
      ],
      "text/plain": [
       "                      sum_sq      df         F    PR(>F)\n",
       "C(Q(\"Region\"))  8.937897e+06     7.0  0.891305  0.512174\n",
       "Residual        1.195323e+10  8344.0       NaN       NaN"
      ]
     },
     "metadata": {},
     "output_type": "display_data"
    },
    {
     "name": "stdout",
     "output_type": "stream",
     "text": [
      "\n",
      " Anova => Profit - Product Container\n"
     ]
    },
    {
     "data": {
      "text/html": [
       "<div>\n",
       "<style scoped>\n",
       "    .dataframe tbody tr th:only-of-type {\n",
       "        vertical-align: middle;\n",
       "    }\n",
       "\n",
       "    .dataframe tbody tr th {\n",
       "        vertical-align: top;\n",
       "    }\n",
       "\n",
       "    .dataframe thead th {\n",
       "        text-align: right;\n",
       "    }\n",
       "</style>\n",
       "<table border=\"1\" class=\"dataframe\">\n",
       "  <thead>\n",
       "    <tr style=\"text-align: right;\">\n",
       "      <th></th>\n",
       "      <th>sum_sq</th>\n",
       "      <th>df</th>\n",
       "      <th>F</th>\n",
       "      <th>PR(&gt;F)</th>\n",
       "    </tr>\n",
       "  </thead>\n",
       "  <tbody>\n",
       "    <tr>\n",
       "      <th>C(Q(\"Product Container\"))</th>\n",
       "      <td>1.879439e+08</td>\n",
       "      <td>6.0</td>\n",
       "      <td>22.200914</td>\n",
       "      <td>4.454239e-26</td>\n",
       "    </tr>\n",
       "    <tr>\n",
       "      <th>Residual</th>\n",
       "      <td>1.177423e+10</td>\n",
       "      <td>8345.0</td>\n",
       "      <td>NaN</td>\n",
       "      <td>NaN</td>\n",
       "    </tr>\n",
       "  </tbody>\n",
       "</table>\n",
       "</div>"
      ],
      "text/plain": [
       "                                 sum_sq      df          F        PR(>F)\n",
       "C(Q(\"Product Container\"))  1.879439e+08     6.0  22.200914  4.454239e-26\n",
       "Residual                   1.177423e+10  8345.0        NaN           NaN"
      ]
     },
     "metadata": {},
     "output_type": "display_data"
    },
    {
     "name": "stdout",
     "output_type": "stream",
     "text": [
      "\n",
      " Anova => Profit - Product Sub-Category\n"
     ]
    },
    {
     "data": {
      "text/html": [
       "<div>\n",
       "<style scoped>\n",
       "    .dataframe tbody tr th:only-of-type {\n",
       "        vertical-align: middle;\n",
       "    }\n",
       "\n",
       "    .dataframe tbody tr th {\n",
       "        vertical-align: top;\n",
       "    }\n",
       "\n",
       "    .dataframe thead th {\n",
       "        text-align: right;\n",
       "    }\n",
       "</style>\n",
       "<table border=\"1\" class=\"dataframe\">\n",
       "  <thead>\n",
       "    <tr style=\"text-align: right;\">\n",
       "      <th></th>\n",
       "      <th>sum_sq</th>\n",
       "      <th>df</th>\n",
       "      <th>F</th>\n",
       "      <th>PR(&gt;F)</th>\n",
       "    </tr>\n",
       "  </thead>\n",
       "  <tbody>\n",
       "    <tr>\n",
       "      <th>C(Q(\"Product Sub-Category\"))</th>\n",
       "      <td>6.749833e+08</td>\n",
       "      <td>16.0</td>\n",
       "      <td>31.152498</td>\n",
       "      <td>6.169074e-93</td>\n",
       "    </tr>\n",
       "    <tr>\n",
       "      <th>Residual</th>\n",
       "      <td>1.128719e+10</td>\n",
       "      <td>8335.0</td>\n",
       "      <td>NaN</td>\n",
       "      <td>NaN</td>\n",
       "    </tr>\n",
       "  </tbody>\n",
       "</table>\n",
       "</div>"
      ],
      "text/plain": [
       "                                    sum_sq      df          F        PR(>F)\n",
       "C(Q(\"Product Sub-Category\"))  6.749833e+08    16.0  31.152498  6.169074e-93\n",
       "Residual                      1.128719e+10  8335.0        NaN           NaN"
      ]
     },
     "metadata": {},
     "output_type": "display_data"
    }
   ],
   "source": [
    "for i in categorical:\n",
    "    model = ols('Profit ~ C(Q(\"%s\"))'% i, data=salesdf).fit()\n",
    "    anova_table = sm.stats.anova_lm(model, typ=2)\n",
    "    print (\"\\n Anova => Profit - %s\" % i)\n",
    "    display(anova_table)\n"
   ]
  },
  {
   "cell_type": "markdown",
   "metadata": {},
   "source": [
    "So, we performed 1-way Anova of Profit with Categorical columns and results indicates that for Order Priority, Product Category, Product Container and Product Sub-Category, p-value is less than 0.05, so we can state with 95% confidence that difference between means exist for profit and groups in above mentioned columns"
   ]
  },
  {
   "cell_type": "markdown",
   "metadata": {},
   "source": [
    "# 2-way Anova"
   ]
  },
  {
   "cell_type": "code",
   "execution_count": 330,
   "metadata": {},
   "outputs": [
    {
     "data": {
      "text/html": [
       "<div>\n",
       "<style scoped>\n",
       "    .dataframe tbody tr th:only-of-type {\n",
       "        vertical-align: middle;\n",
       "    }\n",
       "\n",
       "    .dataframe tbody tr th {\n",
       "        vertical-align: top;\n",
       "    }\n",
       "\n",
       "    .dataframe thead th {\n",
       "        text-align: right;\n",
       "    }\n",
       "</style>\n",
       "<table border=\"1\" class=\"dataframe\">\n",
       "  <thead>\n",
       "    <tr style=\"text-align: right;\">\n",
       "      <th></th>\n",
       "      <th>sum_sq</th>\n",
       "      <th>df</th>\n",
       "      <th>F</th>\n",
       "      <th>PR(&gt;F)</th>\n",
       "    </tr>\n",
       "  </thead>\n",
       "  <tbody>\n",
       "    <tr>\n",
       "      <th>C(Q(\"Ship Mode\"))</th>\n",
       "      <td>1.757169e+10</td>\n",
       "      <td>2.0</td>\n",
       "      <td>817.968341</td>\n",
       "      <td>0.000000</td>\n",
       "    </tr>\n",
       "    <tr>\n",
       "      <th>C(Q(\"Customer Segment\"))</th>\n",
       "      <td>2.054897e+07</td>\n",
       "      <td>3.0</td>\n",
       "      <td>0.637708</td>\n",
       "      <td>0.590655</td>\n",
       "    </tr>\n",
       "    <tr>\n",
       "      <th>C(Q(\"Ship Mode\")):C(Q(\"Customer Segment\"))</th>\n",
       "      <td>6.941149e+07</td>\n",
       "      <td>6.0</td>\n",
       "      <td>1.077043</td>\n",
       "      <td>0.373543</td>\n",
       "    </tr>\n",
       "    <tr>\n",
       "      <th>Residual</th>\n",
       "      <td>8.958044e+10</td>\n",
       "      <td>8340.0</td>\n",
       "      <td>NaN</td>\n",
       "      <td>NaN</td>\n",
       "    </tr>\n",
       "  </tbody>\n",
       "</table>\n",
       "</div>"
      ],
      "text/plain": [
       "                                                  sum_sq      df           F  \\\n",
       "C(Q(\"Ship Mode\"))                           1.757169e+10     2.0  817.968341   \n",
       "C(Q(\"Customer Segment\"))                    2.054897e+07     3.0    0.637708   \n",
       "C(Q(\"Ship Mode\")):C(Q(\"Customer Segment\"))  6.941149e+07     6.0    1.077043   \n",
       "Residual                                    8.958044e+10  8340.0         NaN   \n",
       "\n",
       "                                              PR(>F)  \n",
       "C(Q(\"Ship Mode\"))                           0.000000  \n",
       "C(Q(\"Customer Segment\"))                    0.590655  \n",
       "C(Q(\"Ship Mode\")):C(Q(\"Customer Segment\"))  0.373543  \n",
       "Residual                                         NaN  "
      ]
     },
     "metadata": {},
     "output_type": "display_data"
    },
    {
     "data": {
      "text/html": [
       "<div>\n",
       "<style scoped>\n",
       "    .dataframe tbody tr th:only-of-type {\n",
       "        vertical-align: middle;\n",
       "    }\n",
       "\n",
       "    .dataframe tbody tr th {\n",
       "        vertical-align: top;\n",
       "    }\n",
       "\n",
       "    .dataframe thead th {\n",
       "        text-align: right;\n",
       "    }\n",
       "</style>\n",
       "<table border=\"1\" class=\"dataframe\">\n",
       "  <thead>\n",
       "    <tr style=\"text-align: right;\">\n",
       "      <th></th>\n",
       "      <th>sum_sq</th>\n",
       "      <th>df</th>\n",
       "      <th>F</th>\n",
       "      <th>PR(&gt;F)</th>\n",
       "    </tr>\n",
       "  </thead>\n",
       "  <tbody>\n",
       "    <tr>\n",
       "      <th>C(Q(\"Ship Mode\"))</th>\n",
       "      <td>1.754455e+10</td>\n",
       "      <td>2.0</td>\n",
       "      <td>816.692190</td>\n",
       "      <td>0.000000</td>\n",
       "    </tr>\n",
       "    <tr>\n",
       "      <th>C(Q(\"Order Priority\"))</th>\n",
       "      <td>4.951531e+07</td>\n",
       "      <td>4.0</td>\n",
       "      <td>1.152460</td>\n",
       "      <td>0.329804</td>\n",
       "    </tr>\n",
       "    <tr>\n",
       "      <th>C(Q(\"Ship Mode\")):C(Q(\"Order Priority\"))</th>\n",
       "      <td>7.131629e+07</td>\n",
       "      <td>8.0</td>\n",
       "      <td>0.829937</td>\n",
       "      <td>0.576008</td>\n",
       "    </tr>\n",
       "    <tr>\n",
       "      <th>Residual</th>\n",
       "      <td>8.954957e+10</td>\n",
       "      <td>8337.0</td>\n",
       "      <td>NaN</td>\n",
       "      <td>NaN</td>\n",
       "    </tr>\n",
       "  </tbody>\n",
       "</table>\n",
       "</div>"
      ],
      "text/plain": [
       "                                                sum_sq      df           F  \\\n",
       "C(Q(\"Ship Mode\"))                         1.754455e+10     2.0  816.692190   \n",
       "C(Q(\"Order Priority\"))                    4.951531e+07     4.0    1.152460   \n",
       "C(Q(\"Ship Mode\")):C(Q(\"Order Priority\"))  7.131629e+07     8.0    0.829937   \n",
       "Residual                                  8.954957e+10  8337.0         NaN   \n",
       "\n",
       "                                            PR(>F)  \n",
       "C(Q(\"Ship Mode\"))                         0.000000  \n",
       "C(Q(\"Order Priority\"))                    0.329804  \n",
       "C(Q(\"Ship Mode\")):C(Q(\"Order Priority\"))  0.576008  \n",
       "Residual                                       NaN  "
      ]
     },
     "metadata": {},
     "output_type": "display_data"
    },
    {
     "data": {
      "text/html": [
       "<div>\n",
       "<style scoped>\n",
       "    .dataframe tbody tr th:only-of-type {\n",
       "        vertical-align: middle;\n",
       "    }\n",
       "\n",
       "    .dataframe tbody tr th {\n",
       "        vertical-align: top;\n",
       "    }\n",
       "\n",
       "    .dataframe thead th {\n",
       "        text-align: right;\n",
       "    }\n",
       "</style>\n",
       "<table border=\"1\" class=\"dataframe\">\n",
       "  <thead>\n",
       "    <tr style=\"text-align: right;\">\n",
       "      <th></th>\n",
       "      <th>sum_sq</th>\n",
       "      <th>df</th>\n",
       "      <th>F</th>\n",
       "      <th>PR(&gt;F)</th>\n",
       "    </tr>\n",
       "  </thead>\n",
       "  <tbody>\n",
       "    <tr>\n",
       "      <th>C(Q(\"Ship Mode\"))</th>\n",
       "      <td>1.246537e+10</td>\n",
       "      <td>2.0</td>\n",
       "      <td>612.622312</td>\n",
       "      <td>5.674461e-249</td>\n",
       "    </tr>\n",
       "    <tr>\n",
       "      <th>C(Q(\"Product Category\"))</th>\n",
       "      <td>4.255206e+09</td>\n",
       "      <td>2.0</td>\n",
       "      <td>209.126136</td>\n",
       "      <td>2.403787e-89</td>\n",
       "    </tr>\n",
       "    <tr>\n",
       "      <th>C(Q(\"Ship Mode\")):C(Q(\"Product Category\"))</th>\n",
       "      <td>5.353621e+08</td>\n",
       "      <td>4.0</td>\n",
       "      <td>13.155438</td>\n",
       "      <td>1.103881e-10</td>\n",
       "    </tr>\n",
       "    <tr>\n",
       "      <th>Residual</th>\n",
       "      <td>8.487984e+10</td>\n",
       "      <td>8343.0</td>\n",
       "      <td>NaN</td>\n",
       "      <td>NaN</td>\n",
       "    </tr>\n",
       "  </tbody>\n",
       "</table>\n",
       "</div>"
      ],
      "text/plain": [
       "                                                  sum_sq      df           F  \\\n",
       "C(Q(\"Ship Mode\"))                           1.246537e+10     2.0  612.622312   \n",
       "C(Q(\"Product Category\"))                    4.255206e+09     2.0  209.126136   \n",
       "C(Q(\"Ship Mode\")):C(Q(\"Product Category\"))  5.353621e+08     4.0   13.155438   \n",
       "Residual                                    8.487984e+10  8343.0         NaN   \n",
       "\n",
       "                                                   PR(>F)  \n",
       "C(Q(\"Ship Mode\"))                           5.674461e-249  \n",
       "C(Q(\"Product Category\"))                     2.403787e-89  \n",
       "C(Q(\"Ship Mode\")):C(Q(\"Product Category\"))   1.103881e-10  \n",
       "Residual                                              NaN  "
      ]
     },
     "metadata": {},
     "output_type": "display_data"
    },
    {
     "data": {
      "text/html": [
       "<div>\n",
       "<style scoped>\n",
       "    .dataframe tbody tr th:only-of-type {\n",
       "        vertical-align: middle;\n",
       "    }\n",
       "\n",
       "    .dataframe tbody tr th {\n",
       "        vertical-align: top;\n",
       "    }\n",
       "\n",
       "    .dataframe thead th {\n",
       "        text-align: right;\n",
       "    }\n",
       "</style>\n",
       "<table border=\"1\" class=\"dataframe\">\n",
       "  <thead>\n",
       "    <tr style=\"text-align: right;\">\n",
       "      <th></th>\n",
       "      <th>sum_sq</th>\n",
       "      <th>df</th>\n",
       "      <th>F</th>\n",
       "      <th>PR(&gt;F)</th>\n",
       "    </tr>\n",
       "  </thead>\n",
       "  <tbody>\n",
       "    <tr>\n",
       "      <th>C(Q(\"Ship Mode\"))</th>\n",
       "      <td>1.753639e+10</td>\n",
       "      <td>2.0</td>\n",
       "      <td>815.652661</td>\n",
       "      <td>4.940656e-324</td>\n",
       "    </tr>\n",
       "    <tr>\n",
       "      <th>C(Q(\"Region\"))</th>\n",
       "      <td>6.668435e+07</td>\n",
       "      <td>7.0</td>\n",
       "      <td>0.886178</td>\n",
       "      <td>5.162795e-01</td>\n",
       "    </tr>\n",
       "    <tr>\n",
       "      <th>C(Q(\"Ship Mode\")):C(Q(\"Region\"))</th>\n",
       "      <td>7.844249e+07</td>\n",
       "      <td>14.0</td>\n",
       "      <td>0.521217</td>\n",
       "      <td>9.225661e-01</td>\n",
       "    </tr>\n",
       "    <tr>\n",
       "      <th>Residual</th>\n",
       "      <td>8.952528e+10</td>\n",
       "      <td>8328.0</td>\n",
       "      <td>NaN</td>\n",
       "      <td>NaN</td>\n",
       "    </tr>\n",
       "  </tbody>\n",
       "</table>\n",
       "</div>"
      ],
      "text/plain": [
       "                                        sum_sq      df           F  \\\n",
       "C(Q(\"Ship Mode\"))                 1.753639e+10     2.0  815.652661   \n",
       "C(Q(\"Region\"))                    6.668435e+07     7.0    0.886178   \n",
       "C(Q(\"Ship Mode\")):C(Q(\"Region\"))  7.844249e+07    14.0    0.521217   \n",
       "Residual                          8.952528e+10  8328.0         NaN   \n",
       "\n",
       "                                         PR(>F)  \n",
       "C(Q(\"Ship Mode\"))                 4.940656e-324  \n",
       "C(Q(\"Region\"))                     5.162795e-01  \n",
       "C(Q(\"Ship Mode\")):C(Q(\"Region\"))   9.225661e-01  \n",
       "Residual                                    NaN  "
      ]
     },
     "metadata": {},
     "output_type": "display_data"
    },
    {
     "name": "stderr",
     "output_type": "stream",
     "text": [
      "//anaconda3/lib/python3.7/site-packages/statsmodels/base/model.py:1752: ValueWarning: covariance of constraints does not have full rank. The number of constraints is 12, but rank is 1\n",
      "  'rank is %d' % (J, J_), ValueWarning)\n"
     ]
    },
    {
     "data": {
      "text/html": [
       "<div>\n",
       "<style scoped>\n",
       "    .dataframe tbody tr th:only-of-type {\n",
       "        vertical-align: middle;\n",
       "    }\n",
       "\n",
       "    .dataframe tbody tr th {\n",
       "        vertical-align: top;\n",
       "    }\n",
       "\n",
       "    .dataframe thead th {\n",
       "        text-align: right;\n",
       "    }\n",
       "</style>\n",
       "<table border=\"1\" class=\"dataframe\">\n",
       "  <thead>\n",
       "    <tr style=\"text-align: right;\">\n",
       "      <th></th>\n",
       "      <th>sum_sq</th>\n",
       "      <th>df</th>\n",
       "      <th>F</th>\n",
       "      <th>PR(&gt;F)</th>\n",
       "    </tr>\n",
       "  </thead>\n",
       "  <tbody>\n",
       "    <tr>\n",
       "      <th>C(Q(\"Ship Mode\"))</th>\n",
       "      <td>2.676705e+08</td>\n",
       "      <td>2.0</td>\n",
       "      <td>13.618375</td>\n",
       "      <td>0.000001</td>\n",
       "    </tr>\n",
       "    <tr>\n",
       "      <th>C(Q(\"Product Container\"))</th>\n",
       "      <td>3.669618e+02</td>\n",
       "      <td>6.0</td>\n",
       "      <td>0.000006</td>\n",
       "      <td>1.000000</td>\n",
       "    </tr>\n",
       "    <tr>\n",
       "      <th>C(Q(\"Ship Mode\")):C(Q(\"Product Container\"))</th>\n",
       "      <td>1.625037e+08</td>\n",
       "      <td>12.0</td>\n",
       "      <td>1.377961</td>\n",
       "      <td>0.240482</td>\n",
       "    </tr>\n",
       "    <tr>\n",
       "      <th>Residual</th>\n",
       "      <td>8.193229e+10</td>\n",
       "      <td>8337.0</td>\n",
       "      <td>NaN</td>\n",
       "      <td>NaN</td>\n",
       "    </tr>\n",
       "  </tbody>\n",
       "</table>\n",
       "</div>"
      ],
      "text/plain": [
       "                                                   sum_sq      df          F  \\\n",
       "C(Q(\"Ship Mode\"))                            2.676705e+08     2.0  13.618375   \n",
       "C(Q(\"Product Container\"))                    3.669618e+02     6.0   0.000006   \n",
       "C(Q(\"Ship Mode\")):C(Q(\"Product Container\"))  1.625037e+08    12.0   1.377961   \n",
       "Residual                                     8.193229e+10  8337.0        NaN   \n",
       "\n",
       "                                               PR(>F)  \n",
       "C(Q(\"Ship Mode\"))                            0.000001  \n",
       "C(Q(\"Product Container\"))                    1.000000  \n",
       "C(Q(\"Ship Mode\")):C(Q(\"Product Container\"))  0.240482  \n",
       "Residual                                          NaN  "
      ]
     },
     "metadata": {},
     "output_type": "display_data"
    },
    {
     "name": "stderr",
     "output_type": "stream",
     "text": [
      "//anaconda3/lib/python3.7/site-packages/statsmodels/base/model.py:1752: ValueWarning: covariance of constraints does not have full rank. The number of constraints is 2, but rank is 1\n",
      "  'rank is %d' % (J, J_), ValueWarning)\n",
      "//anaconda3/lib/python3.7/site-packages/statsmodels/base/model.py:1752: ValueWarning: covariance of constraints does not have full rank. The number of constraints is 16, but rank is 6\n",
      "  'rank is %d' % (J, J_), ValueWarning)\n",
      "//anaconda3/lib/python3.7/site-packages/statsmodels/base/model.py:1752: ValueWarning: covariance of constraints does not have full rank. The number of constraints is 32, but rank is 31\n",
      "  'rank is %d' % (J, J_), ValueWarning)\n"
     ]
    },
    {
     "data": {
      "text/html": [
       "<div>\n",
       "<style scoped>\n",
       "    .dataframe tbody tr th:only-of-type {\n",
       "        vertical-align: middle;\n",
       "    }\n",
       "\n",
       "    .dataframe tbody tr th {\n",
       "        vertical-align: top;\n",
       "    }\n",
       "\n",
       "    .dataframe thead th {\n",
       "        text-align: right;\n",
       "    }\n",
       "</style>\n",
       "<table border=\"1\" class=\"dataframe\">\n",
       "  <thead>\n",
       "    <tr style=\"text-align: right;\">\n",
       "      <th></th>\n",
       "      <th>sum_sq</th>\n",
       "      <th>df</th>\n",
       "      <th>F</th>\n",
       "      <th>PR(&gt;F)</th>\n",
       "    </tr>\n",
       "  </thead>\n",
       "  <tbody>\n",
       "    <tr>\n",
       "      <th>C(Q(\"Ship Mode\"))</th>\n",
       "      <td>4.472840e+07</td>\n",
       "      <td>2.0</td>\n",
       "      <td>2.584622</td>\n",
       "      <td>1.079442e-01</td>\n",
       "    </tr>\n",
       "    <tr>\n",
       "      <th>C(Q(\"Product Sub-Category\"))</th>\n",
       "      <td>3.274423e+10</td>\n",
       "      <td>16.0</td>\n",
       "      <td>236.514891</td>\n",
       "      <td>5.824713e-280</td>\n",
       "    </tr>\n",
       "    <tr>\n",
       "      <th>C(Q(\"Ship Mode\")):C(Q(\"Product Sub-Category\"))</th>\n",
       "      <td>3.048870e+09</td>\n",
       "      <td>32.0</td>\n",
       "      <td>11.011150</td>\n",
       "      <td>9.944004e-53</td>\n",
       "    </tr>\n",
       "    <tr>\n",
       "      <th>Residual</th>\n",
       "      <td>7.191336e+10</td>\n",
       "      <td>8311.0</td>\n",
       "      <td>NaN</td>\n",
       "      <td>NaN</td>\n",
       "    </tr>\n",
       "  </tbody>\n",
       "</table>\n",
       "</div>"
      ],
      "text/plain": [
       "                                                      sum_sq      df  \\\n",
       "C(Q(\"Ship Mode\"))                               4.472840e+07     2.0   \n",
       "C(Q(\"Product Sub-Category\"))                    3.274423e+10    16.0   \n",
       "C(Q(\"Ship Mode\")):C(Q(\"Product Sub-Category\"))  3.048870e+09    32.0   \n",
       "Residual                                        7.191336e+10  8311.0   \n",
       "\n",
       "                                                         F         PR(>F)  \n",
       "C(Q(\"Ship Mode\"))                                 2.584622   1.079442e-01  \n",
       "C(Q(\"Product Sub-Category\"))                    236.514891  5.824713e-280  \n",
       "C(Q(\"Ship Mode\")):C(Q(\"Product Sub-Category\"))   11.011150   9.944004e-53  \n",
       "Residual                                               NaN            NaN  "
      ]
     },
     "metadata": {},
     "output_type": "display_data"
    },
    {
     "data": {
      "text/html": [
       "<div>\n",
       "<style scoped>\n",
       "    .dataframe tbody tr th:only-of-type {\n",
       "        vertical-align: middle;\n",
       "    }\n",
       "\n",
       "    .dataframe tbody tr th {\n",
       "        vertical-align: top;\n",
       "    }\n",
       "\n",
       "    .dataframe thead th {\n",
       "        text-align: right;\n",
       "    }\n",
       "</style>\n",
       "<table border=\"1\" class=\"dataframe\">\n",
       "  <thead>\n",
       "    <tr style=\"text-align: right;\">\n",
       "      <th></th>\n",
       "      <th>sum_sq</th>\n",
       "      <th>df</th>\n",
       "      <th>F</th>\n",
       "      <th>PR(&gt;F)</th>\n",
       "    </tr>\n",
       "  </thead>\n",
       "  <tbody>\n",
       "    <tr>\n",
       "      <th>C(Q(\"Customer Segment\"))</th>\n",
       "      <td>1.905104e+07</td>\n",
       "      <td>3.0</td>\n",
       "      <td>0.494566</td>\n",
       "      <td>0.686048</td>\n",
       "    </tr>\n",
       "    <tr>\n",
       "      <th>C(Q(\"Order Priority\"))</th>\n",
       "      <td>7.516691e+07</td>\n",
       "      <td>4.0</td>\n",
       "      <td>1.463501</td>\n",
       "      <td>0.210426</td>\n",
       "    </tr>\n",
       "    <tr>\n",
       "      <th>C(Q(\"Customer Segment\")):C(Q(\"Order Priority\"))</th>\n",
       "      <td>1.613881e+08</td>\n",
       "      <td>12.0</td>\n",
       "      <td>1.047410</td>\n",
       "      <td>0.401283</td>\n",
       "    </tr>\n",
       "    <tr>\n",
       "      <th>Residual</th>\n",
       "      <td>1.069850e+11</td>\n",
       "      <td>8332.0</td>\n",
       "      <td>NaN</td>\n",
       "      <td>NaN</td>\n",
       "    </tr>\n",
       "  </tbody>\n",
       "</table>\n",
       "</div>"
      ],
      "text/plain": [
       "                                                       sum_sq      df  \\\n",
       "C(Q(\"Customer Segment\"))                         1.905104e+07     3.0   \n",
       "C(Q(\"Order Priority\"))                           7.516691e+07     4.0   \n",
       "C(Q(\"Customer Segment\")):C(Q(\"Order Priority\"))  1.613881e+08    12.0   \n",
       "Residual                                         1.069850e+11  8332.0   \n",
       "\n",
       "                                                        F    PR(>F)  \n",
       "C(Q(\"Customer Segment\"))                         0.494566  0.686048  \n",
       "C(Q(\"Order Priority\"))                           1.463501  0.210426  \n",
       "C(Q(\"Customer Segment\")):C(Q(\"Order Priority\"))  1.047410  0.401283  \n",
       "Residual                                              NaN       NaN  "
      ]
     },
     "metadata": {},
     "output_type": "display_data"
    },
    {
     "data": {
      "text/html": [
       "<div>\n",
       "<style scoped>\n",
       "    .dataframe tbody tr th:only-of-type {\n",
       "        vertical-align: middle;\n",
       "    }\n",
       "\n",
       "    .dataframe tbody tr th {\n",
       "        vertical-align: top;\n",
       "    }\n",
       "\n",
       "    .dataframe thead th {\n",
       "        text-align: right;\n",
       "    }\n",
       "</style>\n",
       "<table border=\"1\" class=\"dataframe\">\n",
       "  <thead>\n",
       "    <tr style=\"text-align: right;\">\n",
       "      <th></th>\n",
       "      <th>sum_sq</th>\n",
       "      <th>df</th>\n",
       "      <th>F</th>\n",
       "      <th>PR(&gt;F)</th>\n",
       "    </tr>\n",
       "  </thead>\n",
       "  <tbody>\n",
       "    <tr>\n",
       "      <th>C(Q(\"Customer Segment\"))</th>\n",
       "      <td>6.518851e+06</td>\n",
       "      <td>3.0</td>\n",
       "      <td>0.185264</td>\n",
       "      <td>9.064705e-01</td>\n",
       "    </tr>\n",
       "    <tr>\n",
       "      <th>C(Q(\"Product Category\"))</th>\n",
       "      <td>9.347503e+09</td>\n",
       "      <td>2.0</td>\n",
       "      <td>398.480349</td>\n",
       "      <td>5.237274e-166</td>\n",
       "    </tr>\n",
       "    <tr>\n",
       "      <th>C(Q(\"Customer Segment\")):C(Q(\"Product Category\"))</th>\n",
       "      <td>5.470047e+07</td>\n",
       "      <td>6.0</td>\n",
       "      <td>0.777286</td>\n",
       "      <td>5.876327e-01</td>\n",
       "    </tr>\n",
       "    <tr>\n",
       "      <th>Residual</th>\n",
       "      <td>9.781935e+10</td>\n",
       "      <td>8340.0</td>\n",
       "      <td>NaN</td>\n",
       "      <td>NaN</td>\n",
       "    </tr>\n",
       "  </tbody>\n",
       "</table>\n",
       "</div>"
      ],
      "text/plain": [
       "                                                         sum_sq      df  \\\n",
       "C(Q(\"Customer Segment\"))                           6.518851e+06     3.0   \n",
       "C(Q(\"Product Category\"))                           9.347503e+09     2.0   \n",
       "C(Q(\"Customer Segment\")):C(Q(\"Product Category\"))  5.470047e+07     6.0   \n",
       "Residual                                           9.781935e+10  8340.0   \n",
       "\n",
       "                                                            F         PR(>F)  \n",
       "C(Q(\"Customer Segment\"))                             0.185264   9.064705e-01  \n",
       "C(Q(\"Product Category\"))                           398.480349  5.237274e-166  \n",
       "C(Q(\"Customer Segment\")):C(Q(\"Product Category\"))    0.777286   5.876327e-01  \n",
       "Residual                                                  NaN            NaN  "
      ]
     },
     "metadata": {},
     "output_type": "display_data"
    },
    {
     "data": {
      "text/html": [
       "<div>\n",
       "<style scoped>\n",
       "    .dataframe tbody tr th:only-of-type {\n",
       "        vertical-align: middle;\n",
       "    }\n",
       "\n",
       "    .dataframe tbody tr th {\n",
       "        vertical-align: top;\n",
       "    }\n",
       "\n",
       "    .dataframe thead th {\n",
       "        text-align: right;\n",
       "    }\n",
       "</style>\n",
       "<table border=\"1\" class=\"dataframe\">\n",
       "  <thead>\n",
       "    <tr style=\"text-align: right;\">\n",
       "      <th></th>\n",
       "      <th>sum_sq</th>\n",
       "      <th>df</th>\n",
       "      <th>F</th>\n",
       "      <th>PR(&gt;F)</th>\n",
       "    </tr>\n",
       "  </thead>\n",
       "  <tbody>\n",
       "    <tr>\n",
       "      <th>C(Q(\"Customer Segment\"))</th>\n",
       "      <td>2.215912e+07</td>\n",
       "      <td>3.0</td>\n",
       "      <td>0.575238</td>\n",
       "      <td>0.631249</td>\n",
       "    </tr>\n",
       "    <tr>\n",
       "      <th>C(Q(\"Region\"))</th>\n",
       "      <td>1.035986e+08</td>\n",
       "      <td>7.0</td>\n",
       "      <td>1.152582</td>\n",
       "      <td>0.326759</td>\n",
       "    </tr>\n",
       "    <tr>\n",
       "      <th>C(Q(\"Customer Segment\")):C(Q(\"Region\"))</th>\n",
       "      <td>2.844737e+08</td>\n",
       "      <td>21.0</td>\n",
       "      <td>1.054967</td>\n",
       "      <td>0.390904</td>\n",
       "    </tr>\n",
       "    <tr>\n",
       "      <th>Residual</th>\n",
       "      <td>1.068335e+11</td>\n",
       "      <td>8320.0</td>\n",
       "      <td>NaN</td>\n",
       "      <td>NaN</td>\n",
       "    </tr>\n",
       "  </tbody>\n",
       "</table>\n",
       "</div>"
      ],
      "text/plain": [
       "                                               sum_sq      df         F  \\\n",
       "C(Q(\"Customer Segment\"))                 2.215912e+07     3.0  0.575238   \n",
       "C(Q(\"Region\"))                           1.035986e+08     7.0  1.152582   \n",
       "C(Q(\"Customer Segment\")):C(Q(\"Region\"))  2.844737e+08    21.0  1.054967   \n",
       "Residual                                 1.068335e+11  8320.0       NaN   \n",
       "\n",
       "                                           PR(>F)  \n",
       "C(Q(\"Customer Segment\"))                 0.631249  \n",
       "C(Q(\"Region\"))                           0.326759  \n",
       "C(Q(\"Customer Segment\")):C(Q(\"Region\"))  0.390904  \n",
       "Residual                                      NaN  "
      ]
     },
     "metadata": {},
     "output_type": "display_data"
    },
    {
     "data": {
      "text/html": [
       "<div>\n",
       "<style scoped>\n",
       "    .dataframe tbody tr th:only-of-type {\n",
       "        vertical-align: middle;\n",
       "    }\n",
       "\n",
       "    .dataframe tbody tr th {\n",
       "        vertical-align: top;\n",
       "    }\n",
       "\n",
       "    .dataframe thead th {\n",
       "        text-align: right;\n",
       "    }\n",
       "</style>\n",
       "<table border=\"1\" class=\"dataframe\">\n",
       "  <thead>\n",
       "    <tr style=\"text-align: right;\">\n",
       "      <th></th>\n",
       "      <th>sum_sq</th>\n",
       "      <th>df</th>\n",
       "      <th>F</th>\n",
       "      <th>PR(&gt;F)</th>\n",
       "    </tr>\n",
       "  </thead>\n",
       "  <tbody>\n",
       "    <tr>\n",
       "      <th>C(Q(\"Customer Segment\"))</th>\n",
       "      <td>2.075297e+07</td>\n",
       "      <td>3.0</td>\n",
       "      <td>0.703151</td>\n",
       "      <td>0.550031</td>\n",
       "    </tr>\n",
       "    <tr>\n",
       "      <th>C(Q(\"Product Container\"))</th>\n",
       "      <td>2.503229e+10</td>\n",
       "      <td>6.0</td>\n",
       "      <td>424.071049</td>\n",
       "      <td>0.000000</td>\n",
       "    </tr>\n",
       "    <tr>\n",
       "      <th>C(Q(\"Customer Segment\")):C(Q(\"Product Container\"))</th>\n",
       "      <td>2.970266e+08</td>\n",
       "      <td>18.0</td>\n",
       "      <td>1.677306</td>\n",
       "      <td>0.035865</td>\n",
       "    </tr>\n",
       "    <tr>\n",
       "      <th>Residual</th>\n",
       "      <td>8.189224e+10</td>\n",
       "      <td>8324.0</td>\n",
       "      <td>NaN</td>\n",
       "      <td>NaN</td>\n",
       "    </tr>\n",
       "  </tbody>\n",
       "</table>\n",
       "</div>"
      ],
      "text/plain": [
       "                                                          sum_sq      df  \\\n",
       "C(Q(\"Customer Segment\"))                            2.075297e+07     3.0   \n",
       "C(Q(\"Product Container\"))                           2.503229e+10     6.0   \n",
       "C(Q(\"Customer Segment\")):C(Q(\"Product Container\"))  2.970266e+08    18.0   \n",
       "Residual                                            8.189224e+10  8324.0   \n",
       "\n",
       "                                                             F    PR(>F)  \n",
       "C(Q(\"Customer Segment\"))                              0.703151  0.550031  \n",
       "C(Q(\"Product Container\"))                           424.071049  0.000000  \n",
       "C(Q(\"Customer Segment\")):C(Q(\"Product Container\"))    1.677306  0.035865  \n",
       "Residual                                                   NaN       NaN  "
      ]
     },
     "metadata": {},
     "output_type": "display_data"
    },
    {
     "data": {
      "text/html": [
       "<div>\n",
       "<style scoped>\n",
       "    .dataframe tbody tr th:only-of-type {\n",
       "        vertical-align: middle;\n",
       "    }\n",
       "\n",
       "    .dataframe tbody tr th {\n",
       "        vertical-align: top;\n",
       "    }\n",
       "\n",
       "    .dataframe thead th {\n",
       "        text-align: right;\n",
       "    }\n",
       "</style>\n",
       "<table border=\"1\" class=\"dataframe\">\n",
       "  <thead>\n",
       "    <tr style=\"text-align: right;\">\n",
       "      <th></th>\n",
       "      <th>sum_sq</th>\n",
       "      <th>df</th>\n",
       "      <th>F</th>\n",
       "      <th>PR(&gt;F)</th>\n",
       "    </tr>\n",
       "  </thead>\n",
       "  <tbody>\n",
       "    <tr>\n",
       "      <th>C(Q(\"Customer Segment\"))</th>\n",
       "      <td>7.585971e+06</td>\n",
       "      <td>3.0</td>\n",
       "      <td>0.286527</td>\n",
       "      <td>0.835168</td>\n",
       "    </tr>\n",
       "    <tr>\n",
       "      <th>C(Q(\"Product Sub-Category\"))</th>\n",
       "      <td>3.367692e+10</td>\n",
       "      <td>16.0</td>\n",
       "      <td>238.499468</td>\n",
       "      <td>0.000000</td>\n",
       "    </tr>\n",
       "    <tr>\n",
       "      <th>C(Q(\"Customer Segment\")):C(Q(\"Product Sub-Category\"))</th>\n",
       "      <td>4.366100e+08</td>\n",
       "      <td>48.0</td>\n",
       "      <td>1.030689</td>\n",
       "      <td>0.414597</td>\n",
       "    </tr>\n",
       "    <tr>\n",
       "      <th>Residual</th>\n",
       "      <td>7.310802e+10</td>\n",
       "      <td>8284.0</td>\n",
       "      <td>NaN</td>\n",
       "      <td>NaN</td>\n",
       "    </tr>\n",
       "  </tbody>\n",
       "</table>\n",
       "</div>"
      ],
      "text/plain": [
       "                                                          sum_sq      df  \\\n",
       "C(Q(\"Customer Segment\"))                            7.585971e+06     3.0   \n",
       "C(Q(\"Product Sub-Category\"))                        3.367692e+10    16.0   \n",
       "C(Q(\"Customer Segment\")):C(Q(\"Product Sub-Categ...  4.366100e+08    48.0   \n",
       "Residual                                            7.310802e+10  8284.0   \n",
       "\n",
       "                                                             F    PR(>F)  \n",
       "C(Q(\"Customer Segment\"))                              0.286527  0.835168  \n",
       "C(Q(\"Product Sub-Category\"))                        238.499468  0.000000  \n",
       "C(Q(\"Customer Segment\")):C(Q(\"Product Sub-Categ...    1.030689  0.414597  \n",
       "Residual                                                   NaN       NaN  "
      ]
     },
     "metadata": {},
     "output_type": "display_data"
    },
    {
     "data": {
      "text/html": [
       "<div>\n",
       "<style scoped>\n",
       "    .dataframe tbody tr th:only-of-type {\n",
       "        vertical-align: middle;\n",
       "    }\n",
       "\n",
       "    .dataframe tbody tr th {\n",
       "        vertical-align: top;\n",
       "    }\n",
       "\n",
       "    .dataframe thead th {\n",
       "        text-align: right;\n",
       "    }\n",
       "</style>\n",
       "<table border=\"1\" class=\"dataframe\">\n",
       "  <thead>\n",
       "    <tr style=\"text-align: right;\">\n",
       "      <th></th>\n",
       "      <th>sum_sq</th>\n",
       "      <th>df</th>\n",
       "      <th>F</th>\n",
       "      <th>PR(&gt;F)</th>\n",
       "    </tr>\n",
       "  </thead>\n",
       "  <tbody>\n",
       "    <tr>\n",
       "      <th>C(Q(\"Order Priority\"))</th>\n",
       "      <td>4.997352e+07</td>\n",
       "      <td>4.0</td>\n",
       "      <td>1.066138</td>\n",
       "      <td>3.714583e-01</td>\n",
       "    </tr>\n",
       "    <tr>\n",
       "      <th>C(Q(\"Product Category\"))</th>\n",
       "      <td>9.334842e+09</td>\n",
       "      <td>2.0</td>\n",
       "      <td>398.300000</td>\n",
       "      <td>6.211985e-166</td>\n",
       "    </tr>\n",
       "    <tr>\n",
       "      <th>C(Q(\"Order Priority\")):C(Q(\"Product Category\"))</th>\n",
       "      <td>1.346649e+08</td>\n",
       "      <td>8.0</td>\n",
       "      <td>1.436474</td>\n",
       "      <td>1.755504e-01</td>\n",
       "    </tr>\n",
       "    <tr>\n",
       "      <th>Residual</th>\n",
       "      <td>9.769593e+10</td>\n",
       "      <td>8337.0</td>\n",
       "      <td>NaN</td>\n",
       "      <td>NaN</td>\n",
       "    </tr>\n",
       "  </tbody>\n",
       "</table>\n",
       "</div>"
      ],
      "text/plain": [
       "                                                       sum_sq      df  \\\n",
       "C(Q(\"Order Priority\"))                           4.997352e+07     4.0   \n",
       "C(Q(\"Product Category\"))                         9.334842e+09     2.0   \n",
       "C(Q(\"Order Priority\")):C(Q(\"Product Category\"))  1.346649e+08     8.0   \n",
       "Residual                                         9.769593e+10  8337.0   \n",
       "\n",
       "                                                          F         PR(>F)  \n",
       "C(Q(\"Order Priority\"))                             1.066138   3.714583e-01  \n",
       "C(Q(\"Product Category\"))                         398.300000  6.211985e-166  \n",
       "C(Q(\"Order Priority\")):C(Q(\"Product Category\"))    1.436474   1.755504e-01  \n",
       "Residual                                                NaN            NaN  "
      ]
     },
     "metadata": {},
     "output_type": "display_data"
    },
    {
     "data": {
      "text/html": [
       "<div>\n",
       "<style scoped>\n",
       "    .dataframe tbody tr th:only-of-type {\n",
       "        vertical-align: middle;\n",
       "    }\n",
       "\n",
       "    .dataframe tbody tr th {\n",
       "        vertical-align: top;\n",
       "    }\n",
       "\n",
       "    .dataframe thead th {\n",
       "        text-align: right;\n",
       "    }\n",
       "</style>\n",
       "<table border=\"1\" class=\"dataframe\">\n",
       "  <thead>\n",
       "    <tr style=\"text-align: right;\">\n",
       "      <th></th>\n",
       "      <th>sum_sq</th>\n",
       "      <th>df</th>\n",
       "      <th>F</th>\n",
       "      <th>PR(&gt;F)</th>\n",
       "    </tr>\n",
       "  </thead>\n",
       "  <tbody>\n",
       "    <tr>\n",
       "      <th>C(Q(\"Order Priority\"))</th>\n",
       "      <td>7.819227e+07</td>\n",
       "      <td>4.0</td>\n",
       "      <td>1.523244</td>\n",
       "      <td>0.192420</td>\n",
       "    </tr>\n",
       "    <tr>\n",
       "      <th>C(Q(\"Region\"))</th>\n",
       "      <td>1.035158e+08</td>\n",
       "      <td>7.0</td>\n",
       "      <td>1.152324</td>\n",
       "      <td>0.326916</td>\n",
       "    </tr>\n",
       "    <tr>\n",
       "      <th>C(Q(\"Order Priority\")):C(Q(\"Region\"))</th>\n",
       "      <td>3.925309e+08</td>\n",
       "      <td>28.0</td>\n",
       "      <td>1.092400</td>\n",
       "      <td>0.336099</td>\n",
       "    </tr>\n",
       "    <tr>\n",
       "      <th>Residual</th>\n",
       "      <td>1.066694e+11</td>\n",
       "      <td>8312.0</td>\n",
       "      <td>NaN</td>\n",
       "      <td>NaN</td>\n",
       "    </tr>\n",
       "  </tbody>\n",
       "</table>\n",
       "</div>"
      ],
      "text/plain": [
       "                                             sum_sq      df         F  \\\n",
       "C(Q(\"Order Priority\"))                 7.819227e+07     4.0  1.523244   \n",
       "C(Q(\"Region\"))                         1.035158e+08     7.0  1.152324   \n",
       "C(Q(\"Order Priority\")):C(Q(\"Region\"))  3.925309e+08    28.0  1.092400   \n",
       "Residual                               1.066694e+11  8312.0       NaN   \n",
       "\n",
       "                                         PR(>F)  \n",
       "C(Q(\"Order Priority\"))                 0.192420  \n",
       "C(Q(\"Region\"))                         0.326916  \n",
       "C(Q(\"Order Priority\")):C(Q(\"Region\"))  0.336099  \n",
       "Residual                                    NaN  "
      ]
     },
     "metadata": {},
     "output_type": "display_data"
    },
    {
     "data": {
      "text/html": [
       "<div>\n",
       "<style scoped>\n",
       "    .dataframe tbody tr th:only-of-type {\n",
       "        vertical-align: middle;\n",
       "    }\n",
       "\n",
       "    .dataframe tbody tr th {\n",
       "        vertical-align: top;\n",
       "    }\n",
       "\n",
       "    .dataframe thead th {\n",
       "        text-align: right;\n",
       "    }\n",
       "</style>\n",
       "<table border=\"1\" class=\"dataframe\">\n",
       "  <thead>\n",
       "    <tr style=\"text-align: right;\">\n",
       "      <th></th>\n",
       "      <th>sum_sq</th>\n",
       "      <th>df</th>\n",
       "      <th>F</th>\n",
       "      <th>PR(&gt;F)</th>\n",
       "    </tr>\n",
       "  </thead>\n",
       "  <tbody>\n",
       "    <tr>\n",
       "      <th>C(Q(\"Order Priority\"))</th>\n",
       "      <td>4.805085e+07</td>\n",
       "      <td>4.0</td>\n",
       "      <td>1.222828</td>\n",
       "      <td>0.298723</td>\n",
       "    </tr>\n",
       "    <tr>\n",
       "      <th>C(Q(\"Product Container\"))</th>\n",
       "      <td>2.500347e+10</td>\n",
       "      <td>6.0</td>\n",
       "      <td>424.202559</td>\n",
       "      <td>0.000000</td>\n",
       "    </tr>\n",
       "    <tr>\n",
       "      <th>C(Q(\"Order Priority\")):C(Q(\"Product Container\"))</th>\n",
       "      <td>4.581306e+08</td>\n",
       "      <td>24.0</td>\n",
       "      <td>1.943132</td>\n",
       "      <td>0.003782</td>\n",
       "    </tr>\n",
       "    <tr>\n",
       "      <th>Residual</th>\n",
       "      <td>8.170383e+10</td>\n",
       "      <td>8317.0</td>\n",
       "      <td>NaN</td>\n",
       "      <td>NaN</td>\n",
       "    </tr>\n",
       "  </tbody>\n",
       "</table>\n",
       "</div>"
      ],
      "text/plain": [
       "                                                        sum_sq      df  \\\n",
       "C(Q(\"Order Priority\"))                            4.805085e+07     4.0   \n",
       "C(Q(\"Product Container\"))                         2.500347e+10     6.0   \n",
       "C(Q(\"Order Priority\")):C(Q(\"Product Container\"))  4.581306e+08    24.0   \n",
       "Residual                                          8.170383e+10  8317.0   \n",
       "\n",
       "                                                           F    PR(>F)  \n",
       "C(Q(\"Order Priority\"))                              1.222828  0.298723  \n",
       "C(Q(\"Product Container\"))                         424.202559  0.000000  \n",
       "C(Q(\"Order Priority\")):C(Q(\"Product Container\"))    1.943132  0.003782  \n",
       "Residual                                                 NaN       NaN  "
      ]
     },
     "metadata": {},
     "output_type": "display_data"
    },
    {
     "data": {
      "text/html": [
       "<div>\n",
       "<style scoped>\n",
       "    .dataframe tbody tr th:only-of-type {\n",
       "        vertical-align: middle;\n",
       "    }\n",
       "\n",
       "    .dataframe tbody tr th {\n",
       "        vertical-align: top;\n",
       "    }\n",
       "\n",
       "    .dataframe thead th {\n",
       "        text-align: right;\n",
       "    }\n",
       "</style>\n",
       "<table border=\"1\" class=\"dataframe\">\n",
       "  <thead>\n",
       "    <tr style=\"text-align: right;\">\n",
       "      <th></th>\n",
       "      <th>sum_sq</th>\n",
       "      <th>df</th>\n",
       "      <th>F</th>\n",
       "      <th>PR(&gt;F)</th>\n",
       "    </tr>\n",
       "  </thead>\n",
       "  <tbody>\n",
       "    <tr>\n",
       "      <th>C(Q(\"Order Priority\"))</th>\n",
       "      <td>3.035363e+07</td>\n",
       "      <td>4.0</td>\n",
       "      <td>0.863221</td>\n",
       "      <td>0.485125</td>\n",
       "    </tr>\n",
       "    <tr>\n",
       "      <th>C(Q(\"Product Sub-Category\"))</th>\n",
       "      <td>3.364357e+10</td>\n",
       "      <td>16.0</td>\n",
       "      <td>239.195697</td>\n",
       "      <td>0.000000</td>\n",
       "    </tr>\n",
       "    <tr>\n",
       "      <th>C(Q(\"Order Priority\")):C(Q(\"Product Sub-Category\"))</th>\n",
       "      <td>8.482659e+08</td>\n",
       "      <td>64.0</td>\n",
       "      <td>1.507729</td>\n",
       "      <td>0.005598</td>\n",
       "    </tr>\n",
       "    <tr>\n",
       "      <th>Residual</th>\n",
       "      <td>7.267360e+10</td>\n",
       "      <td>8267.0</td>\n",
       "      <td>NaN</td>\n",
       "      <td>NaN</td>\n",
       "    </tr>\n",
       "  </tbody>\n",
       "</table>\n",
       "</div>"
      ],
      "text/plain": [
       "                                                          sum_sq      df  \\\n",
       "C(Q(\"Order Priority\"))                              3.035363e+07     4.0   \n",
       "C(Q(\"Product Sub-Category\"))                        3.364357e+10    16.0   \n",
       "C(Q(\"Order Priority\")):C(Q(\"Product Sub-Categor...  8.482659e+08    64.0   \n",
       "Residual                                            7.267360e+10  8267.0   \n",
       "\n",
       "                                                             F    PR(>F)  \n",
       "C(Q(\"Order Priority\"))                                0.863221  0.485125  \n",
       "C(Q(\"Product Sub-Category\"))                        239.195697  0.000000  \n",
       "C(Q(\"Order Priority\")):C(Q(\"Product Sub-Categor...    1.507729  0.005598  \n",
       "Residual                                                   NaN       NaN  "
      ]
     },
     "metadata": {},
     "output_type": "display_data"
    },
    {
     "data": {
      "text/html": [
       "<div>\n",
       "<style scoped>\n",
       "    .dataframe tbody tr th:only-of-type {\n",
       "        vertical-align: middle;\n",
       "    }\n",
       "\n",
       "    .dataframe tbody tr th {\n",
       "        vertical-align: top;\n",
       "    }\n",
       "\n",
       "    .dataframe thead th {\n",
       "        text-align: right;\n",
       "    }\n",
       "</style>\n",
       "<table border=\"1\" class=\"dataframe\">\n",
       "  <thead>\n",
       "    <tr style=\"text-align: right;\">\n",
       "      <th></th>\n",
       "      <th>sum_sq</th>\n",
       "      <th>df</th>\n",
       "      <th>F</th>\n",
       "      <th>PR(&gt;F)</th>\n",
       "    </tr>\n",
       "  </thead>\n",
       "  <tbody>\n",
       "    <tr>\n",
       "      <th>C(Q(\"Product Category\"))</th>\n",
       "      <td>9.342344e+09</td>\n",
       "      <td>2.0</td>\n",
       "      <td>398.903180</td>\n",
       "      <td>3.648056e-166</td>\n",
       "    </tr>\n",
       "    <tr>\n",
       "      <th>C(Q(\"Region\"))</th>\n",
       "      <td>8.279933e+07</td>\n",
       "      <td>7.0</td>\n",
       "      <td>1.010114</td>\n",
       "      <td>4.216363e-01</td>\n",
       "    </tr>\n",
       "    <tr>\n",
       "      <th>C(Q(\"Product Category\")):C(Q(\"Region\"))</th>\n",
       "      <td>2.765575e+08</td>\n",
       "      <td>14.0</td>\n",
       "      <td>1.686938</td>\n",
       "      <td>5.117085e-02</td>\n",
       "    </tr>\n",
       "    <tr>\n",
       "      <th>Residual</th>\n",
       "      <td>9.752121e+10</td>\n",
       "      <td>8328.0</td>\n",
       "      <td>NaN</td>\n",
       "      <td>NaN</td>\n",
       "    </tr>\n",
       "  </tbody>\n",
       "</table>\n",
       "</div>"
      ],
      "text/plain": [
       "                                               sum_sq      df           F  \\\n",
       "C(Q(\"Product Category\"))                 9.342344e+09     2.0  398.903180   \n",
       "C(Q(\"Region\"))                           8.279933e+07     7.0    1.010114   \n",
       "C(Q(\"Product Category\")):C(Q(\"Region\"))  2.765575e+08    14.0    1.686938   \n",
       "Residual                                 9.752121e+10  8328.0         NaN   \n",
       "\n",
       "                                                PR(>F)  \n",
       "C(Q(\"Product Category\"))                 3.648056e-166  \n",
       "C(Q(\"Region\"))                            4.216363e-01  \n",
       "C(Q(\"Product Category\")):C(Q(\"Region\"))   5.117085e-02  \n",
       "Residual                                           NaN  "
      ]
     },
     "metadata": {},
     "output_type": "display_data"
    },
    {
     "data": {
      "text/html": [
       "<div>\n",
       "<style scoped>\n",
       "    .dataframe tbody tr th:only-of-type {\n",
       "        vertical-align: middle;\n",
       "    }\n",
       "\n",
       "    .dataframe tbody tr th {\n",
       "        vertical-align: top;\n",
       "    }\n",
       "\n",
       "    .dataframe thead th {\n",
       "        text-align: right;\n",
       "    }\n",
       "</style>\n",
       "<table border=\"1\" class=\"dataframe\">\n",
       "  <thead>\n",
       "    <tr style=\"text-align: right;\">\n",
       "      <th></th>\n",
       "      <th>sum_sq</th>\n",
       "      <th>df</th>\n",
       "      <th>F</th>\n",
       "      <th>PR(&gt;F)</th>\n",
       "    </tr>\n",
       "  </thead>\n",
       "  <tbody>\n",
       "    <tr>\n",
       "      <th>C(Q(\"Product Category\"))</th>\n",
       "      <td>4.584650e+09</td>\n",
       "      <td>2.0</td>\n",
       "      <td>278.778320</td>\n",
       "      <td>6.410913e-118</td>\n",
       "    </tr>\n",
       "    <tr>\n",
       "      <th>C(Q(\"Product Container\"))</th>\n",
       "      <td>2.618273e+10</td>\n",
       "      <td>6.0</td>\n",
       "      <td>530.696813</td>\n",
       "      <td>0.000000e+00</td>\n",
       "    </tr>\n",
       "    <tr>\n",
       "      <th>C(Q(\"Product Category\")):C(Q(\"Product Container\"))</th>\n",
       "      <td>9.135160e+09</td>\n",
       "      <td>12.0</td>\n",
       "      <td>92.580104</td>\n",
       "      <td>8.288601e-216</td>\n",
       "    </tr>\n",
       "    <tr>\n",
       "      <th>Residual</th>\n",
       "      <td>6.851198e+10</td>\n",
       "      <td>8332.0</td>\n",
       "      <td>NaN</td>\n",
       "      <td>NaN</td>\n",
       "    </tr>\n",
       "  </tbody>\n",
       "</table>\n",
       "</div>"
      ],
      "text/plain": [
       "                                                          sum_sq      df  \\\n",
       "C(Q(\"Product Category\"))                            4.584650e+09     2.0   \n",
       "C(Q(\"Product Container\"))                           2.618273e+10     6.0   \n",
       "C(Q(\"Product Category\")):C(Q(\"Product Container\"))  9.135160e+09    12.0   \n",
       "Residual                                            6.851198e+10  8332.0   \n",
       "\n",
       "                                                             F         PR(>F)  \n",
       "C(Q(\"Product Category\"))                            278.778320  6.410913e-118  \n",
       "C(Q(\"Product Container\"))                           530.696813   0.000000e+00  \n",
       "C(Q(\"Product Category\")):C(Q(\"Product Container\"))   92.580104  8.288601e-216  \n",
       "Residual                                                   NaN            NaN  "
      ]
     },
     "metadata": {},
     "output_type": "display_data"
    },
    {
     "name": "stderr",
     "output_type": "stream",
     "text": [
      "//anaconda3/lib/python3.7/site-packages/statsmodels/base/model.py:1752: ValueWarning: covariance of constraints does not have full rank. The number of constraints is 2, but rank is 0\n",
      "  'rank is %d' % (J, J_), ValueWarning)\n",
      "//anaconda3/lib/python3.7/site-packages/statsmodels/base/model.py:1768: RuntimeWarning: invalid value encountered in true_divide\n",
      "  F /= J\n",
      "//anaconda3/lib/python3.7/site-packages/statsmodels/base/model.py:1752: ValueWarning: covariance of constraints does not have full rank. The number of constraints is 16, but rank is 3\n",
      "  'rank is %d' % (J, J_), ValueWarning)\n",
      "//anaconda3/lib/python3.7/site-packages/statsmodels/base/model.py:1752: ValueWarning: covariance of constraints does not have full rank. The number of constraints is 32, but rank is 12\n",
      "  'rank is %d' % (J, J_), ValueWarning)\n"
     ]
    },
    {
     "data": {
      "text/html": [
       "<div>\n",
       "<style scoped>\n",
       "    .dataframe tbody tr th:only-of-type {\n",
       "        vertical-align: middle;\n",
       "    }\n",
       "\n",
       "    .dataframe tbody tr th {\n",
       "        vertical-align: top;\n",
       "    }\n",
       "\n",
       "    .dataframe thead th {\n",
       "        text-align: right;\n",
       "    }\n",
       "</style>\n",
       "<table border=\"1\" class=\"dataframe\">\n",
       "  <thead>\n",
       "    <tr style=\"text-align: right;\">\n",
       "      <th></th>\n",
       "      <th>sum_sq</th>\n",
       "      <th>df</th>\n",
       "      <th>F</th>\n",
       "      <th>PR(&gt;F)</th>\n",
       "    </tr>\n",
       "  </thead>\n",
       "  <tbody>\n",
       "    <tr>\n",
       "      <th>C(Q(\"Product Category\"))</th>\n",
       "      <td>NaN</td>\n",
       "      <td>2.0</td>\n",
       "      <td>NaN</td>\n",
       "      <td>NaN</td>\n",
       "    </tr>\n",
       "    <tr>\n",
       "      <th>C(Q(\"Product Sub-Category\"))</th>\n",
       "      <td>1.357428e+11</td>\n",
       "      <td>16.0</td>\n",
       "      <td>961.405300</td>\n",
       "      <td>0.0</td>\n",
       "    </tr>\n",
       "    <tr>\n",
       "      <th>C(Q(\"Product Category\")):C(Q(\"Product Sub-Category\"))</th>\n",
       "      <td>4.769180e+10</td>\n",
       "      <td>32.0</td>\n",
       "      <td>168.889845</td>\n",
       "      <td>0.0</td>\n",
       "    </tr>\n",
       "    <tr>\n",
       "      <th>Residual</th>\n",
       "      <td>7.355222e+10</td>\n",
       "      <td>8335.0</td>\n",
       "      <td>NaN</td>\n",
       "      <td>NaN</td>\n",
       "    </tr>\n",
       "  </tbody>\n",
       "</table>\n",
       "</div>"
      ],
      "text/plain": [
       "                                                          sum_sq      df  \\\n",
       "C(Q(\"Product Category\"))                                     NaN     2.0   \n",
       "C(Q(\"Product Sub-Category\"))                        1.357428e+11    16.0   \n",
       "C(Q(\"Product Category\")):C(Q(\"Product Sub-Categ...  4.769180e+10    32.0   \n",
       "Residual                                            7.355222e+10  8335.0   \n",
       "\n",
       "                                                             F  PR(>F)  \n",
       "C(Q(\"Product Category\"))                                   NaN     NaN  \n",
       "C(Q(\"Product Sub-Category\"))                        961.405300     0.0  \n",
       "C(Q(\"Product Category\")):C(Q(\"Product Sub-Categ...  168.889845     0.0  \n",
       "Residual                                                   NaN     NaN  "
      ]
     },
     "metadata": {},
     "output_type": "display_data"
    },
    {
     "data": {
      "text/html": [
       "<div>\n",
       "<style scoped>\n",
       "    .dataframe tbody tr th:only-of-type {\n",
       "        vertical-align: middle;\n",
       "    }\n",
       "\n",
       "    .dataframe tbody tr th {\n",
       "        vertical-align: top;\n",
       "    }\n",
       "\n",
       "    .dataframe thead th {\n",
       "        text-align: right;\n",
       "    }\n",
       "</style>\n",
       "<table border=\"1\" class=\"dataframe\">\n",
       "  <thead>\n",
       "    <tr style=\"text-align: right;\">\n",
       "      <th></th>\n",
       "      <th>sum_sq</th>\n",
       "      <th>df</th>\n",
       "      <th>F</th>\n",
       "      <th>PR(&gt;F)</th>\n",
       "    </tr>\n",
       "  </thead>\n",
       "  <tbody>\n",
       "    <tr>\n",
       "      <th>C(Q(\"Region\"))</th>\n",
       "      <td>5.652056e+07</td>\n",
       "      <td>7.0</td>\n",
       "      <td>0.824284</td>\n",
       "      <td>0.566881</td>\n",
       "    </tr>\n",
       "    <tr>\n",
       "      <th>C(Q(\"Product Container\"))</th>\n",
       "      <td>2.498662e+10</td>\n",
       "      <td>6.0</td>\n",
       "      <td>425.132795</td>\n",
       "      <td>0.000000</td>\n",
       "    </tr>\n",
       "    <tr>\n",
       "      <th>C(Q(\"Region\")):C(Q(\"Product Container\"))</th>\n",
       "      <td>8.890983e+08</td>\n",
       "      <td>42.0</td>\n",
       "      <td>2.161070</td>\n",
       "      <td>0.000021</td>\n",
       "    </tr>\n",
       "    <tr>\n",
       "      <th>Residual</th>\n",
       "      <td>8.126440e+10</td>\n",
       "      <td>8296.0</td>\n",
       "      <td>NaN</td>\n",
       "      <td>NaN</td>\n",
       "    </tr>\n",
       "  </tbody>\n",
       "</table>\n",
       "</div>"
      ],
      "text/plain": [
       "                                                sum_sq      df           F  \\\n",
       "C(Q(\"Region\"))                            5.652056e+07     7.0    0.824284   \n",
       "C(Q(\"Product Container\"))                 2.498662e+10     6.0  425.132795   \n",
       "C(Q(\"Region\")):C(Q(\"Product Container\"))  8.890983e+08    42.0    2.161070   \n",
       "Residual                                  8.126440e+10  8296.0         NaN   \n",
       "\n",
       "                                            PR(>F)  \n",
       "C(Q(\"Region\"))                            0.566881  \n",
       "C(Q(\"Product Container\"))                 0.000000  \n",
       "C(Q(\"Region\")):C(Q(\"Product Container\"))  0.000021  \n",
       "Residual                                       NaN  "
      ]
     },
     "metadata": {},
     "output_type": "display_data"
    },
    {
     "name": "stderr",
     "output_type": "stream",
     "text": [
      "//anaconda3/lib/python3.7/site-packages/statsmodels/base/model.py:1752: ValueWarning: covariance of constraints does not have full rank. The number of constraints is 7, but rank is 6\n",
      "  'rank is %d' % (J, J_), ValueWarning)\n",
      "//anaconda3/lib/python3.7/site-packages/statsmodels/base/model.py:1752: ValueWarning: covariance of constraints does not have full rank. The number of constraints is 16, but rank is 15\n",
      "  'rank is %d' % (J, J_), ValueWarning)\n",
      "//anaconda3/lib/python3.7/site-packages/statsmodels/base/model.py:1752: ValueWarning: covariance of constraints does not have full rank. The number of constraints is 112, but rank is 111\n",
      "  'rank is %d' % (J, J_), ValueWarning)\n"
     ]
    },
    {
     "data": {
      "text/html": [
       "<div>\n",
       "<style scoped>\n",
       "    .dataframe tbody tr th:only-of-type {\n",
       "        vertical-align: middle;\n",
       "    }\n",
       "\n",
       "    .dataframe tbody tr th {\n",
       "        vertical-align: top;\n",
       "    }\n",
       "\n",
       "    .dataframe thead th {\n",
       "        text-align: right;\n",
       "    }\n",
       "</style>\n",
       "<table border=\"1\" class=\"dataframe\">\n",
       "  <thead>\n",
       "    <tr style=\"text-align: right;\">\n",
       "      <th></th>\n",
       "      <th>sum_sq</th>\n",
       "      <th>df</th>\n",
       "      <th>F</th>\n",
       "      <th>PR(&gt;F)</th>\n",
       "    </tr>\n",
       "  </thead>\n",
       "  <tbody>\n",
       "    <tr>\n",
       "      <th>C(Q(\"Region\"))</th>\n",
       "      <td>3.743249e+07</td>\n",
       "      <td>7.0</td>\n",
       "      <td>0.609574</td>\n",
       "      <td>0.722908</td>\n",
       "    </tr>\n",
       "    <tr>\n",
       "      <th>C(Q(\"Product Sub-Category\"))</th>\n",
       "      <td>3.586494e+10</td>\n",
       "      <td>16.0</td>\n",
       "      <td>255.520463</td>\n",
       "      <td>0.000000</td>\n",
       "    </tr>\n",
       "    <tr>\n",
       "      <th>C(Q(\"Region\")):C(Q(\"Product Sub-Category\"))</th>\n",
       "      <td>1.442687e+09</td>\n",
       "      <td>112.0</td>\n",
       "      <td>1.468350</td>\n",
       "      <td>0.001059</td>\n",
       "    </tr>\n",
       "    <tr>\n",
       "      <th>Residual</th>\n",
       "      <td>7.208382e+10</td>\n",
       "      <td>8217.0</td>\n",
       "      <td>NaN</td>\n",
       "      <td>NaN</td>\n",
       "    </tr>\n",
       "  </tbody>\n",
       "</table>\n",
       "</div>"
      ],
      "text/plain": [
       "                                                   sum_sq      df           F  \\\n",
       "C(Q(\"Region\"))                               3.743249e+07     7.0    0.609574   \n",
       "C(Q(\"Product Sub-Category\"))                 3.586494e+10    16.0  255.520463   \n",
       "C(Q(\"Region\")):C(Q(\"Product Sub-Category\"))  1.442687e+09   112.0    1.468350   \n",
       "Residual                                     7.208382e+10  8217.0         NaN   \n",
       "\n",
       "                                               PR(>F)  \n",
       "C(Q(\"Region\"))                               0.722908  \n",
       "C(Q(\"Product Sub-Category\"))                 0.000000  \n",
       "C(Q(\"Region\")):C(Q(\"Product Sub-Category\"))  0.001059  \n",
       "Residual                                          NaN  "
      ]
     },
     "metadata": {},
     "output_type": "display_data"
    },
    {
     "name": "stderr",
     "output_type": "stream",
     "text": [
      "//anaconda3/lib/python3.7/site-packages/statsmodels/base/model.py:1752: ValueWarning: covariance of constraints does not have full rank. The number of constraints is 6, but rank is 4\n",
      "  'rank is %d' % (J, J_), ValueWarning)\n",
      "//anaconda3/lib/python3.7/site-packages/statsmodels/base/model.py:1752: ValueWarning: covariance of constraints does not have full rank. The number of constraints is 16, but rank is 8\n",
      "  'rank is %d' % (J, J_), ValueWarning)\n",
      "//anaconda3/lib/python3.7/site-packages/statsmodels/base/model.py:1752: ValueWarning: covariance of constraints does not have full rank. The number of constraints is 96, but rank is 40\n",
      "  'rank is %d' % (J, J_), ValueWarning)\n"
     ]
    },
    {
     "data": {
      "text/html": [
       "<div>\n",
       "<style scoped>\n",
       "    .dataframe tbody tr th:only-of-type {\n",
       "        vertical-align: middle;\n",
       "    }\n",
       "\n",
       "    .dataframe tbody tr th {\n",
       "        vertical-align: top;\n",
       "    }\n",
       "\n",
       "    .dataframe thead th {\n",
       "        text-align: right;\n",
       "    }\n",
       "</style>\n",
       "<table border=\"1\" class=\"dataframe\">\n",
       "  <thead>\n",
       "    <tr style=\"text-align: right;\">\n",
       "      <th></th>\n",
       "      <th>sum_sq</th>\n",
       "      <th>df</th>\n",
       "      <th>F</th>\n",
       "      <th>PR(&gt;F)</th>\n",
       "    </tr>\n",
       "  </thead>\n",
       "  <tbody>\n",
       "    <tr>\n",
       "      <th>C(Q(\"Product Container\"))</th>\n",
       "      <td>1.184988e+10</td>\n",
       "      <td>6.0</td>\n",
       "      <td>261.203151</td>\n",
       "      <td>9.283528e-212</td>\n",
       "    </tr>\n",
       "    <tr>\n",
       "      <th>C(Q(\"Product Sub-Category\"))</th>\n",
       "      <td>5.029258e+09</td>\n",
       "      <td>16.0</td>\n",
       "      <td>41.571883</td>\n",
       "      <td>1.078108e-65</td>\n",
       "    </tr>\n",
       "    <tr>\n",
       "      <th>C(Q(\"Product Container\")):C(Q(\"Product Sub-Category\"))</th>\n",
       "      <td>7.070345e+10</td>\n",
       "      <td>96.0</td>\n",
       "      <td>97.405883</td>\n",
       "      <td>0.000000e+00</td>\n",
       "    </tr>\n",
       "    <tr>\n",
       "      <th>Residual</th>\n",
       "      <td>6.278726e+10</td>\n",
       "      <td>8304.0</td>\n",
       "      <td>NaN</td>\n",
       "      <td>NaN</td>\n",
       "    </tr>\n",
       "  </tbody>\n",
       "</table>\n",
       "</div>"
      ],
      "text/plain": [
       "                                                          sum_sq      df  \\\n",
       "C(Q(\"Product Container\"))                           1.184988e+10     6.0   \n",
       "C(Q(\"Product Sub-Category\"))                        5.029258e+09    16.0   \n",
       "C(Q(\"Product Container\")):C(Q(\"Product Sub-Cate...  7.070345e+10    96.0   \n",
       "Residual                                            6.278726e+10  8304.0   \n",
       "\n",
       "                                                             F         PR(>F)  \n",
       "C(Q(\"Product Container\"))                           261.203151  9.283528e-212  \n",
       "C(Q(\"Product Sub-Category\"))                         41.571883   1.078108e-65  \n",
       "C(Q(\"Product Container\")):C(Q(\"Product Sub-Cate...   97.405883   0.000000e+00  \n",
       "Residual                                                   NaN            NaN  "
      ]
     },
     "metadata": {},
     "output_type": "display_data"
    }
   ],
   "source": [
    "# Making a list of tuples holding 2 categorical columns\n",
    "lst = []\n",
    "for i in range(len(categorical)-1):\n",
    "    for j in range(i+1, len(categorical)):\n",
    "        lst.append((categorical[i], categorical[j]))\n",
    "        \n",
    "# Lets perform 2-way anova with Sales and tuples we populated in above list\n",
    "for i in lst:\n",
    "    model = ols('Sales ~ C(Q(\"%s\")) + C(Q(\"%s\")) + C(Q(\"%s\")):C(Q(\"%s\"))' % (i[0],i[1],i[0],i[1]), data=salesdf).fit()\n",
    "    anova_table = sm.stats.anova_lm(model, typ=2)\n",
    "    display(anova_table)"
   ]
  },
  {
   "cell_type": "code",
   "execution_count": 331,
   "metadata": {},
   "outputs": [
    {
     "data": {
      "text/html": [
       "<div>\n",
       "<style scoped>\n",
       "    .dataframe tbody tr th:only-of-type {\n",
       "        vertical-align: middle;\n",
       "    }\n",
       "\n",
       "    .dataframe tbody tr th {\n",
       "        vertical-align: top;\n",
       "    }\n",
       "\n",
       "    .dataframe thead th {\n",
       "        text-align: right;\n",
       "    }\n",
       "</style>\n",
       "<table border=\"1\" class=\"dataframe\">\n",
       "  <thead>\n",
       "    <tr style=\"text-align: right;\">\n",
       "      <th></th>\n",
       "      <th>sum_sq</th>\n",
       "      <th>df</th>\n",
       "      <th>F</th>\n",
       "      <th>PR(&gt;F)</th>\n",
       "    </tr>\n",
       "  </thead>\n",
       "  <tbody>\n",
       "    <tr>\n",
       "      <th>C(Q(\"Ship Mode\"))</th>\n",
       "      <td>4.311958e+06</td>\n",
       "      <td>2.0</td>\n",
       "      <td>1.504756</td>\n",
       "      <td>0.222132</td>\n",
       "    </tr>\n",
       "    <tr>\n",
       "      <th>C(Q(\"Customer Segment\"))</th>\n",
       "      <td>1.966922e+06</td>\n",
       "      <td>3.0</td>\n",
       "      <td>0.457601</td>\n",
       "      <td>0.711929</td>\n",
       "    </tr>\n",
       "    <tr>\n",
       "      <th>C(Q(\"Ship Mode\")):C(Q(\"Customer Segment\"))</th>\n",
       "      <td>6.502233e+06</td>\n",
       "      <td>6.0</td>\n",
       "      <td>0.756367</td>\n",
       "      <td>0.604268</td>\n",
       "    </tr>\n",
       "    <tr>\n",
       "      <th>Residual</th>\n",
       "      <td>1.194936e+10</td>\n",
       "      <td>8340.0</td>\n",
       "      <td>NaN</td>\n",
       "      <td>NaN</td>\n",
       "    </tr>\n",
       "  </tbody>\n",
       "</table>\n",
       "</div>"
      ],
      "text/plain": [
       "                                                  sum_sq      df         F  \\\n",
       "C(Q(\"Ship Mode\"))                           4.311958e+06     2.0  1.504756   \n",
       "C(Q(\"Customer Segment\"))                    1.966922e+06     3.0  0.457601   \n",
       "C(Q(\"Ship Mode\")):C(Q(\"Customer Segment\"))  6.502233e+06     6.0  0.756367   \n",
       "Residual                                    1.194936e+10  8340.0       NaN   \n",
       "\n",
       "                                              PR(>F)  \n",
       "C(Q(\"Ship Mode\"))                           0.222132  \n",
       "C(Q(\"Customer Segment\"))                    0.711929  \n",
       "C(Q(\"Ship Mode\")):C(Q(\"Customer Segment\"))  0.604268  \n",
       "Residual                                         NaN  "
      ]
     },
     "metadata": {},
     "output_type": "display_data"
    },
    {
     "data": {
      "text/html": [
       "<div>\n",
       "<style scoped>\n",
       "    .dataframe tbody tr th:only-of-type {\n",
       "        vertical-align: middle;\n",
       "    }\n",
       "\n",
       "    .dataframe tbody tr th {\n",
       "        vertical-align: top;\n",
       "    }\n",
       "\n",
       "    .dataframe thead th {\n",
       "        text-align: right;\n",
       "    }\n",
       "</style>\n",
       "<table border=\"1\" class=\"dataframe\">\n",
       "  <thead>\n",
       "    <tr style=\"text-align: right;\">\n",
       "      <th></th>\n",
       "      <th>sum_sq</th>\n",
       "      <th>df</th>\n",
       "      <th>F</th>\n",
       "      <th>PR(&gt;F)</th>\n",
       "    </tr>\n",
       "  </thead>\n",
       "  <tbody>\n",
       "    <tr>\n",
       "      <th>C(Q(\"Ship Mode\"))</th>\n",
       "      <td>4.223861e+06</td>\n",
       "      <td>2.0</td>\n",
       "      <td>1.476941</td>\n",
       "      <td>0.228395</td>\n",
       "    </tr>\n",
       "    <tr>\n",
       "      <th>C(Q(\"Order Priority\"))</th>\n",
       "      <td>1.864040e+07</td>\n",
       "      <td>4.0</td>\n",
       "      <td>3.258960</td>\n",
       "      <td>0.011144</td>\n",
       "    </tr>\n",
       "    <tr>\n",
       "      <th>C(Q(\"Ship Mode\")):C(Q(\"Order Priority\"))</th>\n",
       "      <td>1.781601e+07</td>\n",
       "      <td>8.0</td>\n",
       "      <td>1.557414</td>\n",
       "      <td>0.132048</td>\n",
       "    </tr>\n",
       "    <tr>\n",
       "      <th>Residual</th>\n",
       "      <td>1.192137e+10</td>\n",
       "      <td>8337.0</td>\n",
       "      <td>NaN</td>\n",
       "      <td>NaN</td>\n",
       "    </tr>\n",
       "  </tbody>\n",
       "</table>\n",
       "</div>"
      ],
      "text/plain": [
       "                                                sum_sq      df         F  \\\n",
       "C(Q(\"Ship Mode\"))                         4.223861e+06     2.0  1.476941   \n",
       "C(Q(\"Order Priority\"))                    1.864040e+07     4.0  3.258960   \n",
       "C(Q(\"Ship Mode\")):C(Q(\"Order Priority\"))  1.781601e+07     8.0  1.557414   \n",
       "Residual                                  1.192137e+10  8337.0       NaN   \n",
       "\n",
       "                                            PR(>F)  \n",
       "C(Q(\"Ship Mode\"))                         0.228395  \n",
       "C(Q(\"Order Priority\"))                    0.011144  \n",
       "C(Q(\"Ship Mode\")):C(Q(\"Order Priority\"))  0.132048  \n",
       "Residual                                       NaN  "
      ]
     },
     "metadata": {},
     "output_type": "display_data"
    },
    {
     "data": {
      "text/html": [
       "<div>\n",
       "<style scoped>\n",
       "    .dataframe tbody tr th:only-of-type {\n",
       "        vertical-align: middle;\n",
       "    }\n",
       "\n",
       "    .dataframe tbody tr th {\n",
       "        vertical-align: top;\n",
       "    }\n",
       "\n",
       "    .dataframe thead th {\n",
       "        text-align: right;\n",
       "    }\n",
       "</style>\n",
       "<table border=\"1\" class=\"dataframe\">\n",
       "  <thead>\n",
       "    <tr style=\"text-align: right;\">\n",
       "      <th></th>\n",
       "      <th>sum_sq</th>\n",
       "      <th>df</th>\n",
       "      <th>F</th>\n",
       "      <th>PR(&gt;F)</th>\n",
       "    </tr>\n",
       "  </thead>\n",
       "  <tbody>\n",
       "    <tr>\n",
       "      <th>C(Q(\"Ship Mode\"))</th>\n",
       "      <td>1.771898e+07</td>\n",
       "      <td>2.0</td>\n",
       "      <td>6.363215</td>\n",
       "      <td>1.732194e-03</td>\n",
       "    </tr>\n",
       "    <tr>\n",
       "      <th>C(Q(\"Product Category\"))</th>\n",
       "      <td>1.808307e+08</td>\n",
       "      <td>2.0</td>\n",
       "      <td>64.939660</td>\n",
       "      <td>1.033561e-28</td>\n",
       "    </tr>\n",
       "    <tr>\n",
       "      <th>C(Q(\"Ship Mode\")):C(Q(\"Product Category\"))</th>\n",
       "      <td>1.610538e+08</td>\n",
       "      <td>4.0</td>\n",
       "      <td>28.918703</td>\n",
       "      <td>6.574289e-24</td>\n",
       "    </tr>\n",
       "    <tr>\n",
       "      <th>Residual</th>\n",
       "      <td>1.161594e+10</td>\n",
       "      <td>8343.0</td>\n",
       "      <td>NaN</td>\n",
       "      <td>NaN</td>\n",
       "    </tr>\n",
       "  </tbody>\n",
       "</table>\n",
       "</div>"
      ],
      "text/plain": [
       "                                                  sum_sq      df          F  \\\n",
       "C(Q(\"Ship Mode\"))                           1.771898e+07     2.0   6.363215   \n",
       "C(Q(\"Product Category\"))                    1.808307e+08     2.0  64.939660   \n",
       "C(Q(\"Ship Mode\")):C(Q(\"Product Category\"))  1.610538e+08     4.0  28.918703   \n",
       "Residual                                    1.161594e+10  8343.0        NaN   \n",
       "\n",
       "                                                  PR(>F)  \n",
       "C(Q(\"Ship Mode\"))                           1.732194e-03  \n",
       "C(Q(\"Product Category\"))                    1.033561e-28  \n",
       "C(Q(\"Ship Mode\")):C(Q(\"Product Category\"))  6.574289e-24  \n",
       "Residual                                             NaN  "
      ]
     },
     "metadata": {},
     "output_type": "display_data"
    },
    {
     "data": {
      "text/html": [
       "<div>\n",
       "<style scoped>\n",
       "    .dataframe tbody tr th:only-of-type {\n",
       "        vertical-align: middle;\n",
       "    }\n",
       "\n",
       "    .dataframe tbody tr th {\n",
       "        vertical-align: top;\n",
       "    }\n",
       "\n",
       "    .dataframe thead th {\n",
       "        text-align: right;\n",
       "    }\n",
       "</style>\n",
       "<table border=\"1\" class=\"dataframe\">\n",
       "  <thead>\n",
       "    <tr style=\"text-align: right;\">\n",
       "      <th></th>\n",
       "      <th>sum_sq</th>\n",
       "      <th>df</th>\n",
       "      <th>F</th>\n",
       "      <th>PR(&gt;F)</th>\n",
       "    </tr>\n",
       "  </thead>\n",
       "  <tbody>\n",
       "    <tr>\n",
       "      <th>C(Q(\"Ship Mode\"))</th>\n",
       "      <td>4.299096e+06</td>\n",
       "      <td>2.0</td>\n",
       "      <td>1.501094</td>\n",
       "      <td>0.222947</td>\n",
       "    </tr>\n",
       "    <tr>\n",
       "      <th>C(Q(\"Region\"))</th>\n",
       "      <td>8.890348e+06</td>\n",
       "      <td>7.0</td>\n",
       "      <td>0.886914</td>\n",
       "      <td>0.515689</td>\n",
       "    </tr>\n",
       "    <tr>\n",
       "      <th>C(Q(\"Ship Mode\")):C(Q(\"Region\"))</th>\n",
       "      <td>2.334276e+07</td>\n",
       "      <td>14.0</td>\n",
       "      <td>1.164354</td>\n",
       "      <td>0.295590</td>\n",
       "    </tr>\n",
       "    <tr>\n",
       "      <th>Residual</th>\n",
       "      <td>1.192559e+10</td>\n",
       "      <td>8328.0</td>\n",
       "      <td>NaN</td>\n",
       "      <td>NaN</td>\n",
       "    </tr>\n",
       "  </tbody>\n",
       "</table>\n",
       "</div>"
      ],
      "text/plain": [
       "                                        sum_sq      df         F    PR(>F)\n",
       "C(Q(\"Ship Mode\"))                 4.299096e+06     2.0  1.501094  0.222947\n",
       "C(Q(\"Region\"))                    8.890348e+06     7.0  0.886914  0.515689\n",
       "C(Q(\"Ship Mode\")):C(Q(\"Region\"))  2.334276e+07    14.0  1.164354  0.295590\n",
       "Residual                          1.192559e+10  8328.0       NaN       NaN"
      ]
     },
     "metadata": {},
     "output_type": "display_data"
    },
    {
     "name": "stderr",
     "output_type": "stream",
     "text": [
      "//anaconda3/lib/python3.7/site-packages/statsmodels/base/model.py:1752: ValueWarning: covariance of constraints does not have full rank. The number of constraints is 12, but rank is 1\n",
      "  'rank is %d' % (J, J_), ValueWarning)\n"
     ]
    },
    {
     "data": {
      "text/html": [
       "<div>\n",
       "<style scoped>\n",
       "    .dataframe tbody tr th:only-of-type {\n",
       "        vertical-align: middle;\n",
       "    }\n",
       "\n",
       "    .dataframe tbody tr th {\n",
       "        vertical-align: top;\n",
       "    }\n",
       "\n",
       "    .dataframe thead th {\n",
       "        text-align: right;\n",
       "    }\n",
       "</style>\n",
       "<table border=\"1\" class=\"dataframe\">\n",
       "  <thead>\n",
       "    <tr style=\"text-align: right;\">\n",
       "      <th></th>\n",
       "      <th>sum_sq</th>\n",
       "      <th>df</th>\n",
       "      <th>F</th>\n",
       "      <th>PR(&gt;F)</th>\n",
       "    </tr>\n",
       "  </thead>\n",
       "  <tbody>\n",
       "    <tr>\n",
       "      <th>C(Q(\"Ship Mode\"))</th>\n",
       "      <td>3.987220e+05</td>\n",
       "      <td>2.0</td>\n",
       "      <td>1.412405e-01</td>\n",
       "      <td>0.868283</td>\n",
       "    </tr>\n",
       "    <tr>\n",
       "      <th>C(Q(\"Product Container\"))</th>\n",
       "      <td>1.484785e+00</td>\n",
       "      <td>6.0</td>\n",
       "      <td>1.753199e-07</td>\n",
       "      <td>1.000000</td>\n",
       "    </tr>\n",
       "    <tr>\n",
       "      <th>C(Q(\"Ship Mode\")):C(Q(\"Product Container\"))</th>\n",
       "      <td>2.456086e+04</td>\n",
       "      <td>12.0</td>\n",
       "      <td>1.450045e-03</td>\n",
       "      <td>0.969625</td>\n",
       "    </tr>\n",
       "    <tr>\n",
       "      <th>Residual</th>\n",
       "      <td>1.176768e+10</td>\n",
       "      <td>8337.0</td>\n",
       "      <td>NaN</td>\n",
       "      <td>NaN</td>\n",
       "    </tr>\n",
       "  </tbody>\n",
       "</table>\n",
       "</div>"
      ],
      "text/plain": [
       "                                                   sum_sq      df  \\\n",
       "C(Q(\"Ship Mode\"))                            3.987220e+05     2.0   \n",
       "C(Q(\"Product Container\"))                    1.484785e+00     6.0   \n",
       "C(Q(\"Ship Mode\")):C(Q(\"Product Container\"))  2.456086e+04    12.0   \n",
       "Residual                                     1.176768e+10  8337.0   \n",
       "\n",
       "                                                        F    PR(>F)  \n",
       "C(Q(\"Ship Mode\"))                            1.412405e-01  0.868283  \n",
       "C(Q(\"Product Container\"))                    1.753199e-07  1.000000  \n",
       "C(Q(\"Ship Mode\")):C(Q(\"Product Container\"))  1.450045e-03  0.969625  \n",
       "Residual                                              NaN       NaN  "
      ]
     },
     "metadata": {},
     "output_type": "display_data"
    },
    {
     "name": "stderr",
     "output_type": "stream",
     "text": [
      "//anaconda3/lib/python3.7/site-packages/statsmodels/base/model.py:1752: ValueWarning: covariance of constraints does not have full rank. The number of constraints is 2, but rank is 1\n",
      "  'rank is %d' % (J, J_), ValueWarning)\n",
      "//anaconda3/lib/python3.7/site-packages/statsmodels/base/model.py:1752: ValueWarning: covariance of constraints does not have full rank. The number of constraints is 16, but rank is 6\n",
      "  'rank is %d' % (J, J_), ValueWarning)\n",
      "//anaconda3/lib/python3.7/site-packages/statsmodels/base/model.py:1752: ValueWarning: covariance of constraints does not have full rank. The number of constraints is 32, but rank is 31\n",
      "  'rank is %d' % (J, J_), ValueWarning)\n"
     ]
    },
    {
     "data": {
      "text/html": [
       "<div>\n",
       "<style scoped>\n",
       "    .dataframe tbody tr th:only-of-type {\n",
       "        vertical-align: middle;\n",
       "    }\n",
       "\n",
       "    .dataframe tbody tr th {\n",
       "        vertical-align: top;\n",
       "    }\n",
       "\n",
       "    .dataframe thead th {\n",
       "        text-align: right;\n",
       "    }\n",
       "</style>\n",
       "<table border=\"1\" class=\"dataframe\">\n",
       "  <thead>\n",
       "    <tr style=\"text-align: right;\">\n",
       "      <th></th>\n",
       "      <th>sum_sq</th>\n",
       "      <th>df</th>\n",
       "      <th>F</th>\n",
       "      <th>PR(&gt;F)</th>\n",
       "    </tr>\n",
       "  </thead>\n",
       "  <tbody>\n",
       "    <tr>\n",
       "      <th>C(Q(\"Ship Mode\"))</th>\n",
       "      <td>2.429534e+05</td>\n",
       "      <td>2.0</td>\n",
       "      <td>0.090254</td>\n",
       "      <td>7.638625e-01</td>\n",
       "    </tr>\n",
       "    <tr>\n",
       "      <th>C(Q(\"Product Sub-Category\"))</th>\n",
       "      <td>1.291139e+09</td>\n",
       "      <td>16.0</td>\n",
       "      <td>59.954921</td>\n",
       "      <td>5.084002e-73</td>\n",
       "    </tr>\n",
       "    <tr>\n",
       "      <th>C(Q(\"Ship Mode\")):C(Q(\"Product Sub-Category\"))</th>\n",
       "      <td>2.147695e+08</td>\n",
       "      <td>32.0</td>\n",
       "      <td>4.986482</td>\n",
       "      <td>3.791929e-18</td>\n",
       "    </tr>\n",
       "    <tr>\n",
       "      <th>Residual</th>\n",
       "      <td>1.118617e+10</td>\n",
       "      <td>8311.0</td>\n",
       "      <td>NaN</td>\n",
       "      <td>NaN</td>\n",
       "    </tr>\n",
       "  </tbody>\n",
       "</table>\n",
       "</div>"
      ],
      "text/plain": [
       "                                                      sum_sq      df  \\\n",
       "C(Q(\"Ship Mode\"))                               2.429534e+05     2.0   \n",
       "C(Q(\"Product Sub-Category\"))                    1.291139e+09    16.0   \n",
       "C(Q(\"Ship Mode\")):C(Q(\"Product Sub-Category\"))  2.147695e+08    32.0   \n",
       "Residual                                        1.118617e+10  8311.0   \n",
       "\n",
       "                                                        F        PR(>F)  \n",
       "C(Q(\"Ship Mode\"))                                0.090254  7.638625e-01  \n",
       "C(Q(\"Product Sub-Category\"))                    59.954921  5.084002e-73  \n",
       "C(Q(\"Ship Mode\")):C(Q(\"Product Sub-Category\"))   4.986482  3.791929e-18  \n",
       "Residual                                              NaN           NaN  "
      ]
     },
     "metadata": {},
     "output_type": "display_data"
    },
    {
     "data": {
      "text/html": [
       "<div>\n",
       "<style scoped>\n",
       "    .dataframe tbody tr th:only-of-type {\n",
       "        vertical-align: middle;\n",
       "    }\n",
       "\n",
       "    .dataframe tbody tr th {\n",
       "        vertical-align: top;\n",
       "    }\n",
       "\n",
       "    .dataframe thead th {\n",
       "        text-align: right;\n",
       "    }\n",
       "</style>\n",
       "<table border=\"1\" class=\"dataframe\">\n",
       "  <thead>\n",
       "    <tr style=\"text-align: right;\">\n",
       "      <th></th>\n",
       "      <th>sum_sq</th>\n",
       "      <th>df</th>\n",
       "      <th>F</th>\n",
       "      <th>PR(&gt;F)</th>\n",
       "    </tr>\n",
       "  </thead>\n",
       "  <tbody>\n",
       "    <tr>\n",
       "      <th>C(Q(\"Customer Segment\"))</th>\n",
       "      <td>2.214797e+06</td>\n",
       "      <td>3.0</td>\n",
       "      <td>0.515934</td>\n",
       "      <td>0.671294</td>\n",
       "    </tr>\n",
       "    <tr>\n",
       "      <th>C(Q(\"Order Priority\"))</th>\n",
       "      <td>1.897638e+07</td>\n",
       "      <td>4.0</td>\n",
       "      <td>3.315389</td>\n",
       "      <td>0.010105</td>\n",
       "    </tr>\n",
       "    <tr>\n",
       "      <th>C(Q(\"Customer Segment\")):C(Q(\"Order Priority\"))</th>\n",
       "      <td>1.867522e+07</td>\n",
       "      <td>12.0</td>\n",
       "      <td>1.087591</td>\n",
       "      <td>0.365510</td>\n",
       "    </tr>\n",
       "    <tr>\n",
       "      <th>Residual</th>\n",
       "      <td>1.192252e+10</td>\n",
       "      <td>8332.0</td>\n",
       "      <td>NaN</td>\n",
       "      <td>NaN</td>\n",
       "    </tr>\n",
       "  </tbody>\n",
       "</table>\n",
       "</div>"
      ],
      "text/plain": [
       "                                                       sum_sq      df  \\\n",
       "C(Q(\"Customer Segment\"))                         2.214797e+06     3.0   \n",
       "C(Q(\"Order Priority\"))                           1.897638e+07     4.0   \n",
       "C(Q(\"Customer Segment\")):C(Q(\"Order Priority\"))  1.867522e+07    12.0   \n",
       "Residual                                         1.192252e+10  8332.0   \n",
       "\n",
       "                                                        F    PR(>F)  \n",
       "C(Q(\"Customer Segment\"))                         0.515934  0.671294  \n",
       "C(Q(\"Order Priority\"))                           3.315389  0.010105  \n",
       "C(Q(\"Customer Segment\")):C(Q(\"Order Priority\"))  1.087591  0.365510  \n",
       "Residual                                              NaN       NaN  "
      ]
     },
     "metadata": {},
     "output_type": "display_data"
    },
    {
     "data": {
      "text/html": [
       "<div>\n",
       "<style scoped>\n",
       "    .dataframe tbody tr th:only-of-type {\n",
       "        vertical-align: middle;\n",
       "    }\n",
       "\n",
       "    .dataframe tbody tr th {\n",
       "        vertical-align: top;\n",
       "    }\n",
       "\n",
       "    .dataframe thead th {\n",
       "        text-align: right;\n",
       "    }\n",
       "</style>\n",
       "<table border=\"1\" class=\"dataframe\">\n",
       "  <thead>\n",
       "    <tr style=\"text-align: right;\">\n",
       "      <th></th>\n",
       "      <th>sum_sq</th>\n",
       "      <th>df</th>\n",
       "      <th>F</th>\n",
       "      <th>PR(&gt;F)</th>\n",
       "    </tr>\n",
       "  </thead>\n",
       "  <tbody>\n",
       "    <tr>\n",
       "      <th>C(Q(\"Customer Segment\"))</th>\n",
       "      <td>1.830035e+06</td>\n",
       "      <td>3.0</td>\n",
       "      <td>0.431661</td>\n",
       "      <td>7.303302e-01</td>\n",
       "    </tr>\n",
       "    <tr>\n",
       "      <th>C(Q(\"Product Category\"))</th>\n",
       "      <td>1.672868e+08</td>\n",
       "      <td>2.0</td>\n",
       "      <td>59.188356</td>\n",
       "      <td>2.989119e-26</td>\n",
       "    </tr>\n",
       "    <tr>\n",
       "      <th>C(Q(\"Customer Segment\")):C(Q(\"Product Category\"))</th>\n",
       "      <td>7.019832e+06</td>\n",
       "      <td>6.0</td>\n",
       "      <td>0.827904</td>\n",
       "      <td>5.480349e-01</td>\n",
       "    </tr>\n",
       "    <tr>\n",
       "      <th>Residual</th>\n",
       "      <td>1.178586e+10</td>\n",
       "      <td>8340.0</td>\n",
       "      <td>NaN</td>\n",
       "      <td>NaN</td>\n",
       "    </tr>\n",
       "  </tbody>\n",
       "</table>\n",
       "</div>"
      ],
      "text/plain": [
       "                                                         sum_sq      df  \\\n",
       "C(Q(\"Customer Segment\"))                           1.830035e+06     3.0   \n",
       "C(Q(\"Product Category\"))                           1.672868e+08     2.0   \n",
       "C(Q(\"Customer Segment\")):C(Q(\"Product Category\"))  7.019832e+06     6.0   \n",
       "Residual                                           1.178586e+10  8340.0   \n",
       "\n",
       "                                                           F        PR(>F)  \n",
       "C(Q(\"Customer Segment\"))                            0.431661  7.303302e-01  \n",
       "C(Q(\"Product Category\"))                           59.188356  2.989119e-26  \n",
       "C(Q(\"Customer Segment\")):C(Q(\"Product Category\"))   0.827904  5.480349e-01  \n",
       "Residual                                                 NaN           NaN  "
      ]
     },
     "metadata": {},
     "output_type": "display_data"
    },
    {
     "data": {
      "text/html": [
       "<div>\n",
       "<style scoped>\n",
       "    .dataframe tbody tr th:only-of-type {\n",
       "        vertical-align: middle;\n",
       "    }\n",
       "\n",
       "    .dataframe tbody tr th {\n",
       "        vertical-align: top;\n",
       "    }\n",
       "\n",
       "    .dataframe thead th {\n",
       "        text-align: right;\n",
       "    }\n",
       "</style>\n",
       "<table border=\"1\" class=\"dataframe\">\n",
       "  <thead>\n",
       "    <tr style=\"text-align: right;\">\n",
       "      <th></th>\n",
       "      <th>sum_sq</th>\n",
       "      <th>df</th>\n",
       "      <th>F</th>\n",
       "      <th>PR(&gt;F)</th>\n",
       "    </tr>\n",
       "  </thead>\n",
       "  <tbody>\n",
       "    <tr>\n",
       "      <th>C(Q(\"Customer Segment\"))</th>\n",
       "      <td>1.776469e+06</td>\n",
       "      <td>3.0</td>\n",
       "      <td>0.413706</td>\n",
       "      <td>0.743165</td>\n",
       "    </tr>\n",
       "    <tr>\n",
       "      <th>C(Q(\"Region\"))</th>\n",
       "      <td>8.712758e+06</td>\n",
       "      <td>7.0</td>\n",
       "      <td>0.869586</td>\n",
       "      <td>0.529663</td>\n",
       "    </tr>\n",
       "    <tr>\n",
       "      <th>C(Q(\"Customer Segment\")):C(Q(\"Region\"))</th>\n",
       "      <td>4.264989e+07</td>\n",
       "      <td>21.0</td>\n",
       "      <td>1.418906</td>\n",
       "      <td>0.096546</td>\n",
       "    </tr>\n",
       "    <tr>\n",
       "      <th>Residual</th>\n",
       "      <td>1.190881e+10</td>\n",
       "      <td>8320.0</td>\n",
       "      <td>NaN</td>\n",
       "      <td>NaN</td>\n",
       "    </tr>\n",
       "  </tbody>\n",
       "</table>\n",
       "</div>"
      ],
      "text/plain": [
       "                                               sum_sq      df         F  \\\n",
       "C(Q(\"Customer Segment\"))                 1.776469e+06     3.0  0.413706   \n",
       "C(Q(\"Region\"))                           8.712758e+06     7.0  0.869586   \n",
       "C(Q(\"Customer Segment\")):C(Q(\"Region\"))  4.264989e+07    21.0  1.418906   \n",
       "Residual                                 1.190881e+10  8320.0       NaN   \n",
       "\n",
       "                                           PR(>F)  \n",
       "C(Q(\"Customer Segment\"))                 0.743165  \n",
       "C(Q(\"Region\"))                           0.529663  \n",
       "C(Q(\"Customer Segment\")):C(Q(\"Region\"))  0.096546  \n",
       "Residual                                      NaN  "
      ]
     },
     "metadata": {},
     "output_type": "display_data"
    },
    {
     "data": {
      "text/html": [
       "<div>\n",
       "<style scoped>\n",
       "    .dataframe tbody tr th:only-of-type {\n",
       "        vertical-align: middle;\n",
       "    }\n",
       "\n",
       "    .dataframe tbody tr th {\n",
       "        vertical-align: top;\n",
       "    }\n",
       "\n",
       "    .dataframe thead th {\n",
       "        text-align: right;\n",
       "    }\n",
       "</style>\n",
       "<table border=\"1\" class=\"dataframe\">\n",
       "  <thead>\n",
       "    <tr style=\"text-align: right;\">\n",
       "      <th></th>\n",
       "      <th>sum_sq</th>\n",
       "      <th>df</th>\n",
       "      <th>F</th>\n",
       "      <th>PR(&gt;F)</th>\n",
       "    </tr>\n",
       "  </thead>\n",
       "  <tbody>\n",
       "    <tr>\n",
       "      <th>C(Q(\"Customer Segment\"))</th>\n",
       "      <td>1.926706e+06</td>\n",
       "      <td>3.0</td>\n",
       "      <td>0.455049</td>\n",
       "      <td>7.137311e-01</td>\n",
       "    </tr>\n",
       "    <tr>\n",
       "      <th>C(Q(\"Product Container\"))</th>\n",
       "      <td>1.878690e+08</td>\n",
       "      <td>6.0</td>\n",
       "      <td>22.185448</td>\n",
       "      <td>4.661823e-26</td>\n",
       "    </tr>\n",
       "    <tr>\n",
       "      <th>C(Q(\"Customer Segment\")):C(Q(\"Product Container\"))</th>\n",
       "      <td>2.419964e+07</td>\n",
       "      <td>18.0</td>\n",
       "      <td>0.952579</td>\n",
       "      <td>5.131419e-01</td>\n",
       "    </tr>\n",
       "    <tr>\n",
       "      <th>Residual</th>\n",
       "      <td>1.174810e+10</td>\n",
       "      <td>8324.0</td>\n",
       "      <td>NaN</td>\n",
       "      <td>NaN</td>\n",
       "    </tr>\n",
       "  </tbody>\n",
       "</table>\n",
       "</div>"
      ],
      "text/plain": [
       "                                                          sum_sq      df  \\\n",
       "C(Q(\"Customer Segment\"))                            1.926706e+06     3.0   \n",
       "C(Q(\"Product Container\"))                           1.878690e+08     6.0   \n",
       "C(Q(\"Customer Segment\")):C(Q(\"Product Container\"))  2.419964e+07    18.0   \n",
       "Residual                                            1.174810e+10  8324.0   \n",
       "\n",
       "                                                            F        PR(>F)  \n",
       "C(Q(\"Customer Segment\"))                             0.455049  7.137311e-01  \n",
       "C(Q(\"Product Container\"))                           22.185448  4.661823e-26  \n",
       "C(Q(\"Customer Segment\")):C(Q(\"Product Container\"))   0.952579  5.131419e-01  \n",
       "Residual                                                  NaN           NaN  "
      ]
     },
     "metadata": {},
     "output_type": "display_data"
    },
    {
     "data": {
      "text/html": [
       "<div>\n",
       "<style scoped>\n",
       "    .dataframe tbody tr th:only-of-type {\n",
       "        vertical-align: middle;\n",
       "    }\n",
       "\n",
       "    .dataframe tbody tr th {\n",
       "        vertical-align: top;\n",
       "    }\n",
       "\n",
       "    .dataframe thead th {\n",
       "        text-align: right;\n",
       "    }\n",
       "</style>\n",
       "<table border=\"1\" class=\"dataframe\">\n",
       "  <thead>\n",
       "    <tr style=\"text-align: right;\">\n",
       "      <th></th>\n",
       "      <th>sum_sq</th>\n",
       "      <th>df</th>\n",
       "      <th>F</th>\n",
       "      <th>PR(&gt;F)</th>\n",
       "    </tr>\n",
       "  </thead>\n",
       "  <tbody>\n",
       "    <tr>\n",
       "      <th>C(Q(\"Customer Segment\"))</th>\n",
       "      <td>1.192676e+06</td>\n",
       "      <td>3.0</td>\n",
       "      <td>0.295670</td>\n",
       "      <td>8.285601e-01</td>\n",
       "    </tr>\n",
       "    <tr>\n",
       "      <th>C(Q(\"Product Sub-Category\"))</th>\n",
       "      <td>6.741744e+08</td>\n",
       "      <td>16.0</td>\n",
       "      <td>31.337048</td>\n",
       "      <td>1.658724e-93</td>\n",
       "    </tr>\n",
       "    <tr>\n",
       "      <th>C(Q(\"Customer Segment\")):C(Q(\"Product Sub-Category\"))</th>\n",
       "      <td>1.473020e+08</td>\n",
       "      <td>48.0</td>\n",
       "      <td>2.282303</td>\n",
       "      <td>1.167923e-06</td>\n",
       "    </tr>\n",
       "    <tr>\n",
       "      <th>Residual</th>\n",
       "      <td>1.113869e+10</td>\n",
       "      <td>8284.0</td>\n",
       "      <td>NaN</td>\n",
       "      <td>NaN</td>\n",
       "    </tr>\n",
       "  </tbody>\n",
       "</table>\n",
       "</div>"
      ],
      "text/plain": [
       "                                                          sum_sq      df  \\\n",
       "C(Q(\"Customer Segment\"))                            1.192676e+06     3.0   \n",
       "C(Q(\"Product Sub-Category\"))                        6.741744e+08    16.0   \n",
       "C(Q(\"Customer Segment\")):C(Q(\"Product Sub-Categ...  1.473020e+08    48.0   \n",
       "Residual                                            1.113869e+10  8284.0   \n",
       "\n",
       "                                                            F        PR(>F)  \n",
       "C(Q(\"Customer Segment\"))                             0.295670  8.285601e-01  \n",
       "C(Q(\"Product Sub-Category\"))                        31.337048  1.658724e-93  \n",
       "C(Q(\"Customer Segment\")):C(Q(\"Product Sub-Categ...   2.282303  1.167923e-06  \n",
       "Residual                                                  NaN           NaN  "
      ]
     },
     "metadata": {},
     "output_type": "display_data"
    },
    {
     "data": {
      "text/html": [
       "<div>\n",
       "<style scoped>\n",
       "    .dataframe tbody tr th:only-of-type {\n",
       "        vertical-align: middle;\n",
       "    }\n",
       "\n",
       "    .dataframe tbody tr th {\n",
       "        vertical-align: top;\n",
       "    }\n",
       "\n",
       "    .dataframe thead th {\n",
       "        text-align: right;\n",
       "    }\n",
       "</style>\n",
       "<table border=\"1\" class=\"dataframe\">\n",
       "  <thead>\n",
       "    <tr style=\"text-align: right;\">\n",
       "      <th></th>\n",
       "      <th>sum_sq</th>\n",
       "      <th>df</th>\n",
       "      <th>F</th>\n",
       "      <th>PR(&gt;F)</th>\n",
       "    </tr>\n",
       "  </thead>\n",
       "  <tbody>\n",
       "    <tr>\n",
       "      <th>C(Q(\"Order Priority\"))</th>\n",
       "      <td>1.743980e+07</td>\n",
       "      <td>4.0</td>\n",
       "      <td>3.092821</td>\n",
       "      <td>1.484267e-02</td>\n",
       "    </tr>\n",
       "    <tr>\n",
       "      <th>C(Q(\"Product Category\"))</th>\n",
       "      <td>1.661350e+08</td>\n",
       "      <td>2.0</td>\n",
       "      <td>58.925654</td>\n",
       "      <td>3.873501e-26</td>\n",
       "    </tr>\n",
       "    <tr>\n",
       "      <th>C(Q(\"Order Priority\")):C(Q(\"Product Category\"))</th>\n",
       "      <td>2.460617e+07</td>\n",
       "      <td>8.0</td>\n",
       "      <td>2.181863</td>\n",
       "      <td>2.581352e-02</td>\n",
       "    </tr>\n",
       "    <tr>\n",
       "      <th>Residual</th>\n",
       "      <td>1.175267e+10</td>\n",
       "      <td>8337.0</td>\n",
       "      <td>NaN</td>\n",
       "      <td>NaN</td>\n",
       "    </tr>\n",
       "  </tbody>\n",
       "</table>\n",
       "</div>"
      ],
      "text/plain": [
       "                                                       sum_sq      df  \\\n",
       "C(Q(\"Order Priority\"))                           1.743980e+07     4.0   \n",
       "C(Q(\"Product Category\"))                         1.661350e+08     2.0   \n",
       "C(Q(\"Order Priority\")):C(Q(\"Product Category\"))  2.460617e+07     8.0   \n",
       "Residual                                         1.175267e+10  8337.0   \n",
       "\n",
       "                                                         F        PR(>F)  \n",
       "C(Q(\"Order Priority\"))                            3.092821  1.484267e-02  \n",
       "C(Q(\"Product Category\"))                         58.925654  3.873501e-26  \n",
       "C(Q(\"Order Priority\")):C(Q(\"Product Category\"))   2.181863  2.581352e-02  \n",
       "Residual                                               NaN           NaN  "
      ]
     },
     "metadata": {},
     "output_type": "display_data"
    },
    {
     "data": {
      "text/html": [
       "<div>\n",
       "<style scoped>\n",
       "    .dataframe tbody tr th:only-of-type {\n",
       "        vertical-align: middle;\n",
       "    }\n",
       "\n",
       "    .dataframe tbody tr th {\n",
       "        vertical-align: top;\n",
       "    }\n",
       "\n",
       "    .dataframe thead th {\n",
       "        text-align: right;\n",
       "    }\n",
       "</style>\n",
       "<table border=\"1\" class=\"dataframe\">\n",
       "  <thead>\n",
       "    <tr style=\"text-align: right;\">\n",
       "      <th></th>\n",
       "      <th>sum_sq</th>\n",
       "      <th>df</th>\n",
       "      <th>F</th>\n",
       "      <th>PR(&gt;F)</th>\n",
       "    </tr>\n",
       "  </thead>\n",
       "  <tbody>\n",
       "    <tr>\n",
       "      <th>C(Q(\"Order Priority\"))</th>\n",
       "      <td>1.893202e+07</td>\n",
       "      <td>4.0</td>\n",
       "      <td>3.309182</td>\n",
       "      <td>0.010215</td>\n",
       "    </tr>\n",
       "    <tr>\n",
       "      <th>C(Q(\"Region\"))</th>\n",
       "      <td>9.106733e+06</td>\n",
       "      <td>7.0</td>\n",
       "      <td>0.909595</td>\n",
       "      <td>0.497649</td>\n",
       "    </tr>\n",
       "    <tr>\n",
       "      <th>C(Q(\"Order Priority\")):C(Q(\"Region\"))</th>\n",
       "      <td>4.594217e+07</td>\n",
       "      <td>28.0</td>\n",
       "      <td>1.147195</td>\n",
       "      <td>0.270072</td>\n",
       "    </tr>\n",
       "    <tr>\n",
       "      <th>Residual</th>\n",
       "      <td>1.188836e+10</td>\n",
       "      <td>8312.0</td>\n",
       "      <td>NaN</td>\n",
       "      <td>NaN</td>\n",
       "    </tr>\n",
       "  </tbody>\n",
       "</table>\n",
       "</div>"
      ],
      "text/plain": [
       "                                             sum_sq      df         F  \\\n",
       "C(Q(\"Order Priority\"))                 1.893202e+07     4.0  3.309182   \n",
       "C(Q(\"Region\"))                         9.106733e+06     7.0  0.909595   \n",
       "C(Q(\"Order Priority\")):C(Q(\"Region\"))  4.594217e+07    28.0  1.147195   \n",
       "Residual                               1.188836e+10  8312.0       NaN   \n",
       "\n",
       "                                         PR(>F)  \n",
       "C(Q(\"Order Priority\"))                 0.010215  \n",
       "C(Q(\"Region\"))                         0.497649  \n",
       "C(Q(\"Order Priority\")):C(Q(\"Region\"))  0.270072  \n",
       "Residual                                    NaN  "
      ]
     },
     "metadata": {},
     "output_type": "display_data"
    },
    {
     "data": {
      "text/html": [
       "<div>\n",
       "<style scoped>\n",
       "    .dataframe tbody tr th:only-of-type {\n",
       "        vertical-align: middle;\n",
       "    }\n",
       "\n",
       "    .dataframe tbody tr th {\n",
       "        vertical-align: top;\n",
       "    }\n",
       "\n",
       "    .dataframe thead th {\n",
       "        text-align: right;\n",
       "    }\n",
       "</style>\n",
       "<table border=\"1\" class=\"dataframe\">\n",
       "  <thead>\n",
       "    <tr style=\"text-align: right;\">\n",
       "      <th></th>\n",
       "      <th>sum_sq</th>\n",
       "      <th>df</th>\n",
       "      <th>F</th>\n",
       "      <th>PR(&gt;F)</th>\n",
       "    </tr>\n",
       "  </thead>\n",
       "  <tbody>\n",
       "    <tr>\n",
       "      <th>C(Q(\"Order Priority\"))</th>\n",
       "      <td>1.982352e+07</td>\n",
       "      <td>4.0</td>\n",
       "      <td>3.525819</td>\n",
       "      <td>7.003993e-03</td>\n",
       "    </tr>\n",
       "    <tr>\n",
       "      <th>C(Q(\"Product Container\"))</th>\n",
       "      <td>1.890042e+08</td>\n",
       "      <td>6.0</td>\n",
       "      <td>22.410916</td>\n",
       "      <td>2.444219e-26</td>\n",
       "    </tr>\n",
       "    <tr>\n",
       "      <th>C(Q(\"Order Priority\")):C(Q(\"Product Container\"))</th>\n",
       "      <td>6.405932e+07</td>\n",
       "      <td>24.0</td>\n",
       "      <td>1.898936</td>\n",
       "      <td>5.066875e-03</td>\n",
       "    </tr>\n",
       "    <tr>\n",
       "      <th>Residual</th>\n",
       "      <td>1.169035e+10</td>\n",
       "      <td>8317.0</td>\n",
       "      <td>NaN</td>\n",
       "      <td>NaN</td>\n",
       "    </tr>\n",
       "  </tbody>\n",
       "</table>\n",
       "</div>"
      ],
      "text/plain": [
       "                                                        sum_sq      df  \\\n",
       "C(Q(\"Order Priority\"))                            1.982352e+07     4.0   \n",
       "C(Q(\"Product Container\"))                         1.890042e+08     6.0   \n",
       "C(Q(\"Order Priority\")):C(Q(\"Product Container\"))  6.405932e+07    24.0   \n",
       "Residual                                          1.169035e+10  8317.0   \n",
       "\n",
       "                                                          F        PR(>F)  \n",
       "C(Q(\"Order Priority\"))                             3.525819  7.003993e-03  \n",
       "C(Q(\"Product Container\"))                         22.410916  2.444219e-26  \n",
       "C(Q(\"Order Priority\")):C(Q(\"Product Container\"))   1.898936  5.066875e-03  \n",
       "Residual                                                NaN           NaN  "
      ]
     },
     "metadata": {},
     "output_type": "display_data"
    },
    {
     "data": {
      "text/html": [
       "<div>\n",
       "<style scoped>\n",
       "    .dataframe tbody tr th:only-of-type {\n",
       "        vertical-align: middle;\n",
       "    }\n",
       "\n",
       "    .dataframe tbody tr th {\n",
       "        vertical-align: top;\n",
       "    }\n",
       "\n",
       "    .dataframe thead th {\n",
       "        text-align: right;\n",
       "    }\n",
       "</style>\n",
       "<table border=\"1\" class=\"dataframe\">\n",
       "  <thead>\n",
       "    <tr style=\"text-align: right;\">\n",
       "      <th></th>\n",
       "      <th>sum_sq</th>\n",
       "      <th>df</th>\n",
       "      <th>F</th>\n",
       "      <th>PR(&gt;F)</th>\n",
       "    </tr>\n",
       "  </thead>\n",
       "  <tbody>\n",
       "    <tr>\n",
       "      <th>C(Q(\"Order Priority\"))</th>\n",
       "      <td>1.828020e+07</td>\n",
       "      <td>4.0</td>\n",
       "      <td>3.407067</td>\n",
       "      <td>8.616933e-03</td>\n",
       "    </tr>\n",
       "    <tr>\n",
       "      <th>C(Q(\"Product Sub-Category\"))</th>\n",
       "      <td>6.745003e+08</td>\n",
       "      <td>16.0</td>\n",
       "      <td>31.428381</td>\n",
       "      <td>8.606738e-94</td>\n",
       "    </tr>\n",
       "    <tr>\n",
       "      <th>C(Q(\"Order Priority\")):C(Q(\"Product Sub-Category\"))</th>\n",
       "      <td>1.800175e+08</td>\n",
       "      <td>64.0</td>\n",
       "      <td>2.096982</td>\n",
       "      <td>7.949497e-07</td>\n",
       "    </tr>\n",
       "    <tr>\n",
       "      <th>Residual</th>\n",
       "      <td>1.108889e+10</td>\n",
       "      <td>8267.0</td>\n",
       "      <td>NaN</td>\n",
       "      <td>NaN</td>\n",
       "    </tr>\n",
       "  </tbody>\n",
       "</table>\n",
       "</div>"
      ],
      "text/plain": [
       "                                                          sum_sq      df  \\\n",
       "C(Q(\"Order Priority\"))                              1.828020e+07     4.0   \n",
       "C(Q(\"Product Sub-Category\"))                        6.745003e+08    16.0   \n",
       "C(Q(\"Order Priority\")):C(Q(\"Product Sub-Categor...  1.800175e+08    64.0   \n",
       "Residual                                            1.108889e+10  8267.0   \n",
       "\n",
       "                                                            F        PR(>F)  \n",
       "C(Q(\"Order Priority\"))                               3.407067  8.616933e-03  \n",
       "C(Q(\"Product Sub-Category\"))                        31.428381  8.606738e-94  \n",
       "C(Q(\"Order Priority\")):C(Q(\"Product Sub-Categor...   2.096982  7.949497e-07  \n",
       "Residual                                                  NaN           NaN  "
      ]
     },
     "metadata": {},
     "output_type": "display_data"
    },
    {
     "data": {
      "text/html": [
       "<div>\n",
       "<style scoped>\n",
       "    .dataframe tbody tr th:only-of-type {\n",
       "        vertical-align: middle;\n",
       "    }\n",
       "\n",
       "    .dataframe tbody tr th {\n",
       "        vertical-align: top;\n",
       "    }\n",
       "\n",
       "    .dataframe thead th {\n",
       "        text-align: right;\n",
       "    }\n",
       "</style>\n",
       "<table border=\"1\" class=\"dataframe\">\n",
       "  <thead>\n",
       "    <tr style=\"text-align: right;\">\n",
       "      <th></th>\n",
       "      <th>sum_sq</th>\n",
       "      <th>df</th>\n",
       "      <th>F</th>\n",
       "      <th>PR(&gt;F)</th>\n",
       "    </tr>\n",
       "  </thead>\n",
       "  <tbody>\n",
       "    <tr>\n",
       "      <th>C(Q(\"Product Category\"))</th>\n",
       "      <td>1.676795e+08</td>\n",
       "      <td>2.0</td>\n",
       "      <td>59.355484</td>\n",
       "      <td>2.536512e-26</td>\n",
       "    </tr>\n",
       "    <tr>\n",
       "      <th>C(Q(\"Region\"))</th>\n",
       "      <td>9.159035e+06</td>\n",
       "      <td>7.0</td>\n",
       "      <td>0.926323</td>\n",
       "      <td>4.845372e-01</td>\n",
       "    </tr>\n",
       "    <tr>\n",
       "      <th>C(Q(\"Product Category\")):C(Q(\"Region\"))</th>\n",
       "      <td>2.223672e+07</td>\n",
       "      <td>14.0</td>\n",
       "      <td>1.124485</td>\n",
       "      <td>3.295557e-01</td>\n",
       "    </tr>\n",
       "    <tr>\n",
       "      <th>Residual</th>\n",
       "      <td>1.176332e+10</td>\n",
       "      <td>8328.0</td>\n",
       "      <td>NaN</td>\n",
       "      <td>NaN</td>\n",
       "    </tr>\n",
       "  </tbody>\n",
       "</table>\n",
       "</div>"
      ],
      "text/plain": [
       "                                               sum_sq      df          F  \\\n",
       "C(Q(\"Product Category\"))                 1.676795e+08     2.0  59.355484   \n",
       "C(Q(\"Region\"))                           9.159035e+06     7.0   0.926323   \n",
       "C(Q(\"Product Category\")):C(Q(\"Region\"))  2.223672e+07    14.0   1.124485   \n",
       "Residual                                 1.176332e+10  8328.0        NaN   \n",
       "\n",
       "                                               PR(>F)  \n",
       "C(Q(\"Product Category\"))                 2.536512e-26  \n",
       "C(Q(\"Region\"))                           4.845372e-01  \n",
       "C(Q(\"Product Category\")):C(Q(\"Region\"))  3.295557e-01  \n",
       "Residual                                          NaN  "
      ]
     },
     "metadata": {},
     "output_type": "display_data"
    },
    {
     "data": {
      "text/html": [
       "<div>\n",
       "<style scoped>\n",
       "    .dataframe tbody tr th:only-of-type {\n",
       "        vertical-align: middle;\n",
       "    }\n",
       "\n",
       "    .dataframe tbody tr th {\n",
       "        vertical-align: top;\n",
       "    }\n",
       "\n",
       "    .dataframe thead th {\n",
       "        text-align: right;\n",
       "    }\n",
       "</style>\n",
       "<table border=\"1\" class=\"dataframe\">\n",
       "  <thead>\n",
       "    <tr style=\"text-align: right;\">\n",
       "      <th></th>\n",
       "      <th>sum_sq</th>\n",
       "      <th>df</th>\n",
       "      <th>F</th>\n",
       "      <th>PR(&gt;F)</th>\n",
       "    </tr>\n",
       "  </thead>\n",
       "  <tbody>\n",
       "    <tr>\n",
       "      <th>C(Q(\"Product Category\"))</th>\n",
       "      <td>1.461104e+08</td>\n",
       "      <td>2.0</td>\n",
       "      <td>53.898003</td>\n",
       "      <td>5.527394e-24</td>\n",
       "    </tr>\n",
       "    <tr>\n",
       "      <th>C(Q(\"Product Container\"))</th>\n",
       "      <td>1.689445e+08</td>\n",
       "      <td>6.0</td>\n",
       "      <td>20.773724</td>\n",
       "      <td>2.656409e-24</td>\n",
       "    </tr>\n",
       "    <tr>\n",
       "      <th>C(Q(\"Product Category\")):C(Q(\"Product Container\"))</th>\n",
       "      <td>3.348478e+08</td>\n",
       "      <td>12.0</td>\n",
       "      <td>20.586742</td>\n",
       "      <td>2.958393e-45</td>\n",
       "    </tr>\n",
       "    <tr>\n",
       "      <th>Residual</th>\n",
       "      <td>1.129348e+10</td>\n",
       "      <td>8332.0</td>\n",
       "      <td>NaN</td>\n",
       "      <td>NaN</td>\n",
       "    </tr>\n",
       "  </tbody>\n",
       "</table>\n",
       "</div>"
      ],
      "text/plain": [
       "                                                          sum_sq      df  \\\n",
       "C(Q(\"Product Category\"))                            1.461104e+08     2.0   \n",
       "C(Q(\"Product Container\"))                           1.689445e+08     6.0   \n",
       "C(Q(\"Product Category\")):C(Q(\"Product Container\"))  3.348478e+08    12.0   \n",
       "Residual                                            1.129348e+10  8332.0   \n",
       "\n",
       "                                                            F        PR(>F)  \n",
       "C(Q(\"Product Category\"))                            53.898003  5.527394e-24  \n",
       "C(Q(\"Product Container\"))                           20.773724  2.656409e-24  \n",
       "C(Q(\"Product Category\")):C(Q(\"Product Container\"))  20.586742  2.958393e-45  \n",
       "Residual                                                  NaN           NaN  "
      ]
     },
     "metadata": {},
     "output_type": "display_data"
    },
    {
     "name": "stderr",
     "output_type": "stream",
     "text": [
      "//anaconda3/lib/python3.7/site-packages/statsmodels/base/model.py:1752: ValueWarning: covariance of constraints does not have full rank. The number of constraints is 2, but rank is 0\n",
      "  'rank is %d' % (J, J_), ValueWarning)\n",
      "//anaconda3/lib/python3.7/site-packages/statsmodels/base/model.py:1752: ValueWarning: covariance of constraints does not have full rank. The number of constraints is 16, but rank is 3\n",
      "  'rank is %d' % (J, J_), ValueWarning)\n",
      "//anaconda3/lib/python3.7/site-packages/statsmodels/base/model.py:1752: ValueWarning: covariance of constraints does not have full rank. The number of constraints is 32, but rank is 12\n",
      "  'rank is %d' % (J, J_), ValueWarning)\n"
     ]
    },
    {
     "data": {
      "text/html": [
       "<div>\n",
       "<style scoped>\n",
       "    .dataframe tbody tr th:only-of-type {\n",
       "        vertical-align: middle;\n",
       "    }\n",
       "\n",
       "    .dataframe tbody tr th {\n",
       "        vertical-align: top;\n",
       "    }\n",
       "\n",
       "    .dataframe thead th {\n",
       "        text-align: right;\n",
       "    }\n",
       "</style>\n",
       "<table border=\"1\" class=\"dataframe\">\n",
       "  <thead>\n",
       "    <tr style=\"text-align: right;\">\n",
       "      <th></th>\n",
       "      <th>sum_sq</th>\n",
       "      <th>df</th>\n",
       "      <th>F</th>\n",
       "      <th>PR(&gt;F)</th>\n",
       "    </tr>\n",
       "  </thead>\n",
       "  <tbody>\n",
       "    <tr>\n",
       "      <th>C(Q(\"Product Category\"))</th>\n",
       "      <td>NaN</td>\n",
       "      <td>2.0</td>\n",
       "      <td>NaN</td>\n",
       "      <td>NaN</td>\n",
       "    </tr>\n",
       "    <tr>\n",
       "      <th>C(Q(\"Product Sub-Category\"))</th>\n",
       "      <td>6.053968e+08</td>\n",
       "      <td>16.0</td>\n",
       "      <td>27.940874</td>\n",
       "      <td>5.696951e-18</td>\n",
       "    </tr>\n",
       "    <tr>\n",
       "      <th>C(Q(\"Product Category\")):C(Q(\"Product Sub-Category\"))</th>\n",
       "      <td>1.604126e+09</td>\n",
       "      <td>32.0</td>\n",
       "      <td>37.017613</td>\n",
       "      <td>3.763221e-85</td>\n",
       "    </tr>\n",
       "    <tr>\n",
       "      <th>Residual</th>\n",
       "      <td>1.128719e+10</td>\n",
       "      <td>8335.0</td>\n",
       "      <td>NaN</td>\n",
       "      <td>NaN</td>\n",
       "    </tr>\n",
       "  </tbody>\n",
       "</table>\n",
       "</div>"
      ],
      "text/plain": [
       "                                                          sum_sq      df  \\\n",
       "C(Q(\"Product Category\"))                                     NaN     2.0   \n",
       "C(Q(\"Product Sub-Category\"))                        6.053968e+08    16.0   \n",
       "C(Q(\"Product Category\")):C(Q(\"Product Sub-Categ...  1.604126e+09    32.0   \n",
       "Residual                                            1.128719e+10  8335.0   \n",
       "\n",
       "                                                            F        PR(>F)  \n",
       "C(Q(\"Product Category\"))                                  NaN           NaN  \n",
       "C(Q(\"Product Sub-Category\"))                        27.940874  5.696951e-18  \n",
       "C(Q(\"Product Category\")):C(Q(\"Product Sub-Categ...  37.017613  3.763221e-85  \n",
       "Residual                                                  NaN           NaN  "
      ]
     },
     "metadata": {},
     "output_type": "display_data"
    },
    {
     "data": {
      "text/html": [
       "<div>\n",
       "<style scoped>\n",
       "    .dataframe tbody tr th:only-of-type {\n",
       "        vertical-align: middle;\n",
       "    }\n",
       "\n",
       "    .dataframe tbody tr th {\n",
       "        vertical-align: top;\n",
       "    }\n",
       "\n",
       "    .dataframe thead th {\n",
       "        text-align: right;\n",
       "    }\n",
       "</style>\n",
       "<table border=\"1\" class=\"dataframe\">\n",
       "  <thead>\n",
       "    <tr style=\"text-align: right;\">\n",
       "      <th></th>\n",
       "      <th>sum_sq</th>\n",
       "      <th>df</th>\n",
       "      <th>F</th>\n",
       "      <th>PR(&gt;F)</th>\n",
       "    </tr>\n",
       "  </thead>\n",
       "  <tbody>\n",
       "    <tr>\n",
       "      <th>C(Q(\"Region\"))</th>\n",
       "      <td>7.987837e+06</td>\n",
       "      <td>7.0</td>\n",
       "      <td>0.810177</td>\n",
       "      <td>5.786447e-01</td>\n",
       "    </tr>\n",
       "    <tr>\n",
       "      <th>C(Q(\"Product Container\"))</th>\n",
       "      <td>1.869938e+08</td>\n",
       "      <td>6.0</td>\n",
       "      <td>22.127124</td>\n",
       "      <td>5.518863e-26</td>\n",
       "    </tr>\n",
       "    <tr>\n",
       "      <th>C(Q(\"Region\")):C(Q(\"Product Container\"))</th>\n",
       "      <td>8.148040e+07</td>\n",
       "      <td>42.0</td>\n",
       "      <td>1.377377</td>\n",
       "      <td>5.313169e-02</td>\n",
       "    </tr>\n",
       "    <tr>\n",
       "      <th>Residual</th>\n",
       "      <td>1.168476e+10</td>\n",
       "      <td>8296.0</td>\n",
       "      <td>NaN</td>\n",
       "      <td>NaN</td>\n",
       "    </tr>\n",
       "  </tbody>\n",
       "</table>\n",
       "</div>"
      ],
      "text/plain": [
       "                                                sum_sq      df          F  \\\n",
       "C(Q(\"Region\"))                            7.987837e+06     7.0   0.810177   \n",
       "C(Q(\"Product Container\"))                 1.869938e+08     6.0  22.127124   \n",
       "C(Q(\"Region\")):C(Q(\"Product Container\"))  8.148040e+07    42.0   1.377377   \n",
       "Residual                                  1.168476e+10  8296.0        NaN   \n",
       "\n",
       "                                                PR(>F)  \n",
       "C(Q(\"Region\"))                            5.786447e-01  \n",
       "C(Q(\"Product Container\"))                 5.518863e-26  \n",
       "C(Q(\"Region\")):C(Q(\"Product Container\"))  5.313169e-02  \n",
       "Residual                                           NaN  "
      ]
     },
     "metadata": {},
     "output_type": "display_data"
    },
    {
     "name": "stderr",
     "output_type": "stream",
     "text": [
      "//anaconda3/lib/python3.7/site-packages/statsmodels/base/model.py:1752: ValueWarning: covariance of constraints does not have full rank. The number of constraints is 7, but rank is 6\n",
      "  'rank is %d' % (J, J_), ValueWarning)\n",
      "//anaconda3/lib/python3.7/site-packages/statsmodels/base/model.py:1752: ValueWarning: covariance of constraints does not have full rank. The number of constraints is 16, but rank is 15\n",
      "  'rank is %d' % (J, J_), ValueWarning)\n",
      "//anaconda3/lib/python3.7/site-packages/statsmodels/base/model.py:1752: ValueWarning: covariance of constraints does not have full rank. The number of constraints is 112, but rank is 111\n",
      "  'rank is %d' % (J, J_), ValueWarning)\n"
     ]
    },
    {
     "data": {
      "text/html": [
       "<div>\n",
       "<style scoped>\n",
       "    .dataframe tbody tr th:only-of-type {\n",
       "        vertical-align: middle;\n",
       "    }\n",
       "\n",
       "    .dataframe tbody tr th {\n",
       "        vertical-align: top;\n",
       "    }\n",
       "\n",
       "    .dataframe thead th {\n",
       "        text-align: right;\n",
       "    }\n",
       "</style>\n",
       "<table border=\"1\" class=\"dataframe\">\n",
       "  <thead>\n",
       "    <tr style=\"text-align: right;\">\n",
       "      <th></th>\n",
       "      <th>sum_sq</th>\n",
       "      <th>df</th>\n",
       "      <th>F</th>\n",
       "      <th>PR(&gt;F)</th>\n",
       "    </tr>\n",
       "  </thead>\n",
       "  <tbody>\n",
       "    <tr>\n",
       "      <th>C(Q(\"Region\"))</th>\n",
       "      <td>1.030863e+07</td>\n",
       "      <td>7.0</td>\n",
       "      <td>1.114406</td>\n",
       "      <td>3.509286e-01</td>\n",
       "    </tr>\n",
       "    <tr>\n",
       "      <th>C(Q(\"Product Sub-Category\"))</th>\n",
       "      <td>7.182075e+08</td>\n",
       "      <td>16.0</td>\n",
       "      <td>33.968039</td>\n",
       "      <td>7.335858e-96</td>\n",
       "    </tr>\n",
       "    <tr>\n",
       "      <th>C(Q(\"Region\")):C(Q(\"Product Sub-Category\"))</th>\n",
       "      <td>4.234392e+08</td>\n",
       "      <td>112.0</td>\n",
       "      <td>2.860971</td>\n",
       "      <td>3.116647e-21</td>\n",
       "    </tr>\n",
       "    <tr>\n",
       "      <th>Residual</th>\n",
       "      <td>1.085857e+10</td>\n",
       "      <td>8217.0</td>\n",
       "      <td>NaN</td>\n",
       "      <td>NaN</td>\n",
       "    </tr>\n",
       "  </tbody>\n",
       "</table>\n",
       "</div>"
      ],
      "text/plain": [
       "                                                   sum_sq      df          F  \\\n",
       "C(Q(\"Region\"))                               1.030863e+07     7.0   1.114406   \n",
       "C(Q(\"Product Sub-Category\"))                 7.182075e+08    16.0  33.968039   \n",
       "C(Q(\"Region\")):C(Q(\"Product Sub-Category\"))  4.234392e+08   112.0   2.860971   \n",
       "Residual                                     1.085857e+10  8217.0        NaN   \n",
       "\n",
       "                                                   PR(>F)  \n",
       "C(Q(\"Region\"))                               3.509286e-01  \n",
       "C(Q(\"Product Sub-Category\"))                 7.335858e-96  \n",
       "C(Q(\"Region\")):C(Q(\"Product Sub-Category\"))  3.116647e-21  \n",
       "Residual                                              NaN  "
      ]
     },
     "metadata": {},
     "output_type": "display_data"
    },
    {
     "name": "stderr",
     "output_type": "stream",
     "text": [
      "//anaconda3/lib/python3.7/site-packages/statsmodels/base/model.py:1752: ValueWarning: covariance of constraints does not have full rank. The number of constraints is 6, but rank is 4\n",
      "  'rank is %d' % (J, J_), ValueWarning)\n",
      "//anaconda3/lib/python3.7/site-packages/statsmodels/base/model.py:1752: ValueWarning: covariance of constraints does not have full rank. The number of constraints is 16, but rank is 5\n",
      "  'rank is %d' % (J, J_), ValueWarning)\n",
      "//anaconda3/lib/python3.7/site-packages/statsmodels/base/model.py:1752: ValueWarning: covariance of constraints does not have full rank. The number of constraints is 96, but rank is 40\n",
      "  'rank is %d' % (J, J_), ValueWarning)\n"
     ]
    },
    {
     "data": {
      "text/html": [
       "<div>\n",
       "<style scoped>\n",
       "    .dataframe tbody tr th:only-of-type {\n",
       "        vertical-align: middle;\n",
       "    }\n",
       "\n",
       "    .dataframe tbody tr th {\n",
       "        vertical-align: top;\n",
       "    }\n",
       "\n",
       "    .dataframe thead th {\n",
       "        text-align: right;\n",
       "    }\n",
       "</style>\n",
       "<table border=\"1\" class=\"dataframe\">\n",
       "  <thead>\n",
       "    <tr style=\"text-align: right;\">\n",
       "      <th></th>\n",
       "      <th>sum_sq</th>\n",
       "      <th>df</th>\n",
       "      <th>F</th>\n",
       "      <th>PR(&gt;F)</th>\n",
       "    </tr>\n",
       "  </thead>\n",
       "  <tbody>\n",
       "    <tr>\n",
       "      <th>C(Q(\"Product Container\"))</th>\n",
       "      <td>7.114799e+07</td>\n",
       "      <td>6.0</td>\n",
       "      <td>8.894527</td>\n",
       "      <td>3.655631e-07</td>\n",
       "    </tr>\n",
       "    <tr>\n",
       "      <th>C(Q(\"Product Sub-Category\"))</th>\n",
       "      <td>1.003435e+09</td>\n",
       "      <td>16.0</td>\n",
       "      <td>47.041450</td>\n",
       "      <td>4.026007e-48</td>\n",
       "    </tr>\n",
       "    <tr>\n",
       "      <th>C(Q(\"Product Container\")):C(Q(\"Product Sub-Category\"))</th>\n",
       "      <td>1.320231e+09</td>\n",
       "      <td>96.0</td>\n",
       "      <td>10.315497</td>\n",
       "      <td>1.281997e-61</td>\n",
       "    </tr>\n",
       "    <tr>\n",
       "      <th>Residual</th>\n",
       "      <td>1.107072e+10</td>\n",
       "      <td>8304.0</td>\n",
       "      <td>NaN</td>\n",
       "      <td>NaN</td>\n",
       "    </tr>\n",
       "  </tbody>\n",
       "</table>\n",
       "</div>"
      ],
      "text/plain": [
       "                                                          sum_sq      df  \\\n",
       "C(Q(\"Product Container\"))                           7.114799e+07     6.0   \n",
       "C(Q(\"Product Sub-Category\"))                        1.003435e+09    16.0   \n",
       "C(Q(\"Product Container\")):C(Q(\"Product Sub-Cate...  1.320231e+09    96.0   \n",
       "Residual                                            1.107072e+10  8304.0   \n",
       "\n",
       "                                                            F        PR(>F)  \n",
       "C(Q(\"Product Container\"))                            8.894527  3.655631e-07  \n",
       "C(Q(\"Product Sub-Category\"))                        47.041450  4.026007e-48  \n",
       "C(Q(\"Product Container\")):C(Q(\"Product Sub-Cate...  10.315497  1.281997e-61  \n",
       "Residual                                                  NaN           NaN  "
      ]
     },
     "metadata": {},
     "output_type": "display_data"
    }
   ],
   "source": [
    "# Lets perform 2-way anova with Profit and tuples we populated in above list\n",
    "for i in lst:\n",
    "    model = ols('Profit ~ C(Q(\"%s\")) + C(Q(\"%s\")) + C(Q(\"%s\")):C(Q(\"%s\"))' % (i[0],i[1],i[0],i[1]), data=salesdf).fit()\n",
    "    anova_table = sm.stats.anova_lm(model, typ=2)\n",
    "    display(anova_table)"
   ]
  },
  {
   "cell_type": "markdown",
   "metadata": {},
   "source": [
    "# Plotting histograms of numerical columns"
   ]
  },
  {
   "cell_type": "code",
   "execution_count": 332,
   "metadata": {},
   "outputs": [
    {
     "data": {
      "text/plain": [
       "array([[<matplotlib.axes._subplots.AxesSubplot object at 0x1c5bb14be0>,\n",
       "        <matplotlib.axes._subplots.AxesSubplot object at 0x1c5e5759e8>],\n",
       "       [<matplotlib.axes._subplots.AxesSubplot object at 0x1c5c438f28>,\n",
       "        <matplotlib.axes._subplots.AxesSubplot object at 0x1c5e55bb00>],\n",
       "       [<matplotlib.axes._subplots.AxesSubplot object at 0x1c5c46b080>,\n",
       "        <matplotlib.axes._subplots.AxesSubplot object at 0x1c5d2505c0>]],\n",
       "      dtype=object)"
      ]
     },
     "execution_count": 332,
     "metadata": {},
     "output_type": "execute_result"
    },
    {
     "data": {
      "image/png": "[encoded data removed]",
      "text/plain": [
       "<Figure size 1080x864 with 6 Axes>"
      ]
     },
     "metadata": {
      "needs_background": "light"
     },
     "output_type": "display_data"
    }
   ],
   "source": [
    "salesdf.hist(column=['Order Quantity', 'Sales', 'Discount', 'Profit', 'Unit Price', 'Shipping Cost'],\n",
    "            bins=25, grid=False, figsize=(15,12), color='#86bf91', zorder=2, rwidth=0.9)"
   ]
  },
  {
   "cell_type": "markdown",
   "metadata": {},
   "source": [
    "- So there are right skews in `Shpping Cost, Sales, Unit Price and Profit`\n",
    "- No skews observed in `Order Quantity and Discount`\n",
    "- Right skews in above graphs are showing that most of the data appears at the left of graph(smaller values) but there are few larger values in our sample that makes mean/average greater than median(middle value).\n",
    "So the mean of Shpping Cost, Sales, Unit Price and Profit is clearly affected by outliers (i.e. few larger values) and it cannot represent data in its true essense."
   ]
  },
  {
   "cell_type": "code",
   "execution_count": 333,
   "metadata": {},
   "outputs": [
    {
     "name": "stdout",
     "output_type": "stream",
     "text": [
      "Shipping Cost => Median=6.07, Mean=12.8314511494256\n",
      "Unit Price => Median=20.99, Mean=89.25710488505442\n",
      "Sales => Median=448.29825, Mean=1772.038695462169\n",
      "Profit => Median=-1.565, Mean=180.42065352981277\n"
     ]
    }
   ],
   "source": [
    "# Lets check mean and median of all right skewed histograms\n",
    "for i in ['Shipping Cost', 'Unit Price', 'Sales', 'Profit']:\n",
    "    print(\"%s => Median=%s, Mean=%s\" % (i, str(salesdf[i].median()), str(salesdf[i].mean())))"
   ]
  },
  {
   "cell_type": "markdown",
   "metadata": {},
   "source": [
    "# Heat Map for numerical KPIs"
   ]
  },
  {
   "cell_type": "code",
   "execution_count": 334,
   "metadata": {},
   "outputs": [
    {
     "data": {
      "image/png": "[encoded data removed]",
      "text/plain": [
       "<Figure size 432x288 with 2 Axes>"
      ]
     },
     "metadata": {},
     "output_type": "display_data"
    }
   ],
   "source": [
    "import seaborn as sns\n",
    "sns.set(color_codes=True, font_scale=1.2)\n",
    "\n",
    "salesnum_df = salesdf[num_columns]\n",
    "corr = salesnum_df.corr()\n",
    "\n",
    "#corr.style.background_gradient(cmap='coolwarm')\n",
    "\n",
    "ax = sns.heatmap(\n",
    "    corr, \n",
    "    vmin=-1, vmax=1, center=0,\n",
    "    cmap=sns.diverging_palette(20, 220, n=200),\n",
    "    square=True\n",
    ")\n",
    "ax.set_xticklabels(\n",
    "    ax.get_xticklabels(),\n",
    "    rotation=45,\n",
    "    horizontalalignment='right'\n",
    ");"
   ]
  },
  {
   "cell_type": "markdown",
   "metadata": {},
   "source": [
    "From above heatmap, we can draw following conclusions\n",
    "- `Strong positive correlation` between `Sales and Profit`\n",
    "- `Strong positive correlation` between `Sales and Unit Price`\n",
    "- `Moderate positive correlation` between `Shpping Cost and Sales`\n",
    "- `Weak positive correlation` between `Order Quantity and Sales`\n",
    "- `Weak positive correlation` between `Order Quantity and Profit`\n",
    "- `Weak negative correlation` between `Unit Price and Order Quantity`\n",
    "\n",
    "These correlations represent the association between different features in our dataset and ML is all about correlations. This sets the base for Machine Learning modelling techinques. Correlation helps in predicting the value of an attribute (e.g. sales) from other attributes(e.g. Profit, Unit Price, Shipping Cost, Order Qunatity)."
   ]
  },
  {
   "cell_type": "markdown",
   "metadata": {},
   "source": [
    "# Checking which deliveries are taking more time"
   ]
  },
  {
   "cell_type": "code",
   "execution_count": 335,
   "metadata": {},
   "outputs": [
    {
     "name": "stdout",
     "output_type": "stream",
     "text": [
      "average time=2 days 00:46:53.793103\n",
      "average time for top 100 most delayed deliveries =12 days 03:07:12\n"
     ]
    },
    {
     "data": {
      "text/html": [
       "<div>\n",
       "<style scoped>\n",
       "    .dataframe tbody tr th:only-of-type {\n",
       "        vertical-align: middle;\n",
       "    }\n",
       "\n",
       "    .dataframe tbody tr th {\n",
       "        vertical-align: top;\n",
       "    }\n",
       "\n",
       "    .dataframe thead th {\n",
       "        text-align: right;\n",
       "    }\n",
       "</style>\n",
       "<table border=\"1\" class=\"dataframe\">\n",
       "  <thead>\n",
       "    <tr style=\"text-align: right;\">\n",
       "      <th></th>\n",
       "      <th>Order Date</th>\n",
       "      <th>Order Priority</th>\n",
       "      <th>Ship Mode</th>\n",
       "      <th>Region</th>\n",
       "      <th>Customer Segment</th>\n",
       "      <th>Product Category</th>\n",
       "      <th>Product Container</th>\n",
       "      <th>Ship Date</th>\n",
       "      <th>time_diff</th>\n",
       "    </tr>\n",
       "  </thead>\n",
       "  <tbody>\n",
       "    <tr>\n",
       "      <th>5343</th>\n",
       "      <td>2011-06-16</td>\n",
       "      <td>Low</td>\n",
       "      <td>Regular Air</td>\n",
       "      <td>Prarie</td>\n",
       "      <td>Corporate</td>\n",
       "      <td>Office Supplies</td>\n",
       "      <td>Small Box</td>\n",
       "      <td>2011-06-25</td>\n",
       "      <td>9 days</td>\n",
       "    </tr>\n",
       "    <tr>\n",
       "      <th>3689</th>\n",
       "      <td>2010-03-30</td>\n",
       "      <td>Low</td>\n",
       "      <td>Delivery Truck</td>\n",
       "      <td>Quebec</td>\n",
       "      <td>Small Business</td>\n",
       "      <td>Furniture</td>\n",
       "      <td>Jumbo Drum</td>\n",
       "      <td>2010-04-08</td>\n",
       "      <td>9 days</td>\n",
       "    </tr>\n",
       "    <tr>\n",
       "      <th>4134</th>\n",
       "      <td>2011-06-06</td>\n",
       "      <td>Low</td>\n",
       "      <td>Regular Air</td>\n",
       "      <td>Ontario</td>\n",
       "      <td>Corporate</td>\n",
       "      <td>Office Supplies</td>\n",
       "      <td>Small Pack</td>\n",
       "      <td>2011-06-15</td>\n",
       "      <td>9 days</td>\n",
       "    </tr>\n",
       "    <tr>\n",
       "      <th>7501</th>\n",
       "      <td>2010-02-10</td>\n",
       "      <td>Low</td>\n",
       "      <td>Regular Air</td>\n",
       "      <td>West</td>\n",
       "      <td>Home Office</td>\n",
       "      <td>Office Supplies</td>\n",
       "      <td>Small Box</td>\n",
       "      <td>2010-02-19</td>\n",
       "      <td>9 days</td>\n",
       "    </tr>\n",
       "    <tr>\n",
       "      <th>6382</th>\n",
       "      <td>2010-12-26</td>\n",
       "      <td>Low</td>\n",
       "      <td>Regular Air</td>\n",
       "      <td>Atlantic</td>\n",
       "      <td>Home Office</td>\n",
       "      <td>Technology</td>\n",
       "      <td>Small Pack</td>\n",
       "      <td>2011-01-17</td>\n",
       "      <td>22 days</td>\n",
       "    </tr>\n",
       "    <tr>\n",
       "      <th>5962</th>\n",
       "      <td>2011-12-03</td>\n",
       "      <td>Low</td>\n",
       "      <td>Regular Air</td>\n",
       "      <td>Prarie</td>\n",
       "      <td>Home Office</td>\n",
       "      <td>Office Supplies</td>\n",
       "      <td>Wrap Bag</td>\n",
       "      <td>2011-12-12</td>\n",
       "      <td>9 days</td>\n",
       "    </tr>\n",
       "    <tr>\n",
       "      <th>6894</th>\n",
       "      <td>2010-12-26</td>\n",
       "      <td>Low</td>\n",
       "      <td>Regular Air</td>\n",
       "      <td>Yukon</td>\n",
       "      <td>Home Office</td>\n",
       "      <td>Technology</td>\n",
       "      <td>Medium Box</td>\n",
       "      <td>2011-01-19</td>\n",
       "      <td>24 days</td>\n",
       "    </tr>\n",
       "    <tr>\n",
       "      <th>2254</th>\n",
       "      <td>2012-09-19</td>\n",
       "      <td>Low</td>\n",
       "      <td>Express Air</td>\n",
       "      <td>Ontario</td>\n",
       "      <td>Home Office</td>\n",
       "      <td>Office Supplies</td>\n",
       "      <td>Small Box</td>\n",
       "      <td>2012-09-28</td>\n",
       "      <td>9 days</td>\n",
       "    </tr>\n",
       "    <tr>\n",
       "      <th>3804</th>\n",
       "      <td>2011-12-17</td>\n",
       "      <td>Low</td>\n",
       "      <td>Regular Air</td>\n",
       "      <td>Quebec</td>\n",
       "      <td>Corporate</td>\n",
       "      <td>Office Supplies</td>\n",
       "      <td>Small Box</td>\n",
       "      <td>2011-12-26</td>\n",
       "      <td>9 days</td>\n",
       "    </tr>\n",
       "    <tr>\n",
       "      <th>3811</th>\n",
       "      <td>2012-05-21</td>\n",
       "      <td>Low</td>\n",
       "      <td>Regular Air</td>\n",
       "      <td>Quebec</td>\n",
       "      <td>Small Business</td>\n",
       "      <td>Technology</td>\n",
       "      <td>Small Box</td>\n",
       "      <td>2012-05-30</td>\n",
       "      <td>9 days</td>\n",
       "    </tr>\n",
       "  </tbody>\n",
       "</table>\n",
       "</div>"
      ],
      "text/plain": [
       "     Order Date Order Priority       Ship Mode    Region Customer Segment  \\\n",
       "5343 2011-06-16            Low     Regular Air    Prarie        Corporate   \n",
       "3689 2010-03-30            Low  Delivery Truck    Quebec   Small Business   \n",
       "4134 2011-06-06            Low     Regular Air   Ontario        Corporate   \n",
       "7501 2010-02-10            Low     Regular Air      West      Home Office   \n",
       "6382 2010-12-26            Low     Regular Air  Atlantic      Home Office   \n",
       "5962 2011-12-03            Low     Regular Air    Prarie      Home Office   \n",
       "6894 2010-12-26            Low     Regular Air     Yukon      Home Office   \n",
       "2254 2012-09-19            Low     Express Air   Ontario      Home Office   \n",
       "3804 2011-12-17            Low     Regular Air    Quebec        Corporate   \n",
       "3811 2012-05-21            Low     Regular Air    Quebec   Small Business   \n",
       "\n",
       "     Product Category Product Container  Ship Date time_diff  \n",
       "5343  Office Supplies         Small Box 2011-06-25    9 days  \n",
       "3689        Furniture        Jumbo Drum 2010-04-08    9 days  \n",
       "4134  Office Supplies        Small Pack 2011-06-15    9 days  \n",
       "7501  Office Supplies         Small Box 2010-02-19    9 days  \n",
       "6382       Technology        Small Pack 2011-01-17   22 days  \n",
       "5962  Office Supplies          Wrap Bag 2011-12-12    9 days  \n",
       "6894       Technology        Medium Box 2011-01-19   24 days  \n",
       "2254  Office Supplies         Small Box 2012-09-28    9 days  \n",
       "3804  Office Supplies         Small Box 2011-12-26    9 days  \n",
       "3811       Technology         Small Box 2012-05-30    9 days  "
      ]
     },
     "execution_count": 335,
     "metadata": {},
     "output_type": "execute_result"
    }
   ],
   "source": [
    "# This is just to turn off warning\n",
    "pd.set_option('mode.chained_assignment', None)\n",
    "\n",
    "# Lets pick features of our interest and store them as a separate dataframe\n",
    "salesdf_new = salesdf[['Order Date', 'Order Priority', 'Ship Mode', 'Region', 'Customer Segment', 'Product Category', 'Product Container', 'Ship Date']]\n",
    "\n",
    "# Store difference between Ship Date and Order Date as a separate column \n",
    "salesdf_new['time_diff'] = salesdf_new['Ship Date'] - salesdf_new['Order Date']\n",
    "\n",
    "# Sort them in descending order according to time_diff. This would bring deliveries that took more time to the top\n",
    "salesdf_new = salesdf_new.sort_values(by='time_diff', ascending=False)\n",
    "\n",
    "print(\"average time=\" + str(salesdf_new['time_diff'].mean()))\n",
    "\n",
    "# now lets see the stats for top 100 records in this new df\n",
    "salesdf_new = salesdf_new.head(100)\n",
    "print (\"average time for top 100 most delayed deliveries =\" + str(salesdf_new['time_diff'].mean()))\n",
    "\n",
    "# Lets get a sense of whats common among these records\n",
    "salesdf_new.sample(n=10)\n"
   ]
  },
  {
   "cell_type": "markdown",
   "metadata": {},
   "source": [
    "It seems that most of these records are the orders placed with `Low` Order Priority.\n",
    "Lets validate this theory"
   ]
  },
  {
   "cell_type": "code",
   "execution_count": 336,
   "metadata": {},
   "outputs": [
    {
     "name": "stdout",
     "output_type": "stream",
     "text": [
      "percentage of records with Low Order Priority in full dataset = 20.48611111111111\n",
      "percentage of records with Low Order Priority in top 100 most delayed deliveries = 90.0\n"
     ]
    }
   ],
   "source": [
    "# Find % of records with Low Order Priority in full dataset\n",
    "percent_low = ((salesdf[salesdf['Order Priority'] == \"Low\"].shape[0])/salesdf.shape[0])*100\n",
    "\n",
    "# Now lets find % of records with Low Order Priority in top 100 most delayed deliveries\n",
    "percent_low_delayed = ((salesdf_new[salesdf_new['Order Priority'] == \"Low\"].shape[0])/salesdf_new.shape[0])*100\n",
    "\n",
    "print(\"percentage of records with Low Order Priority in full dataset = %s\" % str(percent_low))\n",
    "print(\"percentage of records with Low Order Priority in top 100 most delayed deliveries = %s\" % str(percent_low_delayed))"
   ]
  },
  {
   "cell_type": "markdown",
   "metadata": {},
   "source": [
    "So we can clearly see that % of records with Low Order Priority in top 100 most delayed deliveries is actually much higher than its percentage in full dataset. So we can conclude that records with `Low` Order Priority are taking more time in comparison with others"
   ]
  },
  {
   "cell_type": "code",
   "execution_count": null,
   "metadata": {},
   "outputs": [],
   "source": []
  }
 ],
 "metadata": {
  "kernelspec": {
   "display_name": "Python 3",
   "language": "python",
   "name": "python3"
  },
  "language_info": {
   "codemirror_mode": {
    "name": "ipython",
    "version": 3
   },
   "file_extension": ".py",
   "mimetype": "text/x-python",
   "name": "python",
   "nbconvert_exporter": "python",
   "pygments_lexer": "ipython3",
   "version": "3.7.3"
  }
 },
 "nbformat": 4,
 "nbformat_minor": 2
}
